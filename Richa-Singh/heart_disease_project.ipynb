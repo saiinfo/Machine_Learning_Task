{
 "cells": [
  {
   "cell_type": "code",
   "execution_count": 1,
   "id": "e94f1a12",
   "metadata": {},
   "outputs": [],
   "source": [
    "import tkinter as tk\n",
    "from tkinter import ttk\n",
    "import csv\n",
    "\n",
    "csv_file_path = \"heart_disease.csv\""
   ]
  },
  {
   "cell_type": "code",
   "execution_count": 3,
   "id": "74acfe3f",
   "metadata": {},
   "outputs": [],
   "source": [
    "def on_predict_append():\n",
    "    # Retrieve values from the text fields\n",
    "    age_value = age_entry.get()\n",
    "    sex_value = sex_entry.get()\n",
    "    cp_value = cp_entry.get()\n",
    "    trestbps_value = trestbps_entry.get()\n",
    "    chol_value = chol_entry.get()\n",
    "    fbs_value = fbs_entry.get()\n",
    "    restecg_value = restecg_entry.get()\n",
    "    thalach_value = thalach_entry.get()\n",
    "    exang_value = exang_entry.get()\n",
    "    oldpeak_value = oldpeak_entry.get()\n",
    "    slope_value = slope_entry.get()\n",
    "    ca_value = ca_entry.get()\n",
    "    thal_value = thal_entry.get()\n",
    "    target_value = target_entry.get()\n",
    "\n",
    "    # Here, you can perform any prediction or data processing you need\n",
    "    # For this example, I'll just append the values to the CSV file.\n",
    "    with open(csv_file_path, 'a', newline='') as csvfile:\n",
    "        csv_writer = csv.writer(csvfile)\n",
    "        csv_writer.writerow([age_value, sex_value, cp_value, trestbps_value, chol_value,\n",
    "                             fbs_value, restecg_value, thalach_value, exang_value, oldpeak_value,\n",
    "                             slope_value, ca_value, thal_value, target_value])\n",
    "\n",
    "    print(\"Values appended successfully.\")\n",
    "\n",
    "    # Clear the text entry fields after processing\n",
    "    age_entry.delete(0, tk.END)\n",
    "    sex_entry.delete(0, tk.END)\n",
    "    cp_entry.delete(0, tk.END)\n",
    "    trestbps_entry.delete(0, tk.END)\n",
    "    chol_entry.delete(0, tk.END)\n",
    "    fbs_entry.delete(0, tk.END)\n",
    "    restecg_entry.delete(0, tk.END)\n",
    "    thalach_entry.delete(0, tk.END)\n",
    "    exang_entry.delete(0, tk.END)\n",
    "    oldpeak_entry.delete(0, tk.END)\n",
    "    slope_entry.delete(0, tk.END)\n",
    "    ca_entry.delete(0, tk.END)\n",
    "    thal_entry.delete(0, tk.END)\n",
    "    target_entry.delete(0, tk.END)\n",
    "\n",
    "    print(\"Values appended successfully.\")\n",
    "\n",
    "# Create the main application window\n",
    "app = tk.Tk()\n",
    "app.title(\"Prediction Form\")\n",
    "\n",
    "# Create labels with custom style (blue color)\n",
    "style = ttk.Style()\n",
    "style.configure(\"Blue.TLabel\", foreground=\"blue\", background=\"white\")\n",
    "labels = [\"age\", \"sex\", \"cp\", \"trestbps\", \"chol\",\n",
    "          \"fbs\", \"restecg\", \"thalach\", \"exang\", \"oldpeak\",\n",
    "          \"slope\", \"ca\", \"thal\", \"target\"]\n",
    "label_widgets = [ttk.Label(app, text=label_text.capitalize(), style=\"Blue.TLabel\") for label_text in labels]\n",
    "\n",
    "# Create text entry fields (14 in this case)\n",
    "age_entry = tk.Entry(app)\n",
    "sex_entry = tk.Entry(app)\n",
    "cp_entry = tk.Entry(app)\n",
    "trestbps_entry = tk.Entry(app)\n",
    "chol_entry = tk.Entry(app)\n",
    "fbs_entry = tk.Entry(app)\n",
    "restecg_entry = tk.Entry(app)\n",
    "thalach_entry = tk.Entry(app)\n",
    "exang_entry = tk.Entry(app)\n",
    "oldpeak_entry = tk.Entry(app)\n",
    "slope_entry = tk.Entry(app)\n",
    "ca_entry = tk.Entry(app)\n",
    "thal_entry = tk.Entry(app)\n",
    "target_entry = tk.Entry(app)\n",
    "\n",
    "# Create the \"Predict Append\" button and associate it with the on_predict_append() function\n",
    "predict_button = tk.Button(app, text=\"Append\", command=on_predict_append)\n",
    "\n",
    "# Grid layout\n",
    "for idx, entry in enumerate(label_widgets):\n",
    "    entry.grid(row=idx, column=0, padx=10, pady=5, sticky=\"w\")\n",
    "\n",
    "    # Place the corresponding entry fields\n",
    "    entry_field = eval(f\"{labels[idx]}_entry\")  # Using eval to get the respective entry field\n",
    "    entry_field.grid(row=idx, column=1, padx=10, pady=5, sticky=\"ew\")\n",
    "\n",
    "# Place the \"Predict Append\" button\n",
    "predict_button.grid(row=len(labels), column=0, columnspan=2, padx=10, pady=10)\n",
    "\n",
    "# Start the main event loop\n",
    "app.mainloop()"
   ]
  },
  {
   "cell_type": "code",
   "execution_count": 4,
   "id": "6c8b045e",
   "metadata": {},
   "outputs": [],
   "source": [
    "import pandas as pd\n",
    "import matplotlib.pyplot as plt\n",
    "import seaborn as sns\n",
    "import numpy as np\n",
    "from sklearn.model_selection import train_test_split\n",
    "from sklearn.preprocessing import LabelEncoder\n",
    "from sklearn.linear_model import RidgeClassifier\n",
    "from sklearn.neighbors import RadiusNeighborsClassifier\n",
    "from sklearn.svm import LinearSVC\n",
    "from sklearn.ensemble import ExtraTreesClassifier\n",
    "from sklearn.metrics import accuracy_score, classification_report, confusion_matrix\n",
    "from sklearn.feature_selection import RFECV\n",
    "import time"
   ]
  },
  {
   "cell_type": "code",
   "execution_count": 5,
   "id": "29a56b5b",
   "metadata": {},
   "outputs": [],
   "source": [
    "start_time = time.time()"
   ]
  },
  {
   "cell_type": "code",
   "execution_count": 8,
   "id": "be2e10e5",
   "metadata": {},
   "outputs": [
    {
     "name": "stdout",
     "output_type": "stream",
     "text": [
      "   age  sex  cp  trestbps  chol  fbs  restecg  thalach  exang  oldpeak  slope  \\\n",
      "0   63    1   3       145   233    1        0      150      0      2.3      0   \n",
      "1   37    1   2       130   250    0        1      187      0      3.5      0   \n",
      "2   41    0   1       130   204    0        0      172      0      1.4      2   \n",
      "3   56    1   1       120   236    0        1      178      0      0.8      2   \n",
      "4   57    0   0       120   354    0        1      163      1      0.6      2   \n",
      "\n",
      "   ca  thal  target  \n",
      "0   0     1       1  \n",
      "1   0     2       1  \n",
      "2   0     2       1  \n",
      "3   0     2       1  \n",
      "4   0     2       1  \n"
     ]
    }
   ],
   "source": [
    "\n",
    "data = pd.read_csv(\"heart_disease.csv\")\n",
    "print(data.head())\n"
   ]
  },
  {
   "cell_type": "code",
   "execution_count": 9,
   "id": "4fdfcb2c",
   "metadata": {},
   "outputs": [
    {
     "name": "stdout",
     "output_type": "stream",
     "text": [
      "\n",
      "Dataset with Interaction Term:\n",
      "   age  sex  cp  trestbps  chol  fbs  restecg  thalach  exang  oldpeak  slope  \\\n",
      "0   63    1   3       145   233    1        0      150      0      2.3      0   \n",
      "1   37    1   2       130   250    0        1      187      0      3.5      0   \n",
      "2   41    0   1       130   204    0        0      172      0      1.4      2   \n",
      "3   56    1   1       120   236    0        1      178      0      0.8      2   \n",
      "4   57    0   0       120   354    0        1      163      1      0.6      2   \n",
      "\n",
      "   ca  thal  target  age_thalach_interaction  \n",
      "0   0     1       1                     9450  \n",
      "1   0     2       1                     6919  \n",
      "2   0     2       1                     7052  \n",
      "3   0     2       1                     9968  \n",
      "4   0     2       1                     9291  \n"
     ]
    }
   ],
   "source": [
    "data['age_thalach_interaction'] = data['age'] * data['thalach']\n",
    "# Print the first few rows of the dataset to see the added interaction term\n",
    "print(\"\\nDataset with Interaction Term:\")\n",
    "print(data.head())"
   ]
  },
  {
   "cell_type": "code",
   "execution_count": 11,
   "id": "d1f88a14",
   "metadata": {},
   "outputs": [
    {
     "name": "stdout",
     "output_type": "stream",
     "text": [
      "First few rows of the dataset:\n",
      "   age  sex  cp  trestbps  chol  fbs  restecg  thalach  exang  oldpeak  slope  \\\n",
      "0   63    1   3       145   233    1        0      150      0      2.3      0   \n",
      "1   37    1   2       130   250    0        1      187      0      3.5      0   \n",
      "2   41    0   1       130   204    0        0      172      0      1.4      2   \n",
      "3   56    1   1       120   236    0        1      178      0      0.8      2   \n",
      "4   57    0   0       120   354    0        1      163      1      0.6      2   \n",
      "\n",
      "   ca  thal  target  age_thalach_interaction  \n",
      "0   0     1       1                     9450  \n",
      "1   0     2       1                     6919  \n",
      "2   0     2       1                     7052  \n",
      "3   0     2       1                     9968  \n",
      "4   0     2       1                     9291  \n",
      "\n",
      "Information about the dataset:\n",
      "<class 'pandas.core.frame.DataFrame'>\n",
      "RangeIndex: 307 entries, 0 to 306\n",
      "Data columns (total 15 columns):\n",
      " #   Column                   Non-Null Count  Dtype  \n",
      "---  ------                   --------------  -----  \n",
      " 0   age                      307 non-null    int64  \n",
      " 1   sex                      307 non-null    int64  \n",
      " 2   cp                       307 non-null    int64  \n",
      " 3   trestbps                 307 non-null    int64  \n",
      " 4   chol                     307 non-null    int64  \n",
      " 5   fbs                      307 non-null    int64  \n",
      " 6   restecg                  307 non-null    int64  \n",
      " 7   thalach                  307 non-null    int64  \n",
      " 8   exang                    307 non-null    int64  \n",
      " 9   oldpeak                  307 non-null    float64\n",
      " 10  slope                    307 non-null    int64  \n",
      " 11  ca                       307 non-null    int64  \n",
      " 12  thal                     307 non-null    int64  \n",
      " 13  target                   307 non-null    int64  \n",
      " 14  age_thalach_interaction  307 non-null    int64  \n",
      "dtypes: float64(1), int64(14)\n",
      "memory usage: 36.1 KB\n",
      "None\n",
      "\n",
      "Shape of the dataset:\n",
      "(307, 15)\n",
      "\n",
      "Descriptive statistics of the dataset:\n",
      "              age         sex          cp    trestbps        chol         fbs  \\\n",
      "count  307.000000  307.000000  307.000000  307.000000  307.000000  307.000000   \n",
      "mean    54.149837    0.680782    0.983713  131.700326  246.928339    0.159609   \n",
      "std      9.309688    0.466935    1.036773   17.456990   52.870492    0.366841   \n",
      "min     18.000000    0.000000    0.000000   94.000000  126.000000    0.000000   \n",
      "25%     47.000000    0.000000    0.000000  120.000000  211.000000    0.000000   \n",
      "50%     55.000000    1.000000    1.000000  130.000000  241.000000    0.000000   \n",
      "75%     61.000000    1.000000    2.000000  140.000000  274.500000    0.000000   \n",
      "max     77.000000    1.000000    3.000000  200.000000  564.000000    1.000000   \n",
      "\n",
      "          restecg     thalach       exang     oldpeak       slope          ca  \\\n",
      "count  307.000000  307.000000  307.000000  307.000000  307.000000  307.000000   \n",
      "mean     0.521173  149.925081    0.332248    1.040391    1.400651    0.719870   \n",
      "std      0.525843   23.258653    0.471788    1.156283    0.620246    1.019273   \n",
      "min      0.000000   71.000000    0.000000    0.000000    0.000000    0.000000   \n",
      "25%      0.000000  135.000000    0.000000    0.000000    1.000000    0.000000   \n",
      "50%      1.000000  152.000000    0.000000    0.800000    1.000000    0.000000   \n",
      "75%      1.000000  166.000000    1.000000    1.600000    2.000000    1.000000   \n",
      "max      2.000000  234.000000    1.000000    6.200000    2.000000    4.000000   \n",
      "\n",
      "             thal      target  age_thalach_interaction  \n",
      "count  307.000000  307.000000               307.000000  \n",
      "mean     2.309446    0.540717              8034.013029  \n",
      "std      0.614643    0.499153              1503.303784  \n",
      "min      0.000000    0.000000              2700.000000  \n",
      "25%      2.000000    0.000000              6917.500000  \n",
      "50%      2.000000    1.000000              8112.000000  \n",
      "75%      3.000000    1.000000              9104.000000  \n",
      "max      3.000000    1.000000             12474.000000  \n",
      "\n",
      "Value counts of the target variable:\n",
      "1    166\n",
      "0    141\n",
      "Name: target, dtype: int64\n"
     ]
    }
   ],
   "source": [
    "sns.set_style(\"whitegrid\")\n",
    "plt.style.use(\"fivethirtyeight\")\n",
    "\n",
    "\n",
    "# Display the first few rows of the dataset\n",
    "print(\"First few rows of the dataset:\")\n",
    "print(data.head())\n",
    "\n",
    "# Display information about the dataset\n",
    "print(\"\\nInformation about the dataset:\")\n",
    "print(data.info())\n",
    "\n",
    "# Display the shape of the dataset\n",
    "print(\"\\nShape of the dataset:\")\n",
    "print(data.shape)\n",
    "\n",
    "# Display descriptive statistics of the dataset\n",
    "print(\"\\nDescriptive statistics of the dataset:\")\n",
    "print(data.describe())\n",
    "\n",
    "# Display the value counts of the target variable\n",
    "print(\"\\nValue counts of the target variable:\")\n",
    "print(data['target'].value_counts())"
   ]
  },
  {
   "cell_type": "code",
   "execution_count": 12,
   "id": "4ab39674",
   "metadata": {},
   "outputs": [
    {
     "data": {
      "image/png": "[encoded data removed]",
      "text/plain": [
       "<Figure size 640x480 with 1 Axes>"
      ]
     },
     "metadata": {},
     "output_type": "display_data"
    }
   ],
   "source": [
    "ratio = data['target'].value_counts()\n",
    "labels = ratio.index[0], ratio.index[1]\n",
    "sizes = [ratio.values[0], ratio.values[1]]\n",
    "\n",
    "figure, axis = plt.subplots()\n",
    "axis.pie(sizes, labels=labels, autopct='%1.1f%%', startangle=90)\n",
    "axis.axis('equal')\n",
    "plt.title(\"Distribution of the target variable\")\n",
    "plt.show()"
   ]
  },
  {
   "cell_type": "code",
   "execution_count": 13,
   "id": "b6057b3a",
   "metadata": {},
   "outputs": [
    {
     "name": "stdout",
     "output_type": "stream",
     "text": [
      "\n",
      "Missing values in the dataset:\n",
      "age                        0\n",
      "sex                        0\n",
      "cp                         0\n",
      "trestbps                   0\n",
      "chol                       0\n",
      "fbs                        0\n",
      "restecg                    0\n",
      "thalach                    0\n",
      "exang                      0\n",
      "oldpeak                    0\n",
      "slope                      0\n",
      "ca                         0\n",
      "thal                       0\n",
      "target                     0\n",
      "age_thalach_interaction    0\n",
      "dtype: int64\n"
     ]
    }
   ],
   "source": [
    "print(\"\\nMissing values in the dataset:\")\n",
    "print(data.isna().sum())"
   ]
  },
  {
   "cell_type": "code",
   "execution_count": 16,
   "id": "5668f5bb",
   "metadata": {},
   "outputs": [
    {
     "name": "stdout",
     "output_type": "stream",
     "text": [
      "continuous_val ['age']\n",
      "categorical_val: ['sex']\n",
      "categorical_val: ['sex', 'cp']\n",
      "continuous_val ['age', 'trestbps']\n",
      "continuous_val ['age', 'trestbps', 'chol']\n",
      "categorical_val: ['sex', 'cp', 'fbs']\n",
      "categorical_val: ['sex', 'cp', 'fbs', 'restecg']\n",
      "continuous_val ['age', 'trestbps', 'chol', 'thalach']\n",
      "categorical_val: ['sex', 'cp', 'fbs', 'restecg', 'exang']\n",
      "continuous_val ['age', 'trestbps', 'chol', 'thalach', 'oldpeak']\n",
      "categorical_val: ['sex', 'cp', 'fbs', 'restecg', 'exang', 'slope']\n",
      "categorical_val: ['sex', 'cp', 'fbs', 'restecg', 'exang', 'slope', 'ca']\n",
      "categorical_val: ['sex', 'cp', 'fbs', 'restecg', 'exang', 'slope', 'ca', 'thal']\n",
      "categorical_val: ['sex', 'cp', 'fbs', 'restecg', 'exang', 'slope', 'ca', 'thal', 'target']\n",
      "continuous_val ['age', 'trestbps', 'chol', 'thalach', 'oldpeak', 'age_thalach_interaction']\n"
     ]
    }
   ],
   "source": [
    "categorical_val = []\n",
    "\n",
    "continuous_val = []\n",
    "for column in data.columns:\n",
    "    if len(data[column].unique()) <= 10:\n",
    "        categorical_val.append(column)\n",
    "        print(\"categorical_val:\",categorical_val)\n",
    "    else:\n",
    "        continuous_val.append(column)\n",
    "        print(\"continuous_val\",continuous_val)"
   ]
  },
  {
   "cell_type": "code",
   "execution_count": null,
   "id": "00df1e4d",
   "metadata": {},
   "outputs": [],
   "source": []
  },
  {
   "cell_type": "code",
   "execution_count": null,
   "id": "5b0a49a9",
   "metadata": {},
   "outputs": [],
   "source": []
  },
  {
   "cell_type": "code",
   "execution_count": null,
   "id": "8a753523",
   "metadata": {},
   "outputs": [],
   "source": []
  },
  {
   "cell_type": "code",
   "execution_count": null,
   "id": "51619459",
   "metadata": {},
   "outputs": [],
   "source": []
  }
 ],
 "metadata": {
  "kernelspec": {
   "display_name": "Python 3 (ipykernel)",
   "language": "python",
   "name": "python3"
  },
  "language_info": {
   "codemirror_mode": {
    "name": "ipython",
    "version": 3
   },
   "file_extension": ".py",
   "mimetype": "text/x-python",
   "name": "python",
   "nbconvert_exporter": "python",
   "pygments_lexer": "ipython3",
   "version": "3.9.13"
  }
 },
 "nbformat": 4,
 "nbformat_minor": 5
}
