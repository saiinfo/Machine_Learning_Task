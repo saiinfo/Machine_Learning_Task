{
 "cells": [
  {
   "cell_type": "code",
   "execution_count": 8,
   "id": "568d074b",
   "metadata": {},
   "outputs": [],
   "source": [
    "import numpy as np\n",
    "import pandas as pd\n",
    "import re\n",
    "from nltk.corpus import stopwords\n",
    "from nltk.stem.porter import PorterStemmer\n",
    "from sklearn.feature_extraction.text import TfidfVectorizer\n",
    "from sklearn.model_selection import train_test_split\n",
    "from sklearn.linear_model import LogisticRegression\n",
    "from sklearn.metrics import accuracy_score"
   ]
  },
  {
   "cell_type": "code",
   "execution_count": 3,
   "id": "e15cf355",
   "metadata": {},
   "outputs": [
    {
     "name": "stderr",
     "output_type": "stream",
     "text": [
      "[nltk_data] Downloading package stopwords to\n",
      "[nltk_data]     C:\\Users\\Richa\\AppData\\Roaming\\nltk_data...\n",
      "[nltk_data]   Unzipping corpora\\stopwords.zip.\n"
     ]
    },
    {
     "data": {
      "text/plain": [
       "True"
      ]
     },
     "execution_count": 3,
     "metadata": {},
     "output_type": "execute_result"
    }
   ],
   "source": [
    "import nltk\n",
    "nltk.download('stopwords')"
   ]
  },
  {
   "cell_type": "code",
   "execution_count": 9,
   "id": "a9b49c81",
   "metadata": {},
   "outputs": [
    {
     "name": "stdout",
     "output_type": "stream",
     "text": [
      "['i', 'me', 'my', 'myself', 'we', 'our', 'ours', 'ourselves', 'you', \"you're\", \"you've\", \"you'll\", \"you'd\", 'your', 'yours', 'yourself', 'yourselves', 'he', 'him', 'his', 'himself', 'she', \"she's\", 'her', 'hers', 'herself', 'it', \"it's\", 'its', 'itself', 'they', 'them', 'their', 'theirs', 'themselves', 'what', 'which', 'who', 'whom', 'this', 'that', \"that'll\", 'these', 'those', 'am', 'is', 'are', 'was', 'were', 'be', 'been', 'being', 'have', 'has', 'had', 'having', 'do', 'does', 'did', 'doing', 'a', 'an', 'the', 'and', 'but', 'if', 'or', 'because', 'as', 'until', 'while', 'of', 'at', 'by', 'for', 'with', 'about', 'against', 'between', 'into', 'through', 'during', 'before', 'after', 'above', 'below', 'to', 'from', 'up', 'down', 'in', 'out', 'on', 'off', 'over', 'under', 'again', 'further', 'then', 'once', 'here', 'there', 'when', 'where', 'why', 'how', 'all', 'any', 'both', 'each', 'few', 'more', 'most', 'other', 'some', 'such', 'no', 'nor', 'not', 'only', 'own', 'same', 'so', 'than', 'too', 'very', 's', 't', 'can', 'will', 'just', 'don', \"don't\", 'should', \"should've\", 'now', 'd', 'll', 'm', 'o', 're', 've', 'y', 'ain', 'aren', \"aren't\", 'couldn', \"couldn't\", 'didn', \"didn't\", 'doesn', \"doesn't\", 'hadn', \"hadn't\", 'hasn', \"hasn't\", 'haven', \"haven't\", 'isn', \"isn't\", 'ma', 'mightn', \"mightn't\", 'mustn', \"mustn't\", 'needn', \"needn't\", 'shan', \"shan't\", 'shouldn', \"shouldn't\", 'wasn', \"wasn't\", 'weren', \"weren't\", 'won', \"won't\", 'wouldn', \"wouldn't\"]\n"
     ]
    }
   ],
   "source": [
    "print(stopwords.words('english'))"
   ]
  },
  {
   "cell_type": "code",
   "execution_count": 26,
   "id": "43191e79",
   "metadata": {},
   "outputs": [
    {
     "data": {
      "text/html": [
       "<div>\n",
       "<style scoped>\n",
       "    .dataframe tbody tr th:only-of-type {\n",
       "        vertical-align: middle;\n",
       "    }\n",
       "\n",
       "    .dataframe tbody tr th {\n",
       "        vertical-align: top;\n",
       "    }\n",
       "\n",
       "    .dataframe thead th {\n",
       "        text-align: right;\n",
       "    }\n",
       "</style>\n",
       "<table border=\"1\" class=\"dataframe\">\n",
       "  <thead>\n",
       "    <tr style=\"text-align: right;\">\n",
       "      <th></th>\n",
       "      <th>title</th>\n",
       "      <th>news_url</th>\n",
       "      <th>source_domain</th>\n",
       "      <th>tweet_num</th>\n",
       "      <th>real</th>\n",
       "    </tr>\n",
       "  </thead>\n",
       "  <tbody>\n",
       "    <tr>\n",
       "      <th>0</th>\n",
       "      <td>Kandi Burruss Explodes Over Rape Accusation on...</td>\n",
       "      <td>http://toofab.com/2017/05/08/real-housewives-a...</td>\n",
       "      <td>toofab.com</td>\n",
       "      <td>42</td>\n",
       "      <td>1</td>\n",
       "    </tr>\n",
       "    <tr>\n",
       "      <th>1</th>\n",
       "      <td>People's Choice Awards 2018: The best red carp...</td>\n",
       "      <td>https://www.today.com/style/see-people-s-choic...</td>\n",
       "      <td>www.today.com</td>\n",
       "      <td>0</td>\n",
       "      <td>1</td>\n",
       "    </tr>\n",
       "    <tr>\n",
       "      <th>2</th>\n",
       "      <td>Sophia Bush Sends Sweet Birthday Message to 'O...</td>\n",
       "      <td>https://www.etonline.com/news/220806_sophia_bu...</td>\n",
       "      <td>www.etonline.com</td>\n",
       "      <td>63</td>\n",
       "      <td>1</td>\n",
       "    </tr>\n",
       "    <tr>\n",
       "      <th>3</th>\n",
       "      <td>Colombian singer Maluma sparks rumours of inap...</td>\n",
       "      <td>https://www.dailymail.co.uk/news/article-33655...</td>\n",
       "      <td>www.dailymail.co.uk</td>\n",
       "      <td>20</td>\n",
       "      <td>1</td>\n",
       "    </tr>\n",
       "    <tr>\n",
       "      <th>4</th>\n",
       "      <td>Gossip Girl 10 Years Later: How Upper East Sid...</td>\n",
       "      <td>https://www.zerchoo.com/entertainment/gossip-g...</td>\n",
       "      <td>www.zerchoo.com</td>\n",
       "      <td>38</td>\n",
       "      <td>1</td>\n",
       "    </tr>\n",
       "  </tbody>\n",
       "</table>\n",
       "</div>"
      ],
      "text/plain": [
       "                                               title  \\\n",
       "0  Kandi Burruss Explodes Over Rape Accusation on...   \n",
       "1  People's Choice Awards 2018: The best red carp...   \n",
       "2  Sophia Bush Sends Sweet Birthday Message to 'O...   \n",
       "3  Colombian singer Maluma sparks rumours of inap...   \n",
       "4  Gossip Girl 10 Years Later: How Upper East Sid...   \n",
       "\n",
       "                                            news_url        source_domain  \\\n",
       "0  http://toofab.com/2017/05/08/real-housewives-a...           toofab.com   \n",
       "1  https://www.today.com/style/see-people-s-choic...        www.today.com   \n",
       "2  https://www.etonline.com/news/220806_sophia_bu...     www.etonline.com   \n",
       "3  https://www.dailymail.co.uk/news/article-33655...  www.dailymail.co.uk   \n",
       "4  https://www.zerchoo.com/entertainment/gossip-g...      www.zerchoo.com   \n",
       "\n",
       "   tweet_num  real  \n",
       "0         42     1  \n",
       "1          0     1  \n",
       "2         63     1  \n",
       "3         20     1  \n",
       "4         38     1  "
      ]
     },
     "execution_count": 26,
     "metadata": {},
     "output_type": "execute_result"
    }
   ],
   "source": [
    "news_dataset = pd.read_csv('FakeNewsNet.csv')\n",
    "news_dataset.head()"
   ]
  },
  {
   "cell_type": "code",
   "execution_count": 27,
   "id": "bd40371f",
   "metadata": {},
   "outputs": [
    {
     "data": {
      "text/plain": [
       "(23196, 5)"
      ]
     },
     "execution_count": 27,
     "metadata": {},
     "output_type": "execute_result"
    }
   ],
   "source": [
    "news_dataset.shape"
   ]
  },
  {
   "cell_type": "code",
   "execution_count": 28,
   "id": "879b3f9c",
   "metadata": {},
   "outputs": [
    {
     "data": {
      "text/plain": [
       "title              0\n",
       "news_url         330\n",
       "source_domain    330\n",
       "tweet_num          0\n",
       "real               0\n",
       "dtype: int64"
      ]
     },
     "execution_count": 28,
     "metadata": {},
     "output_type": "execute_result"
    }
   ],
   "source": [
    "news_dataset.isnull().sum()"
   ]
  },
  {
   "cell_type": "code",
   "execution_count": 29,
   "id": "30ab6e73",
   "metadata": {},
   "outputs": [
    {
     "name": "stdout",
     "output_type": "stream",
     "text": [
      "                                                   title  \\\n",
      "0      Kandi Burruss Explodes Over Rape Accusation on...   \n",
      "1      People's Choice Awards 2018: The best red carp...   \n",
      "2      Sophia Bush Sends Sweet Birthday Message to 'O...   \n",
      "3      Colombian singer Maluma sparks rumours of inap...   \n",
      "4      Gossip Girl 10 Years Later: How Upper East Sid...   \n",
      "...                                                  ...   \n",
      "23191  Pippa Middleton wedding: In case you missed it...   \n",
      "23192  Zayn Malik & Gigi Hadid’s Shocking Split: Why ...   \n",
      "23193  Jessica Chastain Recalls the Moment Her Mother...   \n",
      "23194  Tristan Thompson Feels \"Dumped\" After Khloé Ka...   \n",
      "23195  Kelly Clarkson Performs a Medley of Kendrick L...   \n",
      "\n",
      "                                                news_url  \\\n",
      "0      http://toofab.com/2017/05/08/real-housewives-a...   \n",
      "1      https://www.today.com/style/see-people-s-choic...   \n",
      "2      https://www.etonline.com/news/220806_sophia_bu...   \n",
      "3      https://www.dailymail.co.uk/news/article-33655...   \n",
      "4      https://www.zerchoo.com/entertainment/gossip-g...   \n",
      "...                                                  ...   \n",
      "23191  https://www.express.co.uk/news/royal/807049/pi...   \n",
      "23192  hollywoodlife.com/2018/03/13/zayn-malik-gigi-h...   \n",
      "23193  http://www.justjared.com/2018/01/17/jessica-ch...   \n",
      "23194  www.intouchweekly.com/posts/tristan-thompson-f...   \n",
      "23195  https://www.billboard.com/articles/news/bbma/8...   \n",
      "\n",
      "               source_domain  tweet_num  real  \n",
      "0                 toofab.com         42     1  \n",
      "1              www.today.com          0     1  \n",
      "2           www.etonline.com         63     1  \n",
      "3        www.dailymail.co.uk         20     1  \n",
      "4            www.zerchoo.com         38     1  \n",
      "...                      ...        ...   ...  \n",
      "23191      www.express.co.uk         52     1  \n",
      "23192      hollywoodlife.com          7     0  \n",
      "23193      www.justjared.com         26     1  \n",
      "23194  www.intouchweekly.com         24     0  \n",
      "23195      www.billboard.com         85     1  \n",
      "\n",
      "[23196 rows x 5 columns]\n"
     ]
    }
   ],
   "source": [
    "news_dataset = news_dataset.fillna('')\n",
    "print(news_dataset)"
   ]
  },
  {
   "cell_type": "code",
   "execution_count": 30,
   "id": "853aea03",
   "metadata": {},
   "outputs": [
    {
     "name": "stdout",
     "output_type": "stream",
     "text": [
      "0        toofab.com Kandi Burruss Explodes Over Rape Ac...\n",
      "1        www.today.com People's Choice Awards 2018: The...\n",
      "2        www.etonline.com Sophia Bush Sends Sweet Birth...\n",
      "3        www.dailymail.co.uk Colombian singer Maluma sp...\n",
      "4        www.zerchoo.com Gossip Girl 10 Years Later: Ho...\n",
      "                               ...                        \n",
      "23191    www.express.co.uk Pippa Middleton wedding: In ...\n",
      "23192    hollywoodlife.com Zayn Malik & Gigi Hadid’s Sh...\n",
      "23193    www.justjared.com Jessica Chastain Recalls the...\n",
      "23194    www.intouchweekly.com Tristan Thompson Feels \"...\n",
      "23195    www.billboard.com Kelly Clarkson Performs a Me...\n",
      "Name: content, Length: 23196, dtype: object\n"
     ]
    }
   ],
   "source": [
    "news_dataset['content'] = news_dataset['source_domain']+ ' ' +news_dataset['title']\n",
    "print(news_dataset['content'])"
   ]
  },
  {
   "cell_type": "code",
   "execution_count": 34,
   "id": "8bdeb15b",
   "metadata": {},
   "outputs": [
    {
     "name": "stdout",
     "output_type": "stream",
     "text": [
      "                                                   title  \\\n",
      "0      Kandi Burruss Explodes Over Rape Accusation on...   \n",
      "1      People's Choice Awards 2018: The best red carp...   \n",
      "2      Sophia Bush Sends Sweet Birthday Message to 'O...   \n",
      "3      Colombian singer Maluma sparks rumours of inap...   \n",
      "4      Gossip Girl 10 Years Later: How Upper East Sid...   \n",
      "...                                                  ...   \n",
      "23191  Pippa Middleton wedding: In case you missed it...   \n",
      "23192  Zayn Malik & Gigi Hadid’s Shocking Split: Why ...   \n",
      "23193  Jessica Chastain Recalls the Moment Her Mother...   \n",
      "23194  Tristan Thompson Feels \"Dumped\" After Khloé Ka...   \n",
      "23195  Kelly Clarkson Performs a Medley of Kendrick L...   \n",
      "\n",
      "                                                news_url  \\\n",
      "0      http://toofab.com/2017/05/08/real-housewives-a...   \n",
      "1      https://www.today.com/style/see-people-s-choic...   \n",
      "2      https://www.etonline.com/news/220806_sophia_bu...   \n",
      "3      https://www.dailymail.co.uk/news/article-33655...   \n",
      "4      https://www.zerchoo.com/entertainment/gossip-g...   \n",
      "...                                                  ...   \n",
      "23191  https://www.express.co.uk/news/royal/807049/pi...   \n",
      "23192  hollywoodlife.com/2018/03/13/zayn-malik-gigi-h...   \n",
      "23193  http://www.justjared.com/2018/01/17/jessica-ch...   \n",
      "23194  www.intouchweekly.com/posts/tristan-thompson-f...   \n",
      "23195  https://www.billboard.com/articles/news/bbma/8...   \n",
      "\n",
      "               source_domain  tweet_num  \\\n",
      "0                 toofab.com         42   \n",
      "1              www.today.com          0   \n",
      "2           www.etonline.com         63   \n",
      "3        www.dailymail.co.uk         20   \n",
      "4            www.zerchoo.com         38   \n",
      "...                      ...        ...   \n",
      "23191      www.express.co.uk         52   \n",
      "23192      hollywoodlife.com          7   \n",
      "23193      www.justjared.com         26   \n",
      "23194  www.intouchweekly.com         24   \n",
      "23195      www.billboard.com         85   \n",
      "\n",
      "                                                 content  \n",
      "0      toofab.com Kandi Burruss Explodes Over Rape Ac...  \n",
      "1      www.today.com People's Choice Awards 2018: The...  \n",
      "2      www.etonline.com Sophia Bush Sends Sweet Birth...  \n",
      "3      www.dailymail.co.uk Colombian singer Maluma sp...  \n",
      "4      www.zerchoo.com Gossip Girl 10 Years Later: Ho...  \n",
      "...                                                  ...  \n",
      "23191  www.express.co.uk Pippa Middleton wedding: In ...  \n",
      "23192  hollywoodlife.com Zayn Malik & Gigi Hadid’s Sh...  \n",
      "23193  www.justjared.com Jessica Chastain Recalls the...  \n",
      "23194  www.intouchweekly.com Tristan Thompson Feels \"...  \n",
      "23195  www.billboard.com Kelly Clarkson Performs a Me...  \n",
      "\n",
      "[23196 rows x 5 columns]\n",
      "0        1\n",
      "1        1\n",
      "2        1\n",
      "3        1\n",
      "4        1\n",
      "        ..\n",
      "23191    1\n",
      "23192    0\n",
      "23193    1\n",
      "23194    0\n",
      "23195    1\n",
      "Name: real, Length: 23196, dtype: int64\n"
     ]
    }
   ],
   "source": [
    "X = news_dataset.drop(columns='real', axis=1)\n",
    "Y = news_dataset['real']\n",
    "print(X)\n",
    "print(Y)"
   ]
  },
  {
   "cell_type": "code",
   "execution_count": 40,
   "id": "c885a2cf",
   "metadata": {},
   "outputs": [],
   "source": [
    "port_stem = PorterStemmer()\n"
   ]
  },
  {
   "cell_type": "code",
   "execution_count": 38,
   "id": "1757d581",
   "metadata": {},
   "outputs": [],
   "source": [
    "# streaming: it is the process reducing the words to its root word\n",
    "# eg:- actor, actress, acting ----------in these words act is a root word\n",
    "\n",
    "def stemming(content):\n",
    "    stemmed_content = re.sub('[^a-zA-Z]', ' ', content)\n",
    "    stemmed_content = stemmed_content.lower()\n",
    "    stemmed_content = stemmed_content.split()\n",
    "    stemmed_content = [port_stem.stem(word) for word in stemmed_content if not word in stopwords.words('english')]\n",
    "    stemmed_content = ' '.join(stemmed_content)\n",
    "    return stemmed_content\n"
   ]
  },
  {
   "cell_type": "code",
   "execution_count": 41,
   "id": "c5684be1",
   "metadata": {},
   "outputs": [],
   "source": [
    "news_dataset['content'] = news_dataset['content'].apply(stemming)"
   ]
  },
  {
   "cell_type": "code",
   "execution_count": 58,
   "id": "ed0c2e13",
   "metadata": {},
   "outputs": [
    {
     "name": "stdout",
     "output_type": "stream",
     "text": [
      "0        toofab com kandi burruss explod rape accu real...\n",
      "1        www today com peopl choic award best red carpe...\n",
      "2        www etonlin com sophia bush send sweet birthda...\n",
      "3        www dailymail co uk colombian singer maluma sp...\n",
      "4        www zerchoo com gossip girl year later upper e...\n",
      "                               ...                        \n",
      "23191    www express co uk pippa middleton wed case mis...\n",
      "23192    hollywoodlif com zayn malik gigi hadid shock s...\n",
      "23193    www justjar com jessica chastain recal moment ...\n",
      "23194    www intouchweekli com tristan thompson feel du...\n",
      "23195    www billboard com kelli clarkson perform medle...\n",
      "Name: content, Length: 23196, dtype: object\n"
     ]
    }
   ],
   "source": [
    "print(news_dataset['content'])"
   ]
  },
  {
   "cell_type": "code",
   "execution_count": 59,
   "id": "8147eea6",
   "metadata": {},
   "outputs": [
    {
     "name": "stdout",
     "output_type": "stream",
     "text": [
      "['toofab com kandi burruss explod rape accu real housew atlanta reunion video'\n",
      " 'www today com peopl choic award best red carpet look'\n",
      " 'www etonlin com sophia bush send sweet birthday messag one tree hill co star hilari burton breyton eva'\n",
      " ...\n",
      " 'www justjar com jessica chastain recal moment mother boyfriend slap kick genit'\n",
      " 'www intouchweekli com tristan thompson feel dump khlo kardashian refu let move la home exclu'\n",
      " 'www billboard com kelli clarkson perform medley kendrick lamar humbl hit billboard music award']\n",
      "[1 1 1 ... 1 0 1]\n"
     ]
    }
   ],
   "source": [
    "X = news_dataset['content'].values\n",
    "Y = news_dataset['real'].values\n",
    "print(X)\n",
    "print(Y)"
   ]
  },
  {
   "cell_type": "code",
   "execution_count": 62,
   "id": "b39ecd09",
   "metadata": {},
   "outputs": [
    {
     "data": {
      "text/plain": [
       "(23196,)"
      ]
     },
     "execution_count": 62,
     "metadata": {},
     "output_type": "execute_result"
    }
   ],
   "source": [
    "Y.shape"
   ]
  },
  {
   "cell_type": "code",
   "execution_count": 64,
   "id": "3f40db04",
   "metadata": {},
   "outputs": [
    {
     "name": "stdout",
     "output_type": "stream",
     "text": [
      "  (0, 13591)\t0.21108934405813048\n",
      "  (0, 12894)\t0.29467349125048065\n",
      "  (0, 10494)\t0.2543303205934995\n",
      "  (0, 10203)\t0.23128301802698972\n",
      "  (0, 10151)\t0.30215839846863407\n",
      "  (0, 6597)\t0.3874939993343693\n",
      "  (0, 5845)\t0.2612462026749161\n",
      "  (0, 4159)\t0.3550616497873391\n",
      "  (0, 2447)\t0.05082186658865081\n",
      "  (0, 1698)\t0.3874939993343693\n",
      "  (0, 645)\t0.3073756565758506\n",
      "  (0, 56)\t0.2597097788538541\n",
      "  (1, 14182)\t0.10189043319535993\n",
      "  (1, 12860)\t0.36817044163275126\n",
      "  (1, 10274)\t0.37702288594702094\n",
      "  (1, 9409)\t0.23697414575567807\n",
      "  (1, 7380)\t0.33284454859410584\n",
      "  (1, 2447)\t0.08159478582438673\n",
      "  (1, 2208)\t0.42251489448694257\n",
      "  (1, 1906)\t0.3875096512688879\n",
      "  (1, 1093)\t0.33844294892026705\n",
      "  (1, 722)\t0.3083771474680274\n",
      "  (2, 14182)\t0.05442978142050365\n",
      "  (2, 13031)\t0.30452204896780216\n",
      "  (2, 12300)\t0.2331559845985754\n",
      "  :\t:\n",
      "  (23194, 10318)\t0.31860580642240854\n",
      "  (23194, 8327)\t0.28221547915154177\n",
      "  (23194, 7179)\t0.3087048153381826\n",
      "  (23194, 6943)\t0.26381957644897924\n",
      "  (23194, 6746)\t0.2878505190105094\n",
      "  (23194, 6610)\t0.17479540394859375\n",
      "  (23194, 6192)\t0.2892592246490865\n",
      "  (23194, 5755)\t0.2632849856372538\n",
      "  (23194, 4350)\t0.2692478125672807\n",
      "  (23194, 4123)\t0.24664304708295878\n",
      "  (23194, 3665)\t0.31679451408881903\n",
      "  (23194, 2447)\t0.052990902225420834\n",
      "  (23195, 14182)\t0.060323396576666556\n",
      "  (23195, 9430)\t0.23609444741706065\n",
      "  (23195, 8400)\t0.21409156547616323\n",
      "  (23195, 7903)\t0.3500409208295561\n",
      "  (23195, 6986)\t0.2988459804176233\n",
      "  (23195, 6698)\t0.33243273972601206\n",
      "  (23195, 6681)\t0.23172295312137026\n",
      "  (23195, 5895)\t0.3819332333944831\n",
      "  (23195, 5709)\t0.2561748235324755\n",
      "  (23195, 2447)\t0.04830752475490311\n",
      "  (23195, 2306)\t0.27348859087437083\n",
      "  (23195, 1159)\t0.44359883337472966\n",
      "  (23195, 722)\t0.18257216480989652\n"
     ]
    }
   ],
   "source": [
    "# converting textual data into numerical data\n",
    "\n",
    "vectorizer = TfidfVectorizer()\n",
    "vectorizer.fit(X)\n",
    "X = vectorizer.transform(X)\n",
    "print(X)"
   ]
  },
  {
   "cell_type": "code",
   "execution_count": 66,
   "id": "09100cfb",
   "metadata": {},
   "outputs": [
    {
     "data": {
      "text/html": [
       "<style>#sk-container-id-1 {color: black;}#sk-container-id-1 pre{padding: 0;}#sk-container-id-1 div.sk-toggleable {background-color: white;}#sk-container-id-1 label.sk-toggleable__label {cursor: pointer;display: block;width: 100%;margin-bottom: 0;padding: 0.3em;box-sizing: border-box;text-align: center;}#sk-container-id-1 label.sk-toggleable__label-arrow:before {content: \"▸\";float: left;margin-right: 0.25em;color: #696969;}#sk-container-id-1 label.sk-toggleable__label-arrow:hover:before {color: black;}#sk-container-id-1 div.sk-estimator:hover label.sk-toggleable__label-arrow:before {color: black;}#sk-container-id-1 div.sk-toggleable__content {max-height: 0;max-width: 0;overflow: hidden;text-align: left;background-color: #f0f8ff;}#sk-container-id-1 div.sk-toggleable__content pre {margin: 0.2em;color: black;border-radius: 0.25em;background-color: #f0f8ff;}#sk-container-id-1 input.sk-toggleable__control:checked~div.sk-toggleable__content {max-height: 200px;max-width: 100%;overflow: auto;}#sk-container-id-1 input.sk-toggleable__control:checked~label.sk-toggleable__label-arrow:before {content: \"▾\";}#sk-container-id-1 div.sk-estimator input.sk-toggleable__control:checked~label.sk-toggleable__label {background-color: #d4ebff;}#sk-container-id-1 div.sk-label input.sk-toggleable__control:checked~label.sk-toggleable__label {background-color: #d4ebff;}#sk-container-id-1 input.sk-hidden--visually {border: 0;clip: rect(1px 1px 1px 1px);clip: rect(1px, 1px, 1px, 1px);height: 1px;margin: -1px;overflow: hidden;padding: 0;position: absolute;width: 1px;}#sk-container-id-1 div.sk-estimator {font-family: monospace;background-color: #f0f8ff;border: 1px dotted black;border-radius: 0.25em;box-sizing: border-box;margin-bottom: 0.5em;}#sk-container-id-1 div.sk-estimator:hover {background-color: #d4ebff;}#sk-container-id-1 div.sk-parallel-item::after {content: \"\";width: 100%;border-bottom: 1px solid gray;flex-grow: 1;}#sk-container-id-1 div.sk-label:hover label.sk-toggleable__label {background-color: #d4ebff;}#sk-container-id-1 div.sk-serial::before {content: \"\";position: absolute;border-left: 1px solid gray;box-sizing: border-box;top: 0;bottom: 0;left: 50%;z-index: 0;}#sk-container-id-1 div.sk-serial {display: flex;flex-direction: column;align-items: center;background-color: white;padding-right: 0.2em;padding-left: 0.2em;position: relative;}#sk-container-id-1 div.sk-item {position: relative;z-index: 1;}#sk-container-id-1 div.sk-parallel {display: flex;align-items: stretch;justify-content: center;background-color: white;position: relative;}#sk-container-id-1 div.sk-item::before, #sk-container-id-1 div.sk-parallel-item::before {content: \"\";position: absolute;border-left: 1px solid gray;box-sizing: border-box;top: 0;bottom: 0;left: 50%;z-index: -1;}#sk-container-id-1 div.sk-parallel-item {display: flex;flex-direction: column;z-index: 1;position: relative;background-color: white;}#sk-container-id-1 div.sk-parallel-item:first-child::after {align-self: flex-end;width: 50%;}#sk-container-id-1 div.sk-parallel-item:last-child::after {align-self: flex-start;width: 50%;}#sk-container-id-1 div.sk-parallel-item:only-child::after {width: 0;}#sk-container-id-1 div.sk-dashed-wrapped {border: 1px dashed gray;margin: 0 0.4em 0.5em 0.4em;box-sizing: border-box;padding-bottom: 0.4em;background-color: white;}#sk-container-id-1 div.sk-label label {font-family: monospace;font-weight: bold;display: inline-block;line-height: 1.2em;}#sk-container-id-1 div.sk-label-container {text-align: center;}#sk-container-id-1 div.sk-container {/* jupyter's `normalize.less` sets `[hidden] { display: none; }` but bootstrap.min.css set `[hidden] { display: none !important; }` so we also need the `!important` here to be able to override the default hidden behavior on the sphinx rendered scikit-learn.org. See: https://github.com/scikit-learn/scikit-learn/issues/21755 */display: inline-block !important;position: relative;}#sk-container-id-1 div.sk-text-repr-fallback {display: none;}</style><div id=\"sk-container-id-1\" class=\"sk-top-container\"><div class=\"sk-text-repr-fallback\"><pre>LogisticRegression()</pre><b>In a Jupyter environment, please rerun this cell to show the HTML representation or trust the notebook. <br />On GitHub, the HTML representation is unable to render, please try loading this page with nbviewer.org.</b></div><div class=\"sk-container\" hidden><div class=\"sk-item\"><div class=\"sk-estimator sk-toggleable\"><input class=\"sk-toggleable__control sk-hidden--visually\" id=\"sk-estimator-id-1\" type=\"checkbox\" checked><label for=\"sk-estimator-id-1\" class=\"sk-toggleable__label sk-toggleable__label-arrow\">LogisticRegression</label><div class=\"sk-toggleable__content\"><pre>LogisticRegression()</pre></div></div></div></div></div>"
      ],
      "text/plain": [
       "LogisticRegression()"
      ]
     },
     "execution_count": 66,
     "metadata": {},
     "output_type": "execute_result"
    }
   ],
   "source": [
    "X_train, X_test, Y_train, Y_test = train_test_split(X, Y, test_size = 0.2, stratify = Y, random_state = 2)\n",
    "model = LogisticRegression()\n",
    "model.fit(X_train, Y_train)\n"
   ]
  },
  {
   "cell_type": "code",
   "execution_count": 69,
   "id": "7179f4a3",
   "metadata": {},
   "outputs": [
    {
     "name": "stdout",
     "output_type": "stream",
     "text": [
      "accuracy score of the data : 0.8828411295537831\n"
     ]
    }
   ],
   "source": [
    "X_train_predict = model.predict(X_train)\n",
    "training_data_accuracy = accuracy_score(X_train_predict, Y_train)\n",
    "print(\"accuracy score of the data :\",training_data_accuracy )"
   ]
  },
  {
   "cell_type": "code",
   "execution_count": 71,
   "id": "898b6669",
   "metadata": {},
   "outputs": [
    {
     "name": "stdout",
     "output_type": "stream",
     "text": [
      "[1]\n",
      "the news is fake\n"
     ]
    }
   ],
   "source": [
    "X_new = X_test[0]\n",
    "prediction = model.predict(X_new)\n",
    "print(prediction)\n",
    "if (prediction[0]==0):\n",
    "    print('the news is real')\n",
    "else:\n",
    "    print('the news is fake')"
   ]
  },
  {
   "cell_type": "code",
   "execution_count": null,
   "id": "af42db5b",
   "metadata": {},
   "outputs": [],
   "source": []
  }
 ],
 "metadata": {
  "kernelspec": {
   "display_name": "Python 3 (ipykernel)",
   "language": "python",
   "name": "python3"
  },
  "language_info": {
   "codemirror_mode": {
    "name": "ipython",
    "version": 3
   },
   "file_extension": ".py",
   "mimetype": "text/x-python",
   "name": "python",
   "nbconvert_exporter": "python",
   "pygments_lexer": "ipython3",
   "version": "3.9.13"
  }
 },
 "nbformat": 4,
 "nbformat_minor": 5
}
