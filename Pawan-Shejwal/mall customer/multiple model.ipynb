{
 "cells": [
  {
   "cell_type": "code",
   "execution_count": 1,
   "id": "c72219c4",
   "metadata": {},
   "outputs": [],
   "source": [
    "#using classifications model\n",
    "import pandas as pd\n",
    "from sklearn.model_selection import train_test_split\n",
    "from sklearn.preprocessing import LabelEncoder, StandardScaler\n",
    "from sklearn.linear_model import LogisticRegression\n",
    "from sklearn.ensemble import RandomForestClassifier\n",
    "from sklearn.svm import SVC\n",
    "from sklearn.neighbors import KNeighborsClassifier\n",
    "from sklearn.metrics import accuracy_score, classification_report"
   ]
  },
  {
   "cell_type": "code",
   "execution_count": 2,
   "id": "4a5c16eb",
   "metadata": {},
   "outputs": [],
   "source": [
    "dataset =pd.read_csv(\"Mall_Customers.csv\")"
   ]
  },
  {
   "cell_type": "code",
   "execution_count": 30,
   "id": "fe488378",
   "metadata": {},
   "outputs": [
    {
     "name": "stdout",
     "output_type": "stream",
     "text": [
      "     Spending Score (1-100)\n",
      "95                       52\n",
      "15                       79\n",
      "30                        4\n",
      "158                       1\n",
      "128                      11\n",
      "115                      50\n",
      "69                       47\n",
      "170                      13\n",
      "174                      13\n",
      "45                       65\n",
      "66                       50\n",
      "182                      15\n",
      "165                      75\n",
      "78                       52\n",
      "186                      24\n",
      "177                      69\n",
      "56                       50\n",
      "152                      20\n",
      "82                       41\n",
      "68                       59\n",
      "124                      29\n",
      "16                       35\n",
      "148                      22\n",
      "93                       40\n",
      "65                       59\n",
      "60                       56\n",
      "84                       57\n",
      "67                       48\n",
      "125                      77\n",
      "132                      34\n",
      "9                        72\n",
      "18                       29\n",
      "55                       41\n",
      "75                       54\n",
      "150                      17\n",
      "104                      56\n",
      "135                      88\n",
      "137                      73\n",
      "164                      26\n",
      "76                       53\n"
     ]
    }
   ],
   "source": [
    "label_encoder = LabelEncoder()\n",
    "dataset['Gender'] = label_encoder.fit_transform(dataset['Gender'])\n",
    "\n",
    "# Split the data into features (X) and target (y)\n",
    "X=dataset.drop(['CustomerID','Spending Score (1-100)'],axis=1)\n",
    "y =dataset.drop(['Annual Income (k$)','Gender','Age','CustomerID'],axis=1)\n",
    "\n",
    "\n",
    "print(y_test)"
   ]
  },
  {
   "cell_type": "code",
   "execution_count": 19,
   "id": "ecb27eea",
   "metadata": {},
   "outputs": [],
   "source": [
    "# Split the data into training and testing sets\n",
    "X_train, X_test, y_train, y_test = train_test_split(X, y, test_size=0.2, random_state=42)\n"
   ]
  },
  {
   "cell_type": "code",
   "execution_count": 7,
   "id": "45ed0297",
   "metadata": {},
   "outputs": [],
   "source": []
  },
  {
   "cell_type": "code",
   "execution_count": null,
   "id": "20ed7b73",
   "metadata": {},
   "outputs": [],
   "source": [
    "# Standardize the features \n",
    "scaler = StandardScaler()\n",
    "X_train = scaler.fit_transform(X_train)\n",
    "X_test = scaler.transform(X_test)"
   ]
  },
  {
   "cell_type": "code",
   "execution_count": 13,
   "id": "1f54c4a7",
   "metadata": {},
   "outputs": [
    {
     "name": "stderr",
     "output_type": "stream",
     "text": [
      "C:\\Users\\pawan\\anaconda3\\lib\\site-packages\\sklearn\\utils\\validation.py:1143: DataConversionWarning: A column-vector y was passed when a 1d array was expected. Please change the shape of y to (n_samples, ), for example using ravel().\n",
      "  y = column_or_1d(y, warn=True)\n",
      "C:\\Users\\pawan\\anaconda3\\lib\\site-packages\\sklearn\\linear_model\\_logistic.py:458: ConvergenceWarning: lbfgs failed to converge (status=1):\n",
      "STOP: TOTAL NO. of ITERATIONS REACHED LIMIT.\n",
      "\n",
      "Increase the number of iterations (max_iter) or scale the data as shown in:\n",
      "    https://scikit-learn.org/stable/modules/preprocessing.html\n",
      "Please also refer to the documentation for alternative solver options:\n",
      "    https://scikit-learn.org/stable/modules/linear_model.html#logistic-regression\n",
      "  n_iter_i = _check_optimize_result(\n"
     ]
    }
   ],
   "source": [
    "# 1. Logistic Regression\n",
    "logistic_model = LogisticRegression()\n",
    "logistic_model.fit(X_train, y_train)\n",
    "logistic_predictions = logistic_model.predict(X_test)\n",
    "logistic_accuracy = accuracy_score(y_test, logistic_predictions)"
   ]
  },
  {
   "cell_type": "code",
   "execution_count": 8,
   "id": "2c029e2c",
   "metadata": {},
   "outputs": [
    {
     "name": "stderr",
     "output_type": "stream",
     "text": [
      "C:\\Users\\pawan\\AppData\\Local\\Temp\\ipykernel_13652\\2033733280.py:3: DataConversionWarning: A column-vector y was passed when a 1d array was expected. Please change the shape of y to (n_samples,), for example using ravel().\n",
      "  rf_model.fit(X_train, y_train)\n"
     ]
    }
   ],
   "source": [
    "# 2. Random Forest Classifier\n",
    "rf_model = RandomForestClassifier()\n",
    "rf_model.fit(X_train, y_train)\n",
    "rf_predictions = rf_model.predict(X_test)\n",
    "rf_accuracy = accuracy_score(y_test, rf_predictions)\n"
   ]
  },
  {
   "cell_type": "code",
   "execution_count": 14,
   "id": "c9b7c9a4",
   "metadata": {},
   "outputs": [
    {
     "name": "stderr",
     "output_type": "stream",
     "text": [
      "C:\\Users\\pawan\\anaconda3\\lib\\site-packages\\sklearn\\utils\\validation.py:1143: DataConversionWarning: A column-vector y was passed when a 1d array was expected. Please change the shape of y to (n_samples, ), for example using ravel().\n",
      "  y = column_or_1d(y, warn=True)\n"
     ]
    }
   ],
   "source": [
    "#  Support Vector Machine \n",
    "svm_model = SVC()\n",
    "svm_model.fit(X_train, y_train)\n",
    "svm_predictions = svm_model.predict(X_test)\n",
    "svm_accuracy = accuracy_score(y_test, svm_predictions)\n"
   ]
  },
  {
   "cell_type": "code",
   "execution_count": 15,
   "id": "691be35a",
   "metadata": {},
   "outputs": [
    {
     "name": "stderr",
     "output_type": "stream",
     "text": [
      "C:\\Users\\pawan\\anaconda3\\lib\\site-packages\\sklearn\\neighbors\\_classification.py:215: DataConversionWarning: A column-vector y was passed when a 1d array was expected. Please change the shape of y to (n_samples,), for example using ravel().\n",
      "  return self._fit(X, y)\n"
     ]
    }
   ],
   "source": [
    "# K-Nearest Neighbors \n",
    "knn_model = KNeighborsClassifier()\n",
    "knn_model.fit(X_train, y_train)\n",
    "knn_predictions = knn_model.predict(X_test)\n",
    "knn_accuracy = accuracy_score(y_test, knn_predictions)"
   ]
  },
  {
   "cell_type": "code",
   "execution_count": 16,
   "id": "f9af040c",
   "metadata": {},
   "outputs": [
    {
     "name": "stdout",
     "output_type": "stream",
     "text": [
      "Logistic Regression Accuracy: 0.0\n",
      "Random Forest Accuracy: 0.025\n",
      "SVM Accuracy: 0.0\n",
      "KNN Accuracy: 0.025\n"
     ]
    }
   ],
   "source": [
    "# Evaluate and compare the model performances\n",
    "print(\"Logistic Regression Accuracy:\", logistic_accuracy)\n",
    "print(\"Random Forest Accuracy:\", rf_accuracy)\n",
    "print(\"SVM Accuracy:\", svm_accuracy)\n",
    "print(\"KNN Accuracy:\", knn_accuracy)"
   ]
  },
  {
   "cell_type": "code",
   "execution_count": 17,
   "id": "c4853a48",
   "metadata": {},
   "outputs": [
    {
     "name": "stdout",
     "output_type": "stream",
     "text": [
      "Logistic Regression Report:\n",
      "               precision    recall  f1-score   support\n",
      "\n",
      "           1       0.00      0.00      0.00       1.0\n",
      "           4       0.00      0.00      0.00       1.0\n",
      "          11       0.00      0.00      0.00       1.0\n",
      "          13       0.00      0.00      0.00       2.0\n",
      "          14       0.00      0.00      0.00       0.0\n",
      "          15       0.00      0.00      0.00       1.0\n",
      "          17       0.00      0.00      0.00       1.0\n",
      "          20       0.00      0.00      0.00       1.0\n",
      "          22       0.00      0.00      0.00       1.0\n",
      "          24       0.00      0.00      0.00       1.0\n",
      "          26       0.00      0.00      0.00       1.0\n",
      "          29       0.00      0.00      0.00       2.0\n",
      "          34       0.00      0.00      0.00       1.0\n",
      "          35       0.00      0.00      0.00       1.0\n",
      "          40       0.00      0.00      0.00       1.0\n",
      "          41       0.00      0.00      0.00       2.0\n",
      "          42       0.00      0.00      0.00       0.0\n",
      "          46       0.00      0.00      0.00       0.0\n",
      "          47       0.00      0.00      0.00       1.0\n",
      "          48       0.00      0.00      0.00       1.0\n",
      "          50       0.00      0.00      0.00       3.0\n",
      "          52       0.00      0.00      0.00       2.0\n",
      "          53       0.00      0.00      0.00       1.0\n",
      "          54       0.00      0.00      0.00       1.0\n",
      "          55       0.00      0.00      0.00       0.0\n",
      "          56       0.00      0.00      0.00       2.0\n",
      "          57       0.00      0.00      0.00       1.0\n",
      "          59       0.00      0.00      0.00       2.0\n",
      "          65       0.00      0.00      0.00       1.0\n",
      "          69       0.00      0.00      0.00       1.0\n",
      "          72       0.00      0.00      0.00       1.0\n",
      "          73       0.00      0.00      0.00       1.0\n",
      "          75       0.00      0.00      0.00       1.0\n",
      "          77       0.00      0.00      0.00       1.0\n",
      "          79       0.00      0.00      0.00       1.0\n",
      "          83       0.00      0.00      0.00       0.0\n",
      "          86       0.00      0.00      0.00       0.0\n",
      "          88       0.00      0.00      0.00       1.0\n",
      "          97       0.00      0.00      0.00       0.0\n",
      "\n",
      "    accuracy                           0.00      40.0\n",
      "   macro avg       0.00      0.00      0.00      40.0\n",
      "weighted avg       0.00      0.00      0.00      40.0\n",
      "\n",
      "Random Forest Report:\n",
      "               precision    recall  f1-score   support\n",
      "\n",
      "           1       0.00      0.00      0.00         1\n",
      "           4       0.50      1.00      0.67         1\n",
      "           9       0.00      0.00      0.00         0\n",
      "          11       0.00      0.00      0.00         1\n",
      "          13       0.00      0.00      0.00         2\n",
      "          15       0.00      0.00      0.00         1\n",
      "          16       0.00      0.00      0.00         0\n",
      "          17       0.00      0.00      0.00         1\n",
      "          20       0.00      0.00      0.00         1\n",
      "          22       0.00      0.00      0.00         1\n",
      "          24       0.00      0.00      0.00         1\n",
      "          26       0.00      0.00      0.00         1\n",
      "          27       0.00      0.00      0.00         0\n",
      "          29       0.00      0.00      0.00         2\n",
      "          34       0.00      0.00      0.00         1\n",
      "          35       0.00      0.00      0.00         1\n",
      "          36       0.00      0.00      0.00         0\n",
      "          40       0.00      0.00      0.00         1\n",
      "          41       0.00      0.00      0.00         2\n",
      "          42       0.00      0.00      0.00         0\n",
      "          44       0.00      0.00      0.00         0\n",
      "          45       0.00      0.00      0.00         0\n",
      "          46       0.00      0.00      0.00         0\n",
      "          47       0.00      0.00      0.00         1\n",
      "          48       0.00      0.00      0.00         1\n",
      "          50       0.00      0.00      0.00         3\n",
      "          52       0.00      0.00      0.00         2\n",
      "          53       0.00      0.00      0.00         1\n",
      "          54       0.00      0.00      0.00         1\n",
      "          55       0.00      0.00      0.00         0\n",
      "          56       0.00      0.00      0.00         2\n",
      "          57       0.00      0.00      0.00         1\n",
      "          59       0.00      0.00      0.00         2\n",
      "          60       0.00      0.00      0.00         0\n",
      "          61       0.00      0.00      0.00         0\n",
      "          65       0.00      0.00      0.00         1\n",
      "          66       0.00      0.00      0.00         0\n",
      "          69       0.00      0.00      0.00         1\n",
      "          71       0.00      0.00      0.00         0\n",
      "          72       0.00      0.00      0.00         1\n",
      "          73       0.00      0.00      0.00         1\n",
      "          74       0.00      0.00      0.00         0\n",
      "          75       0.00      0.00      0.00         1\n",
      "          77       0.00      0.00      0.00         1\n",
      "          79       0.00      0.00      0.00         1\n",
      "          88       0.00      0.00      0.00         1\n",
      "          90       0.00      0.00      0.00         0\n",
      "          93       0.00      0.00      0.00         0\n",
      "          99       0.00      0.00      0.00         0\n",
      "\n",
      "    accuracy                           0.03        40\n",
      "   macro avg       0.01      0.02      0.01        40\n",
      "weighted avg       0.01      0.03      0.02        40\n",
      "\n",
      "SVM Report:\n",
      "               precision    recall  f1-score   support\n",
      "\n",
      "           1       0.00      0.00      0.00       1.0\n",
      "           4       0.00      0.00      0.00       1.0\n",
      "          11       0.00      0.00      0.00       1.0\n",
      "          13       0.00      0.00      0.00       2.0\n",
      "          14       0.00      0.00      0.00       0.0\n",
      "          15       0.00      0.00      0.00       1.0\n",
      "          17       0.00      0.00      0.00       1.0\n",
      "          20       0.00      0.00      0.00       1.0\n",
      "          22       0.00      0.00      0.00       1.0\n",
      "          24       0.00      0.00      0.00       1.0\n",
      "          26       0.00      0.00      0.00       1.0\n",
      "          29       0.00      0.00      0.00       2.0\n",
      "          34       0.00      0.00      0.00       1.0\n",
      "          35       0.00      0.00      0.00       1.0\n",
      "          40       0.00      0.00      0.00       1.0\n",
      "          41       0.00      0.00      0.00       2.0\n",
      "          42       0.00      0.00      0.00       0.0\n",
      "          47       0.00      0.00      0.00       1.0\n",
      "          48       0.00      0.00      0.00       1.0\n",
      "          50       0.00      0.00      0.00       3.0\n",
      "          52       0.00      0.00      0.00       2.0\n",
      "          53       0.00      0.00      0.00       1.0\n",
      "          54       0.00      0.00      0.00       1.0\n",
      "          56       0.00      0.00      0.00       2.0\n",
      "          57       0.00      0.00      0.00       1.0\n",
      "          59       0.00      0.00      0.00       2.0\n",
      "          65       0.00      0.00      0.00       1.0\n",
      "          69       0.00      0.00      0.00       1.0\n",
      "          72       0.00      0.00      0.00       1.0\n",
      "          73       0.00      0.00      0.00       1.0\n",
      "          75       0.00      0.00      0.00       1.0\n",
      "          77       0.00      0.00      0.00       1.0\n",
      "          79       0.00      0.00      0.00       1.0\n",
      "          88       0.00      0.00      0.00       1.0\n",
      "\n",
      "    accuracy                           0.00      40.0\n",
      "   macro avg       0.00      0.00      0.00      40.0\n",
      "weighted avg       0.00      0.00      0.00      40.0\n",
      "\n",
      "KNN Report:\n",
      "               precision    recall  f1-score   support\n",
      "\n",
      "           1       0.50      1.00      0.67         1\n",
      "           4       0.00      0.00      0.00         1\n",
      "           5       0.00      0.00      0.00         0\n",
      "           6       0.00      0.00      0.00         0\n",
      "           7       0.00      0.00      0.00         0\n",
      "          10       0.00      0.00      0.00         0\n",
      "          11       0.00      0.00      0.00         1\n",
      "          13       0.00      0.00      0.00         2\n",
      "          14       0.00      0.00      0.00         0\n",
      "          15       0.00      0.00      0.00         1\n",
      "          17       0.00      0.00      0.00         1\n",
      "          20       0.00      0.00      0.00         1\n",
      "          22       0.00      0.00      0.00         1\n",
      "          24       0.00      0.00      0.00         1\n",
      "          26       0.00      0.00      0.00         1\n",
      "          28       0.00      0.00      0.00         0\n",
      "          29       0.00      0.00      0.00         2\n",
      "          34       0.00      0.00      0.00         1\n",
      "          35       0.00      0.00      0.00         1\n",
      "          40       0.00      0.00      0.00         1\n",
      "          41       0.00      0.00      0.00         2\n",
      "          42       0.00      0.00      0.00         0\n",
      "          43       0.00      0.00      0.00         0\n",
      "          45       0.00      0.00      0.00         0\n",
      "          46       0.00      0.00      0.00         0\n",
      "          47       0.00      0.00      0.00         1\n",
      "          48       0.00      0.00      0.00         1\n",
      "          50       0.00      0.00      0.00         3\n",
      "          52       0.00      0.00      0.00         2\n",
      "          53       0.00      0.00      0.00         1\n",
      "          54       0.00      0.00      0.00         1\n",
      "          55       0.00      0.00      0.00         0\n",
      "          56       0.00      0.00      0.00         2\n",
      "          57       0.00      0.00      0.00         1\n",
      "          59       0.00      0.00      0.00         2\n",
      "          63       0.00      0.00      0.00         0\n",
      "          65       0.00      0.00      0.00         1\n",
      "          69       0.00      0.00      0.00         1\n",
      "          71       0.00      0.00      0.00         0\n",
      "          72       0.00      0.00      0.00         1\n",
      "          73       0.00      0.00      0.00         1\n",
      "          75       0.00      0.00      0.00         1\n",
      "          77       0.00      0.00      0.00         1\n",
      "          79       0.00      0.00      0.00         1\n",
      "          88       0.00      0.00      0.00         1\n",
      "\n",
      "    accuracy                           0.03        40\n",
      "   macro avg       0.01      0.02      0.01        40\n",
      "weighted avg       0.01      0.03      0.02        40\n",
      "\n"
     ]
    },
    {
     "name": "stderr",
     "output_type": "stream",
     "text": [
      "C:\\Users\\pawan\\anaconda3\\lib\\site-packages\\sklearn\\metrics\\_classification.py:1344: UndefinedMetricWarning: Precision and F-score are ill-defined and being set to 0.0 in labels with no predicted samples. Use `zero_division` parameter to control this behavior.\n",
      "  _warn_prf(average, modifier, msg_start, len(result))\n",
      "C:\\Users\\pawan\\anaconda3\\lib\\site-packages\\sklearn\\metrics\\_classification.py:1344: UndefinedMetricWarning: Recall and F-score are ill-defined and being set to 0.0 in labels with no true samples. Use `zero_division` parameter to control this behavior.\n",
      "  _warn_prf(average, modifier, msg_start, len(result))\n",
      "C:\\Users\\pawan\\anaconda3\\lib\\site-packages\\sklearn\\metrics\\_classification.py:1344: UndefinedMetricWarning: Precision and F-score are ill-defined and being set to 0.0 in labels with no predicted samples. Use `zero_division` parameter to control this behavior.\n",
      "  _warn_prf(average, modifier, msg_start, len(result))\n",
      "C:\\Users\\pawan\\anaconda3\\lib\\site-packages\\sklearn\\metrics\\_classification.py:1344: UndefinedMetricWarning: Recall and F-score are ill-defined and being set to 0.0 in labels with no true samples. Use `zero_division` parameter to control this behavior.\n",
      "  _warn_prf(average, modifier, msg_start, len(result))\n",
      "C:\\Users\\pawan\\anaconda3\\lib\\site-packages\\sklearn\\metrics\\_classification.py:1344: UndefinedMetricWarning: Precision and F-score are ill-defined and being set to 0.0 in labels with no predicted samples. Use `zero_division` parameter to control this behavior.\n",
      "  _warn_prf(average, modifier, msg_start, len(result))\n",
      "C:\\Users\\pawan\\anaconda3\\lib\\site-packages\\sklearn\\metrics\\_classification.py:1344: UndefinedMetricWarning: Recall and F-score are ill-defined and being set to 0.0 in labels with no true samples. Use `zero_division` parameter to control this behavior.\n",
      "  _warn_prf(average, modifier, msg_start, len(result))\n",
      "C:\\Users\\pawan\\anaconda3\\lib\\site-packages\\sklearn\\metrics\\_classification.py:1344: UndefinedMetricWarning: Precision and F-score are ill-defined and being set to 0.0 in labels with no predicted samples. Use `zero_division` parameter to control this behavior.\n",
      "  _warn_prf(average, modifier, msg_start, len(result))\n",
      "C:\\Users\\pawan\\anaconda3\\lib\\site-packages\\sklearn\\metrics\\_classification.py:1344: UndefinedMetricWarning: Recall and F-score are ill-defined and being set to 0.0 in labels with no true samples. Use `zero_division` parameter to control this behavior.\n",
      "  _warn_prf(average, modifier, msg_start, len(result))\n",
      "C:\\Users\\pawan\\anaconda3\\lib\\site-packages\\sklearn\\metrics\\_classification.py:1344: UndefinedMetricWarning: Precision and F-score are ill-defined and being set to 0.0 in labels with no predicted samples. Use `zero_division` parameter to control this behavior.\n",
      "  _warn_prf(average, modifier, msg_start, len(result))\n",
      "C:\\Users\\pawan\\anaconda3\\lib\\site-packages\\sklearn\\metrics\\_classification.py:1344: UndefinedMetricWarning: Recall and F-score are ill-defined and being set to 0.0 in labels with no true samples. Use `zero_division` parameter to control this behavior.\n",
      "  _warn_prf(average, modifier, msg_start, len(result))\n",
      "C:\\Users\\pawan\\anaconda3\\lib\\site-packages\\sklearn\\metrics\\_classification.py:1344: UndefinedMetricWarning: Precision and F-score are ill-defined and being set to 0.0 in labels with no predicted samples. Use `zero_division` parameter to control this behavior.\n",
      "  _warn_prf(average, modifier, msg_start, len(result))\n",
      "C:\\Users\\pawan\\anaconda3\\lib\\site-packages\\sklearn\\metrics\\_classification.py:1344: UndefinedMetricWarning: Recall and F-score are ill-defined and being set to 0.0 in labels with no true samples. Use `zero_division` parameter to control this behavior.\n",
      "  _warn_prf(average, modifier, msg_start, len(result))\n",
      "C:\\Users\\pawan\\anaconda3\\lib\\site-packages\\sklearn\\metrics\\_classification.py:1344: UndefinedMetricWarning: Precision and F-score are ill-defined and being set to 0.0 in labels with no predicted samples. Use `zero_division` parameter to control this behavior.\n",
      "  _warn_prf(average, modifier, msg_start, len(result))\n",
      "C:\\Users\\pawan\\anaconda3\\lib\\site-packages\\sklearn\\metrics\\_classification.py:1344: UndefinedMetricWarning: Recall and F-score are ill-defined and being set to 0.0 in labels with no true samples. Use `zero_division` parameter to control this behavior.\n",
      "  _warn_prf(average, modifier, msg_start, len(result))\n",
      "C:\\Users\\pawan\\anaconda3\\lib\\site-packages\\sklearn\\metrics\\_classification.py:1344: UndefinedMetricWarning: Precision and F-score are ill-defined and being set to 0.0 in labels with no predicted samples. Use `zero_division` parameter to control this behavior.\n",
      "  _warn_prf(average, modifier, msg_start, len(result))\n",
      "C:\\Users\\pawan\\anaconda3\\lib\\site-packages\\sklearn\\metrics\\_classification.py:1344: UndefinedMetricWarning: Recall and F-score are ill-defined and being set to 0.0 in labels with no true samples. Use `zero_division` parameter to control this behavior.\n",
      "  _warn_prf(average, modifier, msg_start, len(result))\n",
      "C:\\Users\\pawan\\anaconda3\\lib\\site-packages\\sklearn\\metrics\\_classification.py:1344: UndefinedMetricWarning: Precision and F-score are ill-defined and being set to 0.0 in labels with no predicted samples. Use `zero_division` parameter to control this behavior.\n",
      "  _warn_prf(average, modifier, msg_start, len(result))\n",
      "C:\\Users\\pawan\\anaconda3\\lib\\site-packages\\sklearn\\metrics\\_classification.py:1344: UndefinedMetricWarning: Recall and F-score are ill-defined and being set to 0.0 in labels with no true samples. Use `zero_division` parameter to control this behavior.\n",
      "  _warn_prf(average, modifier, msg_start, len(result))\n",
      "C:\\Users\\pawan\\anaconda3\\lib\\site-packages\\sklearn\\metrics\\_classification.py:1344: UndefinedMetricWarning: Precision and F-score are ill-defined and being set to 0.0 in labels with no predicted samples. Use `zero_division` parameter to control this behavior.\n",
      "  _warn_prf(average, modifier, msg_start, len(result))\n",
      "C:\\Users\\pawan\\anaconda3\\lib\\site-packages\\sklearn\\metrics\\_classification.py:1344: UndefinedMetricWarning: Recall and F-score are ill-defined and being set to 0.0 in labels with no true samples. Use `zero_division` parameter to control this behavior.\n",
      "  _warn_prf(average, modifier, msg_start, len(result))\n",
      "C:\\Users\\pawan\\anaconda3\\lib\\site-packages\\sklearn\\metrics\\_classification.py:1344: UndefinedMetricWarning: Precision and F-score are ill-defined and being set to 0.0 in labels with no predicted samples. Use `zero_division` parameter to control this behavior.\n",
      "  _warn_prf(average, modifier, msg_start, len(result))\n",
      "C:\\Users\\pawan\\anaconda3\\lib\\site-packages\\sklearn\\metrics\\_classification.py:1344: UndefinedMetricWarning: Recall and F-score are ill-defined and being set to 0.0 in labels with no true samples. Use `zero_division` parameter to control this behavior.\n",
      "  _warn_prf(average, modifier, msg_start, len(result))\n",
      "C:\\Users\\pawan\\anaconda3\\lib\\site-packages\\sklearn\\metrics\\_classification.py:1344: UndefinedMetricWarning: Precision and F-score are ill-defined and being set to 0.0 in labels with no predicted samples. Use `zero_division` parameter to control this behavior.\n",
      "  _warn_prf(average, modifier, msg_start, len(result))\n",
      "C:\\Users\\pawan\\anaconda3\\lib\\site-packages\\sklearn\\metrics\\_classification.py:1344: UndefinedMetricWarning: Recall and F-score are ill-defined and being set to 0.0 in labels with no true samples. Use `zero_division` parameter to control this behavior.\n",
      "  _warn_prf(average, modifier, msg_start, len(result))\n"
     ]
    }
   ],
   "source": [
    "# You can also print classification reports for more detailed metrics\n",
    "print(\"Logistic Regression Report:\\n\", classification_report(y_test, logistic_predictions))\n",
    "print(\"Random Forest Report:\\n\", classification_report(y_test, rf_predictions))\n",
    "print(\"SVM Report:\\n\", classification_report(y_test, svm_predictions))\n",
    "print(\"KNN Report:\\n\", classification_report(y_test, knn_predictions))"
   ]
  },
  {
   "cell_type": "code",
   "execution_count": 22,
   "id": "82854dbf",
   "metadata": {},
   "outputs": [
    {
     "data": {
      "text/html": [
       "<style>#sk-container-id-2 {color: black;background-color: white;}#sk-container-id-2 pre{padding: 0;}#sk-container-id-2 div.sk-toggleable {background-color: white;}#sk-container-id-2 label.sk-toggleable__label {cursor: pointer;display: block;width: 100%;margin-bottom: 0;padding: 0.3em;box-sizing: border-box;text-align: center;}#sk-container-id-2 label.sk-toggleable__label-arrow:before {content: \"▸\";float: left;margin-right: 0.25em;color: #696969;}#sk-container-id-2 label.sk-toggleable__label-arrow:hover:before {color: black;}#sk-container-id-2 div.sk-estimator:hover label.sk-toggleable__label-arrow:before {color: black;}#sk-container-id-2 div.sk-toggleable__content {max-height: 0;max-width: 0;overflow: hidden;text-align: left;background-color: #f0f8ff;}#sk-container-id-2 div.sk-toggleable__content pre {margin: 0.2em;color: black;border-radius: 0.25em;background-color: #f0f8ff;}#sk-container-id-2 input.sk-toggleable__control:checked~div.sk-toggleable__content {max-height: 200px;max-width: 100%;overflow: auto;}#sk-container-id-2 input.sk-toggleable__control:checked~label.sk-toggleable__label-arrow:before {content: \"▾\";}#sk-container-id-2 div.sk-estimator input.sk-toggleable__control:checked~label.sk-toggleable__label {background-color: #d4ebff;}#sk-container-id-2 div.sk-label input.sk-toggleable__control:checked~label.sk-toggleable__label {background-color: #d4ebff;}#sk-container-id-2 input.sk-hidden--visually {border: 0;clip: rect(1px 1px 1px 1px);clip: rect(1px, 1px, 1px, 1px);height: 1px;margin: -1px;overflow: hidden;padding: 0;position: absolute;width: 1px;}#sk-container-id-2 div.sk-estimator {font-family: monospace;background-color: #f0f8ff;border: 1px dotted black;border-radius: 0.25em;box-sizing: border-box;margin-bottom: 0.5em;}#sk-container-id-2 div.sk-estimator:hover {background-color: #d4ebff;}#sk-container-id-2 div.sk-parallel-item::after {content: \"\";width: 100%;border-bottom: 1px solid gray;flex-grow: 1;}#sk-container-id-2 div.sk-label:hover label.sk-toggleable__label {background-color: #d4ebff;}#sk-container-id-2 div.sk-serial::before {content: \"\";position: absolute;border-left: 1px solid gray;box-sizing: border-box;top: 0;bottom: 0;left: 50%;z-index: 0;}#sk-container-id-2 div.sk-serial {display: flex;flex-direction: column;align-items: center;background-color: white;padding-right: 0.2em;padding-left: 0.2em;position: relative;}#sk-container-id-2 div.sk-item {position: relative;z-index: 1;}#sk-container-id-2 div.sk-parallel {display: flex;align-items: stretch;justify-content: center;background-color: white;position: relative;}#sk-container-id-2 div.sk-item::before, #sk-container-id-2 div.sk-parallel-item::before {content: \"\";position: absolute;border-left: 1px solid gray;box-sizing: border-box;top: 0;bottom: 0;left: 50%;z-index: -1;}#sk-container-id-2 div.sk-parallel-item {display: flex;flex-direction: column;z-index: 1;position: relative;background-color: white;}#sk-container-id-2 div.sk-parallel-item:first-child::after {align-self: flex-end;width: 50%;}#sk-container-id-2 div.sk-parallel-item:last-child::after {align-self: flex-start;width: 50%;}#sk-container-id-2 div.sk-parallel-item:only-child::after {width: 0;}#sk-container-id-2 div.sk-dashed-wrapped {border: 1px dashed gray;margin: 0 0.4em 0.5em 0.4em;box-sizing: border-box;padding-bottom: 0.4em;background-color: white;}#sk-container-id-2 div.sk-label label {font-family: monospace;font-weight: bold;display: inline-block;line-height: 1.2em;}#sk-container-id-2 div.sk-label-container {text-align: center;}#sk-container-id-2 div.sk-container {/* jupyter's `normalize.less` sets `[hidden] { display: none; }` but bootstrap.min.css set `[hidden] { display: none !important; }` so we also need the `!important` here to be able to override the default hidden behavior on the sphinx rendered scikit-learn.org. See: https://github.com/scikit-learn/scikit-learn/issues/21755 */display: inline-block !important;position: relative;}#sk-container-id-2 div.sk-text-repr-fallback {display: none;}</style><div id=\"sk-container-id-2\" class=\"sk-top-container\"><div class=\"sk-text-repr-fallback\"><pre>DecisionTreeRegressor(random_state=0)</pre><b>In a Jupyter environment, please rerun this cell to show the HTML representation or trust the notebook. <br />On GitHub, the HTML representation is unable to render, please try loading this page with nbviewer.org.</b></div><div class=\"sk-container\" hidden><div class=\"sk-item\"><div class=\"sk-estimator sk-toggleable\"><input class=\"sk-toggleable__control sk-hidden--visually\" id=\"sk-estimator-id-2\" type=\"checkbox\" checked><label for=\"sk-estimator-id-2\" class=\"sk-toggleable__label sk-toggleable__label-arrow\">DecisionTreeRegressor</label><div class=\"sk-toggleable__content\"><pre>DecisionTreeRegressor(random_state=0)</pre></div></div></div></div></div>"
      ],
      "text/plain": [
       "DecisionTreeRegressor(random_state=0)"
      ]
     },
     "execution_count": 22,
     "metadata": {},
     "output_type": "execute_result"
    }
   ],
   "source": [
    "from sklearn.tree import DecisionTreeRegressor\n",
    "regressorsvm = DecisionTreeRegressor(random_state = 0)\n",
    "regressorsvm.fit(X_train, y_train)"
   ]
  },
  {
   "cell_type": "code",
   "execution_count": 29,
   "id": "cd185fab",
   "metadata": {},
   "outputs": [
    {
     "name": "stdout",
     "output_type": "stream",
     "text": [
      "[41. 81.  3. 90. 14. 46. 42. 91. 35. 92. 42. 16. 72. 55. 35. 88. 45. 16.\n",
      " 51. 55. 12. 99. 90. 42. 41. 55. 55. 52. 71. 12. 99.  4. 42. 55. 35. 48.\n",
      " 40. 93. 35. 44.]\n",
      "     Spending Score (1-100)\n",
      "95                       52\n",
      "15                       79\n",
      "30                        4\n",
      "158                       1\n",
      "128                      11\n",
      "115                      50\n",
      "69                       47\n",
      "170                      13\n",
      "174                      13\n",
      "45                       65\n",
      "66                       50\n",
      "182                      15\n",
      "165                      75\n",
      "78                       52\n",
      "186                      24\n",
      "177                      69\n",
      "56                       50\n",
      "152                      20\n",
      "82                       41\n",
      "68                       59\n",
      "124                      29\n",
      "16                       35\n",
      "148                      22\n",
      "93                       40\n",
      "65                       59\n",
      "60                       56\n",
      "84                       57\n",
      "67                       48\n",
      "125                      77\n",
      "132                      34\n",
      "9                        72\n",
      "18                       29\n",
      "55                       41\n",
      "75                       54\n",
      "150                      17\n",
      "104                      56\n",
      "135                      88\n",
      "137                      73\n",
      "164                      26\n",
      "76                       53\n"
     ]
    }
   ],
   "source": [
    "ypred=regressorsvm.predict(X_test)\n",
    "\n",
    "print(ypred)\n",
    "print(y_test)"
   ]
  },
  {
   "cell_type": "code",
   "execution_count": 27,
   "id": "53dc8f4f",
   "metadata": {},
   "outputs": [
    {
     "data": {
      "text/plain": [
       "0.0"
      ]
     },
     "execution_count": 27,
     "metadata": {},
     "output_type": "execute_result"
    }
   ],
   "source": [
    "accuracy_score(y_test, ypred )"
   ]
  },
  {
   "cell_type": "code",
   "execution_count": null,
   "id": "90a891cc",
   "metadata": {},
   "outputs": [],
   "source": []
  }
 ],
 "metadata": {
  "kernelspec": {
   "display_name": "Python 3 (ipykernel)",
   "language": "python",
   "name": "python3"
  },
  "language_info": {
   "codemirror_mode": {
    "name": "ipython",
    "version": 3
   },
   "file_extension": ".py",
   "mimetype": "text/x-python",
   "name": "python",
   "nbconvert_exporter": "python",
   "pygments_lexer": "ipython3",
   "version": "3.10.9"
  }
 },
 "nbformat": 4,
 "nbformat_minor": 5
}
