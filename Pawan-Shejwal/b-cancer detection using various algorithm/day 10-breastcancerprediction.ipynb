{
 "cells": [
  {
   "cell_type": "markdown",
   "id": "6c950345",
   "metadata": {},
   "source": [
    "# Day-10_BreastCancerDetection_VariousMLAlgorithm"
   ]
  },
  {
   "cell_type": "code",
   "execution_count": 1,
   "id": "2b75b56b",
   "metadata": {},
   "outputs": [],
   "source": [
    "import pandas as pd \n",
    "import numpy as np \n",
    "from matplotlib import pyplot"
   ]
  },
  {
   "cell_type": "markdown",
   "id": "8d860b03",
   "metadata": {},
   "source": [
    "# Choose Dataset from local Directory\n"
   ]
  },
  {
   "cell_type": "code",
   "execution_count": 3,
   "id": "8656660b",
   "metadata": {},
   "outputs": [],
   "source": [
    "dataset=pd.read_csv(\"breastcancerdataset.csv\")\n"
   ]
  },
  {
   "cell_type": "code",
   "execution_count": 5,
   "id": "baa104cd",
   "metadata": {},
   "outputs": [
    {
     "name": "stdout",
     "output_type": "stream",
     "text": [
      "(569, 33)\n",
      "         id diagnosis  radius_mean  texture_mean  perimeter_mean  area_mean  \\\n",
      "0    842302         M        17.99         10.38          122.80     1001.0   \n",
      "1    842517         M        20.57         17.77          132.90     1326.0   \n",
      "2  84300903         M        19.69         21.25          130.00     1203.0   \n",
      "3  84348301         M        11.42         20.38           77.58      386.1   \n",
      "4  84358402         M        20.29         14.34          135.10     1297.0   \n",
      "\n",
      "   smoothness_mean  compactness_mean  concavity_mean  concave points_mean  \\\n",
      "0          0.11840           0.27760          0.3001              0.14710   \n",
      "1          0.08474           0.07864          0.0869              0.07017   \n",
      "2          0.10960           0.15990          0.1974              0.12790   \n",
      "3          0.14250           0.28390          0.2414              0.10520   \n",
      "4          0.10030           0.13280          0.1980              0.10430   \n",
      "\n",
      "   ...  texture_worst  perimeter_worst  area_worst  smoothness_worst  \\\n",
      "0  ...          17.33           184.60      2019.0            0.1622   \n",
      "1  ...          23.41           158.80      1956.0            0.1238   \n",
      "2  ...          25.53           152.50      1709.0            0.1444   \n",
      "3  ...          26.50            98.87       567.7            0.2098   \n",
      "4  ...          16.67           152.20      1575.0            0.1374   \n",
      "\n",
      "   compactness_worst  concavity_worst  concave points_worst  symmetry_worst  \\\n",
      "0             0.6656           0.7119                0.2654          0.4601   \n",
      "1             0.1866           0.2416                0.1860          0.2750   \n",
      "2             0.4245           0.4504                0.2430          0.3613   \n",
      "3             0.8663           0.6869                0.2575          0.6638   \n",
      "4             0.2050           0.4000                0.1625          0.2364   \n",
      "\n",
      "   fractal_dimension_worst  Unnamed: 32  \n",
      "0                  0.11890          NaN  \n",
      "1                  0.08902          NaN  \n",
      "2                  0.08758          NaN  \n",
      "3                  0.17300          NaN  \n",
      "4                  0.07678          NaN  \n",
      "\n",
      "[5 rows x 33 columns]\n"
     ]
    }
   ],
   "source": [
    "print(dataset.shape)\n",
    "print(dataset.head(5))"
   ]
  },
  {
   "cell_type": "markdown",
   "id": "1a51f29b",
   "metadata": {},
   "source": [
    "# Mapping Class string values to numbers"
   ]
  },
  {
   "cell_type": "code",
   "execution_count": 7,
   "id": "ece5ae7b",
   "metadata": {},
   "outputs": [
    {
     "name": "stdout",
     "output_type": "stream",
     "text": [
      "<bound method NDFrame.head of            id  diagnosis  radius_mean  texture_mean  perimeter_mean  \\\n",
      "0      842302          1        17.99         10.38          122.80   \n",
      "1      842517          1        20.57         17.77          132.90   \n",
      "2    84300903          1        19.69         21.25          130.00   \n",
      "3    84348301          1        11.42         20.38           77.58   \n",
      "4    84358402          1        20.29         14.34          135.10   \n",
      "..        ...        ...          ...           ...             ...   \n",
      "564    926424          1        21.56         22.39          142.00   \n",
      "565    926682          1        20.13         28.25          131.20   \n",
      "566    926954          1        16.60         28.08          108.30   \n",
      "567    927241          1        20.60         29.33          140.10   \n",
      "568     92751          0         7.76         24.54           47.92   \n",
      "\n",
      "     area_mean  smoothness_mean  compactness_mean  concavity_mean  \\\n",
      "0       1001.0          0.11840           0.27760         0.30010   \n",
      "1       1326.0          0.08474           0.07864         0.08690   \n",
      "2       1203.0          0.10960           0.15990         0.19740   \n",
      "3        386.1          0.14250           0.28390         0.24140   \n",
      "4       1297.0          0.10030           0.13280         0.19800   \n",
      "..         ...              ...               ...             ...   \n",
      "564     1479.0          0.11100           0.11590         0.24390   \n",
      "565     1261.0          0.09780           0.10340         0.14400   \n",
      "566      858.1          0.08455           0.10230         0.09251   \n",
      "567     1265.0          0.11780           0.27700         0.35140   \n",
      "568      181.0          0.05263           0.04362         0.00000   \n",
      "\n",
      "     concave points_mean  ...  texture_worst  perimeter_worst  area_worst  \\\n",
      "0                0.14710  ...          17.33           184.60      2019.0   \n",
      "1                0.07017  ...          23.41           158.80      1956.0   \n",
      "2                0.12790  ...          25.53           152.50      1709.0   \n",
      "3                0.10520  ...          26.50            98.87       567.7   \n",
      "4                0.10430  ...          16.67           152.20      1575.0   \n",
      "..                   ...  ...            ...              ...         ...   \n",
      "564              0.13890  ...          26.40           166.10      2027.0   \n",
      "565              0.09791  ...          38.25           155.00      1731.0   \n",
      "566              0.05302  ...          34.12           126.70      1124.0   \n",
      "567              0.15200  ...          39.42           184.60      1821.0   \n",
      "568              0.00000  ...          30.37            59.16       268.6   \n",
      "\n",
      "     smoothness_worst  compactness_worst  concavity_worst  \\\n",
      "0             0.16220            0.66560           0.7119   \n",
      "1             0.12380            0.18660           0.2416   \n",
      "2             0.14440            0.42450           0.4504   \n",
      "3             0.20980            0.86630           0.6869   \n",
      "4             0.13740            0.20500           0.4000   \n",
      "..                ...                ...              ...   \n",
      "564           0.14100            0.21130           0.4107   \n",
      "565           0.11660            0.19220           0.3215   \n",
      "566           0.11390            0.30940           0.3403   \n",
      "567           0.16500            0.86810           0.9387   \n",
      "568           0.08996            0.06444           0.0000   \n",
      "\n",
      "     concave points_worst  symmetry_worst  fractal_dimension_worst  \\\n",
      "0                  0.2654          0.4601                  0.11890   \n",
      "1                  0.1860          0.2750                  0.08902   \n",
      "2                  0.2430          0.3613                  0.08758   \n",
      "3                  0.2575          0.6638                  0.17300   \n",
      "4                  0.1625          0.2364                  0.07678   \n",
      "..                    ...             ...                      ...   \n",
      "564                0.2216          0.2060                  0.07115   \n",
      "565                0.1628          0.2572                  0.06637   \n",
      "566                0.1418          0.2218                  0.07820   \n",
      "567                0.2650          0.4087                  0.12400   \n",
      "568                0.0000          0.2871                  0.07039   \n",
      "\n",
      "     Unnamed: 32  \n",
      "0            NaN  \n",
      "1            NaN  \n",
      "2            NaN  \n",
      "3            NaN  \n",
      "4            NaN  \n",
      "..           ...  \n",
      "564          NaN  \n",
      "565          NaN  \n",
      "566          NaN  \n",
      "567          NaN  \n",
      "568          NaN  \n",
      "\n",
      "[569 rows x 33 columns]>\n"
     ]
    }
   ],
   "source": [
    "dataset['diagnosis']=dataset['diagnosis'].map({'B':0,'M':1}).astype(int)\n",
    "print(dataset.head)"
   ]
  },
  {
   "cell_type": "markdown",
   "id": "74969f86",
   "metadata": {},
   "source": [
    "# segregate data set into X and y"
   ]
  },
  {
   "cell_type": "code",
   "execution_count": 11,
   "id": "59f387ed",
   "metadata": {},
   "outputs": [],
   "source": [
    "X =dataset.iloc[:,2:32].values\n",
    "y=dataset.iloc[:,1].values\n",
    "\n",
    "    "
   ]
  },
  {
   "cell_type": "markdown",
   "id": "efd19459",
   "metadata": {},
   "source": [
    "# Spliting dataset into train Test"
   ]
  },
  {
   "cell_type": "code",
   "execution_count": 14,
   "id": "3fe9382f",
   "metadata": {},
   "outputs": [],
   "source": [
    "from sklearn.model_selection import train_test_split\n",
    "X_train, X_test, y_train, y_test = train_test_split(X, y, test_size = 0.2, random_state = 0)"
   ]
  },
  {
   "cell_type": "markdown",
   "id": "aa67ce58",
   "metadata": {},
   "source": [
    "# Feature scaling"
   ]
  },
  {
   "cell_type": "code",
   "execution_count": 15,
   "id": "f704ac2e",
   "metadata": {},
   "outputs": [],
   "source": [
    "from sklearn.preprocessing import StandardScaler\n",
    "sc=StandardScaler()\n",
    "X_train =sc.fit_transform(X_train)\n",
    "X_test =sc.transform(X_test)"
   ]
  },
  {
   "cell_type": "markdown",
   "id": "61956e67",
   "metadata": {},
   "source": [
    "# Training on multiple algorithms"
   ]
  },
  {
   "cell_type": "code",
   "execution_count": 41,
   "id": "1ec61a8a",
   "metadata": {},
   "outputs": [],
   "source": [
    "from sklearn.discriminant_analysis import LinearDiscriminantAnalysis\n",
    "from sklearn.linear_model import LogisticRegression\n",
    "from sklearn.tree import DecisionTreeClassifier\n",
    "from sklearn.neighbors import KNeighborsClassifier\n",
    "from sklearn.naive_bayes import GaussianNB\n",
    "from sklearn.svm import SVC\n",
    "\n",
    "from sklearn.model_selection import cross_val_score,StratifiedKFold\n",
    "\n",
    "\n",
    "\n"
   ]
  },
  {
   "cell_type": "code",
   "execution_count": 43,
   "id": "f0368a2a",
   "metadata": {},
   "outputs": [
    {
     "name": "stdout",
     "output_type": "stream",
     "text": [
      "[('LR', LogisticRegression(multi_class='ovr', solver='liblinear')), ('LDA', LinearDiscriminantAnalysis()), ('KNN', KNeighborsClassifier()), ('CART', DecisionTreeClassifier()), ('NB', GaussianNB()), ('SVM', SVC(gamma='auto'))]\n"
     ]
    }
   ],
   "source": [
    "models =[]\n",
    "models.append(('LR',LogisticRegression(solver='liblinear',multi_class='ovr')))\n",
    "models.append(('LDA',LinearDiscriminantAnalysis()))\n",
    "models.append(('KNN',KNeighborsClassifier()))\n",
    "models.append(('CART',DecisionTreeClassifier()))\n",
    "models.append(('NB',GaussianNB()))\n",
    "models.append(('SVM',SVC(gamma='auto')))\n",
    "print(models)"
   ]
  },
  {
   "cell_type": "code",
   "execution_count": 45,
   "id": "7d5e1745",
   "metadata": {
    "scrolled": false
   },
   "outputs": [
    {
     "name": "stdout",
     "output_type": "stream",
     "text": [
      "LR : 0.978068\n",
      "LDA : 0.956087\n",
      "KNN : 0.964879\n",
      "CART : 0.927343\n",
      "NB : 0.949565\n",
      "SVM : 0.975894\n"
     ]
    },
    {
     "data": {
      "image/png": "[encoded data removed]",
      "text/plain": [
       "<Figure size 640x480 with 1 Axes>"
      ]
     },
     "metadata": {},
     "output_type": "display_data"
    }
   ],
   "source": [
    "results =[]\n",
    "names =[]\n",
    "res=[]\n",
    "for name,model in models:\n",
    "    kfold = StratifiedKFold(n_splits =10,random_state=None)\n",
    "    cv_results =cross_val_score(model,X_train,y_train,cv=kfold,scoring='accuracy')\n",
    "    results.append(cv_results)\n",
    "    names.append(name)\n",
    "    res.append(cv_results.mean())\n",
    "    print('%s : %f' %(name,cv_results.mean()))\n",
    "\n",
    "    \n",
    "pyplot.ylim(.900,.999)\n",
    "\n",
    "pyplot.bar(names,res,color='green',width =0.6)\n",
    "pyplot.title('Algorithcomparison')\n",
    "pyplot.show()"
   ]
  },
  {
   "cell_type": "markdown",
   "id": "a9125bea",
   "metadata": {},
   "source": [
    "# training & prediction using the algorithm with high accuracy"
   ]
  },
  {
   "cell_type": "code",
   "execution_count": 52,
   "id": "ab53416b",
   "metadata": {},
   "outputs": [
    {
     "name": "stdout",
     "output_type": "stream",
     "text": [
      "[1]\n"
     ]
    }
   ],
   "source": [
    "model1= LogisticRegression(solver='liblinear',multi_class='ovr')\n",
    "model1.fit(X_train,y_train)\n",
    "value=[[17.99,10.38,122.8,1001,0.1184,0.2776,0.3001,0.1471,0.2419,0.07871,1.095,0.9053,8.589,153.4,0.006399,0.04904,0.05373,0.01587,0.03003,0.006193,25.38,17.33,184.6,2019,0.1622,0.6656,0.7119,0.2654,0.4601,0.1189]]\n",
    "y_pred =model1.predict(value)\n",
    "\n",
    "print(y_pred)"
   ]
  },
  {
   "cell_type": "code",
   "execution_count": null,
   "id": "f0ccc835",
   "metadata": {},
   "outputs": [],
   "source": []
  }
 ],
 "metadata": {
  "kernelspec": {
   "display_name": "Python 3 (ipykernel)",
   "language": "python",
   "name": "python3"
  },
  "language_info": {
   "codemirror_mode": {
    "name": "ipython",
    "version": 3
   },
   "file_extension": ".py",
   "mimetype": "text/x-python",
   "name": "python",
   "nbconvert_exporter": "python",
   "pygments_lexer": "ipython3",
   "version": "3.10.9"
  }
 },
 "nbformat": 4,
 "nbformat_minor": 5
}
