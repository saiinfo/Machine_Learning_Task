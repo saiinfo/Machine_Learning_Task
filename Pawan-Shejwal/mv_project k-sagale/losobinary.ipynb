{
 "cells": [
  {
   "cell_type": "code",
   "execution_count": 25,
   "id": "5fb48d27",
   "metadata": {},
   "outputs": [],
   "source": [
    "import os\n",
    "import numpy as np\n",
    "import pandas as pd\n",
    "import librosa"
   ]
  },
  {
   "cell_type": "code",
   "execution_count": null,
   "id": "101fcc94",
   "metadata": {},
   "outputs": [],
   "source": [
    "\n"
   ]
  },
  {
   "cell_type": "code",
   "execution_count": 26,
   "id": "490571d5",
   "metadata": {},
   "outputs": [],
   "source": [
    "\n",
    "# Load your dataset (you can use your data loading code here)\n",
    "df = pd.read_csv(\"dataset_file_directory.csv\")\n",
    "dfs=df[~df['Label'].isin([ 'glee','more','tablet','hunger','greeting','laugh','help','bathroom'])]\n",
    "\n",
    "\n",
    "dfsd = dfs.copy()\n",
    "# Define a mapping of old labels to new valence-based labels\n",
    "valence_mapping = {\n",
    "       'selftalk'  :   'positive',\n",
    "    'frustrated'   :   'negative',\n",
    "    'delighted'    :   'positive',\n",
    "    'dysregulated' :   'negative',\n",
    "    'social'       :   'positive',\n",
    "    'request'      :   'positive',\n",
    "    'affectionate' :   'positive',\n",
    "    'yes'          :   'positive',\n",
    "    'laughter'     :   'positive',\n",
    "    'dysregulation-sick' : 'negative',\n",
    "    'happy'   :        'positive',\n",
    "    'protest'  :       'negative',2\n",
    "    'dysregulation-bathroom' :'negative',\n",
    "    'no '    :         'negative',\n",
    "}\n",
    "\n",
    "\n",
    "\n",
    "# Update the 'Label' column based on the valence mapping\n",
    "dfsd['Label'] = dfsd['Label'].map(valence_mapping)\n",
    "\n",
    "# test_percentage = 0.20\n",
    "# df20 = dfsd.sample(frac=test_percentage, random_state=42)\n"
   ]
  },
  {
   "cell_type": "code",
   "execution_count": null,
   "id": "bd46e6d1",
   "metadata": {},
   "outputs": [],
   "source": [
    "class_labels = df['Label'].unique()\n",
    "print(class_labels)\n",
    "print(df['Label'].value_counts())"
   ]
  },
  {
   "cell_type": "code",
   "execution_count": 27,
   "id": "93f38947",
   "metadata": {},
   "outputs": [
    {
     "name": "stdout",
     "output_type": "stream",
     "text": [
      "selftalk                  1885\n",
      "frustrated                1536\n",
      "delighted                 1272\n",
      "dysregulated               704\n",
      "social                     634\n",
      "request                    419\n",
      "affectionate               129\n",
      "yes                        123\n",
      "laughter                    93\n",
      "dysregulation-sick          74\n",
      "happy                       61\n",
      "protest                     21\n",
      "dysregulation-bathroom      18\n",
      "no                          12\n",
      "Name: Label, dtype: int64\n"
     ]
    }
   ],
   "source": [
    "dfs=df[~df['Label'].isin([ 'glee','more','tablet','hunger','greeting','laugh','help','bathroom'])]\n",
    "print(dfs['Label'].value_counts())"
   ]
  },
  {
   "cell_type": "code",
   "execution_count": null,
   "id": "c8ed2bb1",
   "metadata": {},
   "outputs": [],
   "source": [
    "#shuffel dataset\n"
   ]
  },
  {
   "cell_type": "code",
   "execution_count": 10,
   "id": "ba414cc9",
   "metadata": {},
   "outputs": [
    {
     "name": "stdout",
     "output_type": "stream",
     "text": [
      "<class 'pandas.core.frame.DataFrame'>\n",
      "Int64Index: 1396 entries, 4183 to 1901\n",
      "Data columns (total 3 columns):\n",
      " #   Column       Non-Null Count  Dtype \n",
      "---  ------       --------------  ----- \n",
      " 0   Filename     1396 non-null   object\n",
      " 1   Participant  1396 non-null   object\n",
      " 2   Label        1394 non-null   object\n",
      "dtypes: object(3)\n",
      "memory usage: 43.6+ KB\n"
     ]
    }
   ],
   "source": [
    "df20.info()"
   ]
  },
  {
   "cell_type": "code",
   "execution_count": 6,
   "id": "3a3f571a",
   "metadata": {},
   "outputs": [],
   "source": [
    "import os\n",
    "import librosa\n",
    "import numpy as np\n",
    "\n",
    "def extract_audio_features1(dataset):\n",
    "    features_list = []\n",
    "    labels_list = []\n",
    "    for index, row in dataset.iterrows():\n",
    "        filename = row['Filename']\n",
    "        label = row['Label']\n",
    "        wav_file_path = os.path.join(wav_dir, filename)\n",
    "        if os.path.exists(wav_file_path):\n",
    "            try:\n",
    "                # Load the WAV file using librosa\n",
    "                audio_data, sample_rate = librosa.load(wav_file_path, sr=None)  # sr=None to preserve the original sample rate\n",
    "\n",
    "                # Perform feature extraction (e.g., MFCCs)\n",
    "                mfccs = librosa.feature.mfcc(y=audio_data, sr=sample_rate, n_mfcc=20)\n",
    "                chroma = librosa.feature.chroma_stft(y=audio_data, sr=sample_rate)\n",
    "                spectral_contrast = librosa.feature.spectral_contrast(y=audio_data, sr=sample_rate)\n",
    "                \n",
    "                # Calculate Harmonic Ratio\n",
    "                harmonic_ratio = librosa.effects.harmonic(audio_data)\n",
    "\n",
    "                # Take the mean of the harmonic ratio to get a single value\n",
    "                harmonic_ratio_mean = np.mean(harmonic_ratio)\n",
    "\n",
    "                # Calculate Spectrogram as image-based features\n",
    "                spectrogram = librosa.feature.melspectrogram(y=audio_data, sr=sample_rate)\n",
    "\n",
    "                # Convert Spectrogram to decibels (dB)\n",
    "                spectrogram_db = librosa.power_to_db(spectrogram, ref=np.max)\n",
    "\n",
    "                # Calculate mean values for each feature\n",
    "                mfccs_mean = np.mean(mfccs, axis=1)\n",
    "                chroma_mean = np.mean(chroma, axis=1)\n",
    "                spectral_contrast_mean = np.mean(spectral_contrast, axis=1)\n",
    "                spectrogram_db_mean = np.mean(spectrogram_db, axis=1)\n",
    "\n",
    "                # Concatenate all features into a single feature vector\n",
    "                combined_feature_vector = np.hstack((mfccs_mean, chroma_mean, spectral_contrast_mean, harmonic_ratio_mean, spectrogram_db_mean))\n",
    "\n",
    "                # Append the extracted features and label to the lists\n",
    "                features_list.append(combined_feature_vector)\n",
    "                labels_list.append(label)\n",
    "\n",
    "            except Exception as e:\n",
    "                print(f\"Error processing {wav_file_path}: {str(e)}\")\n",
    "        else:\n",
    "            print(f\"Audio file not found: {wav_file_path}\")\n",
    "\n",
    "    return np.array(features_list), np.array(labels_list)\n"
   ]
  },
  {
   "cell_type": "code",
   "execution_count": 24,
   "id": "f3aeeeb8",
   "metadata": {
    "scrolled": true
   },
   "outputs": [
    {
     "ename": "NameError",
     "evalue": "name 'p1_datasets' is not defined",
     "output_type": "error",
     "traceback": [
      "\u001b[1;31m---------------------------------------------------------------------------\u001b[0m",
      "\u001b[1;31mNameError\u001b[0m                                 Traceback (most recent call last)",
      "Cell \u001b[1;32mIn[24], line 76\u001b[0m\n\u001b[0;32m     73\u001b[0m     \u001b[38;5;28;01mreturn\u001b[39;00m np\u001b[38;5;241m.\u001b[39marray(features_list), np\u001b[38;5;241m.\u001b[39marray(labels_list)\n\u001b[0;32m     75\u001b[0m \u001b[38;5;66;03m# Filter out labels that are not common in the training data\u001b[39;00m\n\u001b[1;32m---> 76\u001b[0m train_labels \u001b[38;5;241m=\u001b[39m \u001b[38;5;28mset\u001b[39m(\u001b[43mp1_datasets\u001b[49m[\u001b[38;5;124m'\u001b[39m\u001b[38;5;124mLabel\u001b[39m\u001b[38;5;124m'\u001b[39m]\u001b[38;5;241m.\u001b[39munique())\n\u001b[0;32m     77\u001b[0m \u001b[38;5;66;03m# df20 = df20[df20['Label'].isin(train_labels)]\u001b[39;00m\n\u001b[0;32m     78\u001b[0m \n\u001b[0;32m     79\u001b[0m \u001b[38;5;66;03m# Extract audio features from your dataset\u001b[39;00m\n\u001b[0;32m     80\u001b[0m X, y \u001b[38;5;241m=\u001b[39m extract_audio_features1(df20)\n",
      "\u001b[1;31mNameError\u001b[0m: name 'p1_datasets' is not defined"
     ]
    }
   ],
   "source": [
    "from sklearn.model_selection import LeaveOneGroupOut\n",
    "from sklearn.preprocessing import LabelEncoder\n",
    "from sklearn.metrics import f1_score\n",
    "from tensorflow import keras\n",
    "from tensorflow.keras import layers\n",
    "\n",
    "# Define the create_model function for the CNN\n",
    "def create_model(input_shape, num_classes):\n",
    "    model = keras.Sequential([\n",
    "        layers.Reshape((input_shape, 1), input_shape=(input_shape,)),\n",
    "        layers.Conv1D(64, 3, activation='relu', padding='same'),\n",
    "        layers.MaxPooling1D(2),\n",
    "        layers.Conv1D(128, 3, activation='relu', padding='same'),\n",
    "        layers.MaxPooling1D(2),\n",
    "        layers.Conv1D(256, 3, activation='relu', padding='same'),\n",
    "        layers.MaxPooling1D(2),\n",
    "        layers.Flatten(),\n",
    "        layers.Dense(256, activation='relu'),\n",
    "        layers.Dropout(0.5),\n",
    "        layers.Dense(128, activation='relu'),\n",
    "        layers.Dropout(0.5),\n",
    "        layers.Dense(num_classes, activation='softmax')\n",
    "    ])\n",
    "    \n",
    "    model.compile(optimizer='adam',\n",
    "                  loss='sparse_categorical_crossentropy',\n",
    "                  metrics=['accuracy'])\n",
    "    \n",
    "    return model\n",
    "\n",
    "# Load your dataset (you can use your data loading code here)\n",
    "# df = pd.read_csv(\"dataset_file_directory.csv\")\n",
    "test_percentage = 0.40\n",
    "df20 = df.sample(frac=test_percentage, random_state=42)\n",
    "\n",
    "# Define the directory where audio files are located\n",
    "script_dir = r\"C:\\Users\\pawan\\Desktop\\mv\\downloaddataset\"\n",
    "wav_dir = os.path.join(script_dir, \"downloaded_wav_files\")\n",
    "\n",
    "# Define a function to extract audio features (you can use your feature extraction code here)\n",
    "def extract_audio_features(dataset):\n",
    "    features_list = []\n",
    "    labels_list = []\n",
    "    for index, row in dataset.iterrows():\n",
    "        filename = row['Filename']\n",
    "        label = row['Label']\n",
    "        wav_file_path = os.path.join(wav_dir, filename)\n",
    "        if os.path.exists(wav_file_path):\n",
    "            try:\n",
    "                # Load the WAV file using librosa\n",
    "                audio_data, sample_rate = librosa.load(wav_file_path, sr=None)  # sr=None to preserve the original sample rate\n",
    "\n",
    "                # Perform feature extraction (e.g., MFCCs)\n",
    "                mfccs = librosa.feature.mfcc(y=audio_data, sr=sample_rate, n_mfcc=20)\n",
    "                chroma = librosa.feature.chroma_stft(y=audio_data, sr=sample_rate)\n",
    "                spectral_contrast = librosa.feature.spectral_contrast(y=audio_data, sr=sample_rate)\n",
    "               \n",
    "                mfccs_mean = np.mean(mfccs, axis=1)\n",
    "                chroma_mean = np.mean(chroma, axis=1)\n",
    "                spectral_contrast_mean = np.mean(spectral_contrast, axis=1)\n",
    "            \n",
    "                combined_feature_vector = np.hstack((mfccs_mean, chroma_mean, spectral_contrast_mean))\n",
    "                # Append the extracted features and label to the lists\n",
    "                features_list.append(combined_feature_vector)\n",
    "                labels_list.append(label)\n",
    "\n",
    "            except Exception as e:\n",
    "                print(f\"Error processing {wav_file_path}: {str(e)}\")\n",
    "        else:\n",
    "            null_file +=1\n",
    "            print(f\"Audio file not found: {wav_file_path}\")\n",
    "\n",
    "    return np.array(features_list), np.array(labels_list)\n",
    "\n",
    "# Filter out labels that are not common in the training data\n",
    "# train_labels = set(df20['Label'].unique())\n",
    "# df20 = df20[df20['Label'].isin(train_labels)]\n",
    "\n",
    "# Extract audio features from your dataset\n",
    "X, y = extract_audio_features1(df20)\n",
    "\n",
    "# Define LOSO cross-validation with session stratification\n",
    "logo = LeaveOneGroupOut()\n",
    "\n",
    "# Initialize a list to store F1 scores\n",
    "f1_scores = []\n",
    "\n",
    "# Encode labels using LabelEncoder after filtering labels\n",
    "label_encoder = LabelEncoder()\n",
    "y_encoded = label_encoder.fit_transform(y)\n",
    "\n",
    "# Iterate over participants using LOSO cross-validation\n",
    "for train_index, test_index in logo.split(X, y_encoded, groups=df20['Participant']):\n",
    "    X_train, X_test = X[train_index], X[test_index]\n",
    "    y_train, y_test = y_encoded[train_index], y_encoded[test_index]\n",
    "\n",
    "    # Define the input shape and number of classes based on your data\n",
    "    input_shape = X_train.shape[1]\n",
    "    num_classes = len(train_labels)\n",
    "    \n",
    "    # Create the CNN model\n",
    "    model = create_model(input_shape, num_classes)\n",
    "    \n",
    "    # Train the model\n",
    "    model.fit(X_train, y_train, epochs=50, batch_size=16, validation_split=0.2, verbose=1)\n",
    "\n",
    "    # Make predictions on the test set\n",
    "    y_pred = model.predict(X_test)\n",
    "    y_pred_classes = np.argmax(y_pred, axis=1)\n",
    "\n",
    "    # Calculate and print the F1 score for the session\n",
    "    f1 = f1_score(y_test, y_pred_classes, average='weighted')\n",
    "    print(\"F1 Score:\", f1)\n",
    "\n",
    "    # Append the F1 score to the list\n",
    "    f1_scores.append(f1)\n",
    "\n",
    "# Calculate and print the mean F1 score across sessions\n",
    "mean_f1_score = np.mean(f1_scores)\n",
    "print(\"Mean F1 Score:\", mean_f1_score)\n"
   ]
  },
  {
   "cell_type": "code",
   "execution_count": 5,
   "id": "9ac3d74c",
   "metadata": {},
   "outputs": [
    {
     "data": {
      "image/png": "[encoded data removed]",
      "text/plain": [
       "<Figure size 1000x600 with 1 Axes>"
      ]
     },
     "metadata": {},
     "output_type": "display_data"
    }
   ],
   "source": [
    "import matplotlib.pyplot as plt\n",
    "\n",
    "# F1 scores for each participant and their corresponding labels\n",
    "\n",
    "participants = [\"P01\", \"P02\", \"P03\", \"P05\", \"P06\", \"P08\", \"P11\", \"P16\"]\n",
    "\n",
    "# Plot the F1 scores\n",
    "plt.figure(figsize=(10, 6))\n",
    "bars = plt.bar(participants, f1_scores, color='blue')\n",
    "plt.xlabel('Participants')\n",
    "plt.ylabel('Weighted F1 Score')\n",
    "plt.title('Weighted F1 Score for Each Participant')\n",
    "plt.ylim(0, 1)  # Set the y-axis limit between 0 and 1\n",
    "\n",
    "# Display the F1 scores over the bars\n",
    "for bar, score in zip(bars, f1_scores):\n",
    "    plt.text(bar.get_x() + bar.get_width() / 2 - 0.1, bar.get_height() + 0.02, f'{score:.2f}', fontsize=10)\n",
    "\n",
    "plt.show()\n"
   ]
  },
  {
   "cell_type": "code",
   "execution_count": 25,
   "id": "8e38beff",
   "metadata": {},
   "outputs": [
    {
     "name": "stdout",
     "output_type": "stream",
     "text": [
      "5223    P08\n",
      "3053    P05\n",
      "5329    P08\n",
      "3698    P05\n",
      "3973    P06\n",
      "       ... \n",
      "3035    P05\n",
      "139     P01\n",
      "3038    P05\n",
      "4896    P08\n",
      "5103    P08\n",
      "Name: Participant, Length: 2831, dtype: object\n"
     ]
    }
   ],
   "source": [
    "groups=df20['Participant']\n",
    "print(groups)"
   ]
  },
  {
   "cell_type": "code",
   "execution_count": 24,
   "id": "56cb44ee",
   "metadata": {},
   "outputs": [],
   "source": []
  },
  {
   "cell_type": "code",
   "execution_count": null,
   "id": "8a0657fb",
   "metadata": {},
   "outputs": [],
   "source": []
  },
  {
   "cell_type": "code",
   "execution_count": null,
   "id": "0a02e323",
   "metadata": {},
   "outputs": [],
   "source": []
  }
 ],
 "metadata": {
  "kernelspec": {
   "display_name": "Python 3 (ipykernel)",
   "language": "python",
   "name": "python3"
  },
  "language_info": {
   "codemirror_mode": {
    "name": "ipython",
    "version": 3
   },
   "file_extension": ".py",
   "mimetype": "text/x-python",
   "name": "python",
   "nbconvert_exporter": "python",
   "pygments_lexer": "ipython3",
   "version": "3.10.9"
  }
 },
 "nbformat": 4,
 "nbformat_minor": 5
}
