{
 "cells": [
  {
   "cell_type": "code",
   "execution_count": 1,
   "id": "9fd25996",
   "metadata": {},
   "outputs": [],
   "source": [
    "import pandas as pd\n",
    "import os\n",
    "import librosa\n",
    "import numpy as np"
   ]
  },
  {
   "cell_type": "code",
   "execution_count": 207,
   "id": "ef491026",
   "metadata": {},
   "outputs": [],
   "source": [
    "df =pd.read_csv(\"dataset_file_directory.csv\")"
   ]
  },
  {
   "cell_type": "code",
   "execution_count": 134,
   "id": "5d0a3415",
   "metadata": {},
   "outputs": [
    {
     "data": {
      "text/html": [
       "<div>\n",
       "<style scoped>\n",
       "    .dataframe tbody tr th:only-of-type {\n",
       "        vertical-align: middle;\n",
       "    }\n",
       "\n",
       "    .dataframe tbody tr th {\n",
       "        vertical-align: top;\n",
       "    }\n",
       "\n",
       "    .dataframe thead th {\n",
       "        text-align: right;\n",
       "    }\n",
       "</style>\n",
       "<table border=\"1\" class=\"dataframe\">\n",
       "  <thead>\n",
       "    <tr style=\"text-align: right;\">\n",
       "      <th></th>\n",
       "      <th>Filename</th>\n",
       "      <th>Participant</th>\n",
       "      <th>Label</th>\n",
       "    </tr>\n",
       "  </thead>\n",
       "  <tbody>\n",
       "    <tr>\n",
       "      <th>0</th>\n",
       "      <td>200126_2142_00-13-04.06--00-13-04.324.wav</td>\n",
       "      <td>P01</td>\n",
       "      <td>dysregulation-sick</td>\n",
       "    </tr>\n",
       "    <tr>\n",
       "      <th>1</th>\n",
       "      <td>200126_2142_00-06-41.54--00-06-42.47.wav</td>\n",
       "      <td>P01</td>\n",
       "      <td>dysregulation-sick</td>\n",
       "    </tr>\n",
       "    <tr>\n",
       "      <th>2</th>\n",
       "      <td>200126_2142_00-11-35.94--00-11-37.08.wav</td>\n",
       "      <td>P01</td>\n",
       "      <td>dysregulation-sick</td>\n",
       "    </tr>\n",
       "    <tr>\n",
       "      <th>3</th>\n",
       "      <td>200126_2142_00-12-11.66--00-12-15.31.wav</td>\n",
       "      <td>P01</td>\n",
       "      <td>dysregulation-sick</td>\n",
       "    </tr>\n",
       "    <tr>\n",
       "      <th>4</th>\n",
       "      <td>200126_2142_00-00-24.55--00-00-24.95.wav</td>\n",
       "      <td>P01</td>\n",
       "      <td>dysregulation-sick</td>\n",
       "    </tr>\n",
       "    <tr>\n",
       "      <th>...</th>\n",
       "      <td>...</td>\n",
       "      <td>...</td>\n",
       "      <td>...</td>\n",
       "    </tr>\n",
       "    <tr>\n",
       "      <th>7072</th>\n",
       "      <td>210318_1436_00-00-00.0--00-00-01.05.wav</td>\n",
       "      <td>P16</td>\n",
       "      <td>delighted</td>\n",
       "    </tr>\n",
       "    <tr>\n",
       "      <th>7073</th>\n",
       "      <td>210201_1427_00-00-07.09--00-00-07.73.wav</td>\n",
       "      <td>P16</td>\n",
       "      <td>delighted</td>\n",
       "    </tr>\n",
       "    <tr>\n",
       "      <th>7074</th>\n",
       "      <td>210112_1705_00-01-33.50--00-01-34.27c.wav</td>\n",
       "      <td>P16</td>\n",
       "      <td>delighted</td>\n",
       "    </tr>\n",
       "    <tr>\n",
       "      <th>7075</th>\n",
       "      <td>210112_1705_00-02-15.45--00-02-16.20c.wav</td>\n",
       "      <td>P16</td>\n",
       "      <td>delighted</td>\n",
       "    </tr>\n",
       "    <tr>\n",
       "      <th>7076</th>\n",
       "      <td>210113_1453_00-00-00.7--00-00-01.98.wav</td>\n",
       "      <td>P16</td>\n",
       "      <td>delighted</td>\n",
       "    </tr>\n",
       "  </tbody>\n",
       "</table>\n",
       "<p>7077 rows × 3 columns</p>\n",
       "</div>"
      ],
      "text/plain": [
       "                                       Filename Participant  \\\n",
       "0     200126_2142_00-13-04.06--00-13-04.324.wav         P01   \n",
       "1      200126_2142_00-06-41.54--00-06-42.47.wav         P01   \n",
       "2      200126_2142_00-11-35.94--00-11-37.08.wav         P01   \n",
       "3      200126_2142_00-12-11.66--00-12-15.31.wav         P01   \n",
       "4      200126_2142_00-00-24.55--00-00-24.95.wav         P01   \n",
       "...                                         ...         ...   \n",
       "7072    210318_1436_00-00-00.0--00-00-01.05.wav         P16   \n",
       "7073   210201_1427_00-00-07.09--00-00-07.73.wav         P16   \n",
       "7074  210112_1705_00-01-33.50--00-01-34.27c.wav         P16   \n",
       "7075  210112_1705_00-02-15.45--00-02-16.20c.wav         P16   \n",
       "7076    210113_1453_00-00-00.7--00-00-01.98.wav         P16   \n",
       "\n",
       "                   Label  \n",
       "0     dysregulation-sick  \n",
       "1     dysregulation-sick  \n",
       "2     dysregulation-sick  \n",
       "3     dysregulation-sick  \n",
       "4     dysregulation-sick  \n",
       "...                  ...  \n",
       "7072           delighted  \n",
       "7073           delighted  \n",
       "7074           delighted  \n",
       "7075           delighted  \n",
       "7076           delighted  \n",
       "\n",
       "[7077 rows x 3 columns]"
      ]
     },
     "execution_count": 134,
     "metadata": {},
     "output_type": "execute_result"
    }
   ],
   "source": [
    "df"
   ]
  },
  {
   "cell_type": "code",
   "execution_count": null,
   "id": "8ba02521",
   "metadata": {},
   "outputs": [],
   "source": [
    "p1_dataset =df[df['Participant'] == 'P01'] #select single person data\n",
    "p2_dataset =df[df['Participant']== 'P02']\n",
    "p3_dataset =df[df['Participant']== 'P03']\n",
    "p5_dataset =df[df['Participant']== 'P05']\n",
    "p6_dataset =df[df['Participant']== 'P06']\n",
    "p8_dataset =df[df['Participant']== 'P08']\n",
    "p11_dataset =df[df['Participant']== 'P11']\n",
    "p16_dataset =df[df['Participant']== 'P16']\n",
    "\n",
    "\n"
   ]
  },
  {
   "cell_type": "code",
   "execution_count": 337,
   "id": "720a4c72",
   "metadata": {},
   "outputs": [
    {
     "name": "stdout",
     "output_type": "stream",
     "text": [
      "        Class  Count\n",
      "0    selftalk    354\n",
      "1  frustrated    162\n",
      "2   delighted    139\n",
      "3      social     59\n",
      "no of classes: 4\n"
     ]
    }
   ],
   "source": [
    "num_classes = p16_dataset['Label'].nunique()\n",
    "class_counts = p16_dataset['Label'].value_counts()\n",
    "\n",
    "class_counts_df = class_counts.reset_index()\n",
    "class_counts_df.columns = ['Class', 'Count']\n",
    "print(class_counts_df)\n",
    "print(\"no of classes:\",num_classes)"
   ]
  },
  {
   "cell_type": "code",
   "execution_count": 323,
   "id": "73be2bdc",
   "metadata": {},
   "outputs": [],
   "source": [
    "#remove unwanted classes\n",
    "p8_dataset =p8_dataset[~p8_dataset['Label'].isin([ 'protest','more','tablet','dysregulated'])]\n",
    "p11_dataset =p11_dataset[~p11_dataset['Label'].isin(['greeting'])]\n",
    "p16_dataset =p16_dataset[~p16_dataset['Label'].isin(['dysregulated','no','request'])]\n",
    "\n"
   ]
  },
  {
   "cell_type": "code",
   "execution_count": 325,
   "id": "5e1bf682",
   "metadata": {},
   "outputs": [],
   "source": [
    "from sklearn.utils import shuffle\n",
    "p16_datasets = shuffle(p16_dataset)\n"
   ]
  },
  {
   "cell_type": "code",
   "execution_count": 359,
   "id": "6081f4dd",
   "metadata": {},
   "outputs": [
    {
     "name": "stdout",
     "output_type": "stream",
     "text": [
      "<class 'pandas.core.frame.DataFrame'>\n",
      "Int64Index: 714 entries, 6628 to 6701\n",
      "Data columns (total 3 columns):\n",
      " #   Column       Non-Null Count  Dtype \n",
      "---  ------       --------------  ----- \n",
      " 0   Filename     714 non-null    object\n",
      " 1   Participant  714 non-null    object\n",
      " 2   Label        714 non-null    object\n",
      "dtypes: object(3)\n",
      "memory usage: 22.3+ KB\n"
     ]
    }
   ],
   "source": [
    "p16_datasets.info()"
   ]
  },
  {
   "cell_type": "code",
   "execution_count": 327,
   "id": "c0507896",
   "metadata": {},
   "outputs": [
    {
     "name": "stdout",
     "output_type": "stream",
     "text": [
      "Related audio file unfound count: 0\n"
     ]
    }
   ],
   "source": [
    "#************note skipping Audio files that don't have correspondent audio file will remove this when data is not available******************\n",
    "\n",
    "\n",
    "# Specify the directory where your Python script is located\n",
    "script_dir = r\"C:\\Users\\pawan\\Desktop\\mv\\downloaddataset\"\n",
    "# Define the relative path to the WAV files directory\n",
    "wav_dir = os.path.join(script_dir, \"downloaded_wav_files\")\n",
    "\n",
    "# Initialize lists to store features and labels\n",
    "features1 = []\n",
    "labels1 = []\n",
    "null_file=0\n",
    "for index, row in p16_datasets.iterrows():\n",
    "    filename = row['Filename']\n",
    "    participant = row['Participant']\n",
    "    label = row['Label']\n",
    "    wav_file_path = os.path.join(wav_dir, filename)\n",
    "\n",
    "    # Check if the audio file exists before attempting to load it\n",
    "    if os.path.exists(wav_file_path):\n",
    "        try:\n",
    "            # Load the WAV file using librosa\n",
    "            audio_data, sample_rate = librosa.load(wav_file_path, sr=None)  # sr=None to preserve the original sample rate\n",
    "\n",
    "            # Perform feature extraction (e.g., MFCCs)\n",
    "            mfccs = librosa.feature.mfcc(y=audio_data, sr=sample_rate, n_mfcc=20)\n",
    "            chroma = librosa.feature.chroma_stft(y=audio_data, sr=sample_rate)\n",
    "            spectral_contrast = librosa.feature.spectral_contrast(y=audio_data, sr=sample_rate)\n",
    "            # Calculate the mean of MFCCs along each feature dimension\n",
    "#             rms = librosa.feature.rms(y=audio_data)\n",
    "#             rms_mean = np.mean(rms)\n",
    "\n",
    "          \n",
    "            mfccs_mean = np.mean(mfccs, axis=1)\n",
    "            chroma_mean = np.mean(chroma, axis=1)\n",
    "            spectral_contrast_mean = np.mean(spectral_contrast, axis=1)\n",
    "              # Concatenate RMS and MFCC features\n",
    "#             combined_features = np.concatenate((np.array([rms_mean]), mfccs_mean,chroma_mean,spectral_contrast_mean), axis=0)\n",
    "\n",
    "            #combined features\n",
    "            combined_feature_vector = np.hstack((mfccs_mean, chroma_mean, spectral_contrast_mean))\n",
    "            # Append the extracted features and label to the lists\n",
    "            features1.append(combined_feature_vector)\n",
    "            labels1.append(label)\n",
    "\n",
    "        except Exception as e:\n",
    "            print(f\"Error processing {wav_file_path}: {str(e)}\")\n",
    "    else:\n",
    "        null_file +=1\n",
    "        print(f\"Audio file not found: {wav_file_path}\")\n",
    "print(\"Related audio file unfound count:\",null_file)\n",
    "# Now, features1 and labels1 should only contain data for audio files that exist\n"
   ]
  },
  {
   "cell_type": "code",
   "execution_count": 328,
   "id": "311251ca",
   "metadata": {},
   "outputs": [],
   "source": [
    "X = np.array(features1)\n",
    "y = np.array(labels1)"
   ]
  },
  {
   "cell_type": "code",
   "execution_count": 329,
   "id": "0f4a706a",
   "metadata": {},
   "outputs": [
    {
     "name": "stdout",
     "output_type": "stream",
     "text": [
      "['selftalk', 'social', 'selftalk', 'frustrated', 'selftalk', 'selftalk', 'selftalk', 'frustrated', 'delighted', 'delighted', 'selftalk', 'frustrated', 'delighted', 'selftalk', 'selftalk', 'selftalk', 'frustrated', 'delighted', 'delighted', 'selftalk', 'selftalk', 'selftalk', 'selftalk', 'delighted', 'delighted', 'social', 'frustrated', 'delighted', 'selftalk', 'delighted', 'selftalk', 'selftalk', 'delighted', 'delighted', 'frustrated', 'social', 'selftalk', 'frustrated', 'selftalk', 'selftalk', 'selftalk', 'social', 'social', 'selftalk', 'selftalk', 'selftalk', 'frustrated', 'frustrated', 'frustrated', 'delighted', 'selftalk', 'delighted', 'selftalk', 'delighted', 'selftalk', 'selftalk', 'frustrated', 'delighted', 'selftalk', 'delighted', 'selftalk', 'selftalk', 'selftalk', 'delighted', 'selftalk', 'selftalk', 'frustrated', 'delighted', 'selftalk', 'frustrated', 'selftalk', 'frustrated', 'selftalk', 'frustrated', 'selftalk', 'frustrated', 'selftalk', 'delighted', 'delighted', 'social', 'delighted', 'frustrated', 'social', 'selftalk', 'frustrated', 'frustrated', 'selftalk', 'frustrated', 'selftalk', 'delighted', 'selftalk', 'selftalk', 'selftalk', 'selftalk', 'selftalk', 'selftalk', 'delighted', 'delighted', 'frustrated', 'delighted', 'selftalk', 'selftalk', 'frustrated', 'delighted', 'selftalk', 'frustrated', 'selftalk', 'selftalk', 'delighted', 'frustrated', 'selftalk', 'selftalk', 'social', 'selftalk', 'selftalk', 'delighted', 'selftalk', 'selftalk', 'selftalk', 'selftalk', 'selftalk', 'frustrated', 'selftalk', 'frustrated', 'frustrated', 'frustrated', 'delighted', 'selftalk', 'frustrated', 'delighted', 'selftalk', 'frustrated', 'delighted', 'social', 'selftalk', 'delighted', 'delighted', 'delighted', 'selftalk', 'selftalk', 'selftalk', 'selftalk', 'selftalk', 'frustrated', 'selftalk', 'frustrated', 'selftalk', 'social', 'delighted', 'delighted', 'frustrated', 'frustrated', 'frustrated', 'selftalk', 'delighted', 'social', 'delighted', 'frustrated', 'selftalk', 'social', 'delighted', 'social', 'frustrated', 'selftalk', 'frustrated', 'frustrated', 'selftalk', 'selftalk', 'selftalk', 'selftalk', 'selftalk', 'frustrated', 'selftalk', 'selftalk', 'delighted', 'selftalk', 'selftalk', 'delighted', 'selftalk', 'selftalk', 'selftalk', 'selftalk', 'selftalk', 'delighted', 'frustrated', 'selftalk', 'frustrated', 'selftalk', 'social', 'selftalk', 'frustrated', 'selftalk', 'delighted', 'delighted', 'delighted', 'delighted', 'selftalk', 'selftalk', 'delighted', 'selftalk', 'selftalk', 'selftalk', 'delighted', 'delighted', 'frustrated', 'selftalk', 'delighted', 'delighted', 'frustrated', 'delighted', 'social', 'selftalk', 'frustrated', 'delighted', 'frustrated', 'frustrated', 'selftalk', 'selftalk', 'social', 'delighted', 'selftalk', 'selftalk', 'selftalk', 'social', 'selftalk', 'social', 'selftalk', 'selftalk', 'delighted', 'selftalk', 'frustrated', 'frustrated', 'social', 'frustrated', 'frustrated', 'delighted', 'selftalk', 'selftalk', 'selftalk', 'social', 'selftalk', 'frustrated', 'delighted', 'frustrated', 'selftalk', 'selftalk', 'selftalk', 'selftalk', 'selftalk', 'selftalk', 'selftalk', 'frustrated', 'selftalk', 'selftalk', 'social', 'social', 'frustrated', 'social', 'selftalk', 'selftalk', 'selftalk', 'frustrated', 'selftalk', 'selftalk', 'frustrated', 'selftalk', 'selftalk', 'selftalk', 'selftalk', 'selftalk', 'selftalk', 'selftalk', 'selftalk', 'delighted', 'selftalk', 'delighted', 'selftalk', 'selftalk', 'delighted', 'delighted', 'selftalk', 'selftalk', 'frustrated', 'frustrated', 'selftalk', 'frustrated', 'frustrated', 'frustrated', 'selftalk', 'selftalk', 'frustrated', 'selftalk', 'frustrated', 'selftalk', 'delighted', 'frustrated', 'social', 'selftalk', 'selftalk', 'selftalk', 'social', 'selftalk', 'frustrated', 'delighted', 'frustrated', 'selftalk', 'selftalk', 'frustrated', 'delighted', 'delighted', 'social', 'delighted', 'frustrated', 'social', 'selftalk', 'delighted', 'frustrated', 'frustrated', 'selftalk', 'selftalk', 'selftalk', 'selftalk', 'selftalk', 'selftalk', 'delighted', 'selftalk', 'selftalk', 'selftalk', 'selftalk', 'delighted', 'delighted', 'social', 'social', 'selftalk', 'frustrated', 'selftalk', 'selftalk', 'social', 'selftalk', 'frustrated', 'selftalk', 'social', 'selftalk', 'selftalk', 'selftalk', 'selftalk', 'selftalk', 'social', 'selftalk', 'delighted', 'frustrated', 'selftalk', 'selftalk', 'selftalk', 'frustrated', 'selftalk', 'selftalk', 'frustrated', 'selftalk', 'frustrated', 'selftalk', 'frustrated', 'selftalk', 'selftalk', 'selftalk', 'selftalk', 'delighted', 'selftalk', 'frustrated', 'social', 'selftalk', 'selftalk', 'frustrated', 'selftalk', 'selftalk', 'delighted', 'selftalk', 'selftalk', 'selftalk', 'selftalk', 'selftalk', 'frustrated', 'delighted', 'selftalk', 'delighted', 'delighted', 'selftalk', 'selftalk', 'delighted', 'selftalk', 'frustrated', 'frustrated', 'delighted', 'delighted', 'selftalk', 'frustrated', 'selftalk', 'selftalk', 'selftalk', 'frustrated', 'social', 'selftalk', 'selftalk', 'selftalk', 'delighted', 'selftalk', 'frustrated', 'frustrated', 'selftalk', 'frustrated', 'selftalk', 'frustrated', 'selftalk', 'frustrated', 'delighted', 'delighted', 'frustrated', 'selftalk', 'frustrated', 'selftalk', 'delighted', 'social', 'selftalk', 'selftalk', 'frustrated', 'frustrated', 'frustrated', 'selftalk', 'selftalk', 'selftalk', 'selftalk', 'selftalk', 'social', 'frustrated', 'selftalk', 'selftalk', 'selftalk', 'selftalk', 'delighted', 'selftalk', 'selftalk', 'frustrated', 'delighted', 'selftalk', 'selftalk', 'social', 'delighted', 'delighted', 'delighted', 'selftalk', 'delighted', 'selftalk', 'selftalk', 'delighted', 'selftalk', 'frustrated', 'selftalk', 'frustrated', 'selftalk', 'selftalk', 'selftalk', 'delighted', 'frustrated', 'selftalk', 'selftalk', 'delighted', 'selftalk', 'selftalk', 'frustrated', 'frustrated', 'selftalk', 'frustrated', 'selftalk', 'delighted', 'frustrated', 'frustrated', 'selftalk', 'selftalk', 'selftalk', 'selftalk', 'selftalk', 'frustrated', 'social', 'selftalk', 'delighted', 'selftalk', 'frustrated', 'frustrated', 'selftalk', 'selftalk', 'frustrated', 'delighted', 'selftalk', 'selftalk', 'delighted', 'delighted', 'selftalk', 'selftalk', 'selftalk', 'frustrated', 'selftalk', 'selftalk', 'frustrated', 'selftalk', 'selftalk', 'selftalk', 'delighted', 'delighted', 'selftalk', 'selftalk', 'social', 'selftalk', 'delighted', 'frustrated', 'selftalk', 'social', 'selftalk', 'social', 'selftalk', 'delighted', 'selftalk', 'delighted', 'frustrated', 'selftalk', 'social', 'social', 'frustrated', 'selftalk', 'selftalk', 'frustrated', 'frustrated', 'frustrated', 'selftalk', 'selftalk', 'selftalk', 'selftalk', 'delighted', 'social', 'frustrated', 'selftalk', 'delighted', 'frustrated', 'selftalk', 'selftalk', 'frustrated', 'social', 'delighted', 'selftalk', 'delighted', 'frustrated', 'selftalk', 'delighted', 'social', 'delighted', 'selftalk', 'selftalk', 'delighted', 'selftalk', 'frustrated', 'selftalk', 'selftalk', 'selftalk', 'delighted', 'selftalk', 'social', 'selftalk', 'selftalk', 'social', 'social', 'frustrated', 'frustrated', 'selftalk', 'delighted', 'frustrated', 'selftalk', 'selftalk', 'social', 'selftalk', 'selftalk', 'delighted', 'delighted', 'selftalk', 'selftalk', 'selftalk', 'frustrated', 'selftalk', 'frustrated', 'selftalk', 'delighted', 'selftalk', 'delighted', 'delighted', 'delighted', 'selftalk', 'frustrated', 'delighted', 'selftalk', 'selftalk', 'selftalk', 'frustrated', 'selftalk', 'delighted', 'selftalk', 'selftalk', 'frustrated', 'selftalk', 'frustrated', 'delighted', 'frustrated', 'delighted', 'selftalk', 'frustrated', 'social', 'selftalk', 'frustrated', 'delighted', 'selftalk', 'selftalk', 'frustrated', 'selftalk', 'social', 'selftalk', 'delighted', 'selftalk', 'frustrated', 'frustrated', 'selftalk', 'frustrated', 'delighted', 'delighted', 'delighted', 'frustrated', 'frustrated', 'social', 'selftalk', 'frustrated', 'selftalk', 'selftalk', 'frustrated', 'selftalk', 'selftalk', 'frustrated', 'selftalk', 'delighted', 'selftalk', 'frustrated', 'selftalk', 'selftalk', 'selftalk', 'selftalk', 'frustrated', 'social', 'frustrated', 'delighted', 'selftalk', 'frustrated', 'selftalk', 'frustrated', 'selftalk', 'frustrated', 'social', 'frustrated', 'social', 'selftalk', 'selftalk', 'selftalk', 'frustrated', 'delighted', 'delighted', 'selftalk', 'selftalk', 'selftalk', 'selftalk', 'delighted', 'delighted', 'selftalk', 'selftalk', 'delighted', 'selftalk', 'delighted', 'frustrated', 'frustrated', 'delighted', 'delighted', 'frustrated', 'delighted', 'selftalk', 'frustrated', 'selftalk', 'selftalk', 'delighted', 'selftalk', 'selftalk', 'frustrated', 'selftalk', 'delighted', 'frustrated', 'selftalk', 'selftalk', 'selftalk', 'selftalk', 'selftalk', 'frustrated', 'social', 'social', 'selftalk', 'social', 'frustrated', 'selftalk', 'selftalk', 'selftalk', 'frustrated', 'frustrated', 'selftalk']\n"
     ]
    }
   ],
   "source": [
    "print(labels1)"
   ]
  },
  {
   "cell_type": "code",
   "execution_count": 330,
   "id": "36ba140f",
   "metadata": {},
   "outputs": [],
   "source": [
    "# Encode the labels\n",
    "from sklearn.preprocessing import LabelEncoder\n",
    "label_encoder = LabelEncoder()\n",
    "y_encoded = label_encoder.fit_transform(y)\n",
    "#split data into training and test set\n",
    "from sklearn.model_selection import train_test_split\n",
    "X_train, X_test, y_train, y_test = train_test_split(X, y_encoded,test_size=0.25, random_state=42)\n"
   ]
  },
  {
   "cell_type": "code",
   "execution_count": 331,
   "id": "fb75e95d",
   "metadata": {},
   "outputs": [
    {
     "name": "stdout",
     "output_type": "stream",
     "text": [
      "All classes are present in both the training and test sets.\n"
     ]
    }
   ],
   "source": [
    "unique_classes_train, counts_train = np.unique(y_train, return_counts=True)\n",
    "unique_classes_test, counts_test = np.unique(y_test, return_counts=True)\n",
    "\n",
    "# Compare the unique classes in both sets\n",
    "if np.array_equal(unique_classes_train, unique_classes_test):\n",
    "    print(\"All classes are present in both the training and test sets.\")\n",
    "else:\n",
    "    print(\"Classes are not consistent between training and test sets.\")\n"
   ]
  },
  {
   "cell_type": "code",
   "execution_count": 332,
   "id": "f6a1d676",
   "metadata": {},
   "outputs": [
    {
     "data": {
      "text/plain": [
       "(535, 39)"
      ]
     },
     "execution_count": 332,
     "metadata": {},
     "output_type": "execute_result"
    }
   ],
   "source": [
    "X_train.shape"
   ]
  },
  {
   "cell_type": "code",
   "execution_count": 333,
   "id": "540c5912",
   "metadata": {},
   "outputs": [
    {
     "name": "stdout",
     "output_type": "stream",
     "text": [
      "['selftalk' 'social' 'selftalk' 'frustrated' 'selftalk' 'selftalk'\n",
      " 'selftalk' 'frustrated' 'delighted' 'delighted' 'selftalk' 'frustrated'\n",
      " 'delighted' 'selftalk' 'selftalk' 'selftalk' 'frustrated' 'delighted'\n",
      " 'delighted' 'selftalk' 'selftalk' 'selftalk' 'selftalk' 'delighted'\n",
      " 'delighted' 'social' 'frustrated' 'delighted' 'selftalk' 'delighted'\n",
      " 'selftalk' 'selftalk' 'delighted' 'delighted' 'frustrated' 'social'\n",
      " 'selftalk' 'frustrated' 'selftalk' 'selftalk' 'selftalk' 'social'\n",
      " 'social' 'selftalk' 'selftalk' 'selftalk' 'frustrated' 'frustrated'\n",
      " 'frustrated' 'delighted' 'selftalk' 'delighted' 'selftalk' 'delighted'\n",
      " 'selftalk' 'selftalk' 'frustrated' 'delighted' 'selftalk' 'delighted'\n",
      " 'selftalk' 'selftalk' 'selftalk' 'delighted' 'selftalk' 'selftalk'\n",
      " 'frustrated' 'delighted' 'selftalk' 'frustrated' 'selftalk' 'frustrated'\n",
      " 'selftalk' 'frustrated' 'selftalk' 'frustrated' 'selftalk' 'delighted'\n",
      " 'delighted' 'social' 'delighted' 'frustrated' 'social' 'selftalk'\n",
      " 'frustrated' 'frustrated' 'selftalk' 'frustrated' 'selftalk' 'delighted'\n",
      " 'selftalk' 'selftalk' 'selftalk' 'selftalk' 'selftalk' 'selftalk'\n",
      " 'delighted' 'delighted' 'frustrated' 'delighted' 'selftalk' 'selftalk'\n",
      " 'frustrated' 'delighted' 'selftalk' 'frustrated' 'selftalk' 'selftalk'\n",
      " 'delighted' 'frustrated' 'selftalk' 'selftalk' 'social' 'selftalk'\n",
      " 'selftalk' 'delighted' 'selftalk' 'selftalk' 'selftalk' 'selftalk'\n",
      " 'selftalk' 'frustrated' 'selftalk' 'frustrated' 'frustrated' 'frustrated'\n",
      " 'delighted' 'selftalk' 'frustrated' 'delighted' 'selftalk' 'frustrated'\n",
      " 'delighted' 'social' 'selftalk' 'delighted' 'delighted' 'delighted'\n",
      " 'selftalk' 'selftalk' 'selftalk' 'selftalk' 'selftalk' 'frustrated'\n",
      " 'selftalk' 'frustrated' 'selftalk' 'social' 'delighted' 'delighted'\n",
      " 'frustrated' 'frustrated' 'frustrated' 'selftalk' 'delighted' 'social'\n",
      " 'delighted' 'frustrated' 'selftalk' 'social' 'delighted' 'social'\n",
      " 'frustrated' 'selftalk' 'frustrated' 'frustrated' 'selftalk' 'selftalk'\n",
      " 'selftalk' 'selftalk' 'selftalk' 'frustrated' 'selftalk' 'selftalk'\n",
      " 'delighted' 'selftalk' 'selftalk' 'delighted' 'selftalk' 'selftalk'\n",
      " 'selftalk' 'selftalk' 'selftalk' 'delighted' 'frustrated' 'selftalk'\n",
      " 'frustrated' 'selftalk' 'social' 'selftalk' 'frustrated' 'selftalk'\n",
      " 'delighted' 'delighted' 'delighted' 'delighted' 'selftalk' 'selftalk'\n",
      " 'delighted' 'selftalk' 'selftalk' 'selftalk' 'delighted' 'delighted'\n",
      " 'frustrated' 'selftalk' 'delighted' 'delighted' 'frustrated' 'delighted'\n",
      " 'social' 'selftalk' 'frustrated' 'delighted' 'frustrated' 'frustrated'\n",
      " 'selftalk' 'selftalk' 'social' 'delighted' 'selftalk' 'selftalk'\n",
      " 'selftalk' 'social' 'selftalk' 'social' 'selftalk' 'selftalk' 'delighted'\n",
      " 'selftalk' 'frustrated' 'frustrated' 'social' 'frustrated' 'frustrated'\n",
      " 'delighted' 'selftalk' 'selftalk' 'selftalk' 'social' 'selftalk'\n",
      " 'frustrated' 'delighted' 'frustrated' 'selftalk' 'selftalk' 'selftalk'\n",
      " 'selftalk' 'selftalk' 'selftalk' 'selftalk' 'frustrated' 'selftalk'\n",
      " 'selftalk' 'social' 'social' 'frustrated' 'social' 'selftalk' 'selftalk'\n",
      " 'selftalk' 'frustrated' 'selftalk' 'selftalk' 'frustrated' 'selftalk'\n",
      " 'selftalk' 'selftalk' 'selftalk' 'selftalk' 'selftalk' 'selftalk'\n",
      " 'selftalk' 'delighted' 'selftalk' 'delighted' 'selftalk' 'selftalk'\n",
      " 'delighted' 'delighted' 'selftalk' 'selftalk' 'frustrated' 'frustrated'\n",
      " 'selftalk' 'frustrated' 'frustrated' 'frustrated' 'selftalk' 'selftalk'\n",
      " 'frustrated' 'selftalk' 'frustrated' 'selftalk' 'delighted' 'frustrated'\n",
      " 'social' 'selftalk' 'selftalk' 'selftalk' 'social' 'selftalk'\n",
      " 'frustrated' 'delighted' 'frustrated' 'selftalk' 'selftalk' 'frustrated'\n",
      " 'delighted' 'delighted' 'social' 'delighted' 'frustrated' 'social'\n",
      " 'selftalk' 'delighted' 'frustrated' 'frustrated' 'selftalk' 'selftalk'\n",
      " 'selftalk' 'selftalk' 'selftalk' 'selftalk' 'delighted' 'selftalk'\n",
      " 'selftalk' 'selftalk' 'selftalk' 'delighted' 'delighted' 'social'\n",
      " 'social' 'selftalk' 'frustrated' 'selftalk' 'selftalk' 'social'\n",
      " 'selftalk' 'frustrated' 'selftalk' 'social' 'selftalk' 'selftalk'\n",
      " 'selftalk' 'selftalk' 'selftalk' 'social' 'selftalk' 'delighted'\n",
      " 'frustrated' 'selftalk' 'selftalk' 'selftalk' 'frustrated' 'selftalk'\n",
      " 'selftalk' 'frustrated' 'selftalk' 'frustrated' 'selftalk' 'frustrated'\n",
      " 'selftalk' 'selftalk' 'selftalk' 'selftalk' 'delighted' 'selftalk'\n",
      " 'frustrated' 'social' 'selftalk' 'selftalk' 'frustrated' 'selftalk'\n",
      " 'selftalk' 'delighted' 'selftalk' 'selftalk' 'selftalk' 'selftalk'\n",
      " 'selftalk' 'frustrated' 'delighted' 'selftalk' 'delighted' 'delighted'\n",
      " 'selftalk' 'selftalk' 'delighted' 'selftalk' 'frustrated' 'frustrated'\n",
      " 'delighted' 'delighted' 'selftalk' 'frustrated' 'selftalk' 'selftalk'\n",
      " 'selftalk' 'frustrated' 'social' 'selftalk' 'selftalk' 'selftalk'\n",
      " 'delighted' 'selftalk' 'frustrated' 'frustrated' 'selftalk' 'frustrated'\n",
      " 'selftalk' 'frustrated' 'selftalk' 'frustrated' 'delighted' 'delighted'\n",
      " 'frustrated' 'selftalk' 'frustrated' 'selftalk' 'delighted' 'social'\n",
      " 'selftalk' 'selftalk' 'frustrated' 'frustrated' 'frustrated' 'selftalk'\n",
      " 'selftalk' 'selftalk' 'selftalk' 'selftalk' 'social' 'frustrated'\n",
      " 'selftalk' 'selftalk' 'selftalk' 'selftalk' 'delighted' 'selftalk'\n",
      " 'selftalk' 'frustrated' 'delighted' 'selftalk' 'selftalk' 'social'\n",
      " 'delighted' 'delighted' 'delighted' 'selftalk' 'delighted' 'selftalk'\n",
      " 'selftalk' 'delighted' 'selftalk' 'frustrated' 'selftalk' 'frustrated'\n",
      " 'selftalk' 'selftalk' 'selftalk' 'delighted' 'frustrated' 'selftalk'\n",
      " 'selftalk' 'delighted' 'selftalk' 'selftalk' 'frustrated' 'frustrated'\n",
      " 'selftalk' 'frustrated' 'selftalk' 'delighted' 'frustrated' 'frustrated'\n",
      " 'selftalk' 'selftalk' 'selftalk' 'selftalk' 'selftalk' 'frustrated'\n",
      " 'social' 'selftalk' 'delighted' 'selftalk' 'frustrated' 'frustrated'\n",
      " 'selftalk' 'selftalk' 'frustrated' 'delighted' 'selftalk' 'selftalk'\n",
      " 'delighted' 'delighted' 'selftalk' 'selftalk' 'selftalk' 'frustrated'\n",
      " 'selftalk' 'selftalk' 'frustrated' 'selftalk' 'selftalk' 'selftalk'\n",
      " 'delighted' 'delighted' 'selftalk' 'selftalk' 'social' 'selftalk'\n",
      " 'delighted' 'frustrated' 'selftalk' 'social' 'selftalk' 'social'\n",
      " 'selftalk' 'delighted' 'selftalk' 'delighted' 'frustrated' 'selftalk'\n",
      " 'social' 'social' 'frustrated' 'selftalk' 'selftalk' 'frustrated'\n",
      " 'frustrated' 'frustrated' 'selftalk' 'selftalk' 'selftalk' 'selftalk'\n",
      " 'delighted' 'social' 'frustrated' 'selftalk' 'delighted' 'frustrated'\n",
      " 'selftalk' 'selftalk' 'frustrated' 'social' 'delighted' 'selftalk'\n",
      " 'delighted' 'frustrated' 'selftalk' 'delighted' 'social' 'delighted'\n",
      " 'selftalk' 'selftalk' 'delighted' 'selftalk' 'frustrated' 'selftalk'\n",
      " 'selftalk' 'selftalk' 'delighted' 'selftalk' 'social' 'selftalk'\n",
      " 'selftalk' 'social' 'social' 'frustrated' 'frustrated' 'selftalk'\n",
      " 'delighted' 'frustrated' 'selftalk' 'selftalk' 'social' 'selftalk'\n",
      " 'selftalk' 'delighted' 'delighted' 'selftalk' 'selftalk' 'selftalk'\n",
      " 'frustrated' 'selftalk' 'frustrated' 'selftalk' 'delighted' 'selftalk'\n",
      " 'delighted' 'delighted' 'delighted' 'selftalk' 'frustrated' 'delighted'\n",
      " 'selftalk' 'selftalk' 'selftalk' 'frustrated' 'selftalk' 'delighted'\n",
      " 'selftalk' 'selftalk' 'frustrated' 'selftalk' 'frustrated' 'delighted'\n",
      " 'frustrated' 'delighted' 'selftalk' 'frustrated' 'social' 'selftalk'\n",
      " 'frustrated' 'delighted' 'selftalk' 'selftalk' 'frustrated' 'selftalk'\n",
      " 'social' 'selftalk' 'delighted' 'selftalk' 'frustrated' 'frustrated'\n",
      " 'selftalk' 'frustrated' 'delighted' 'delighted' 'delighted' 'frustrated'\n",
      " 'frustrated' 'social' 'selftalk' 'frustrated' 'selftalk' 'selftalk'\n",
      " 'frustrated' 'selftalk' 'selftalk' 'frustrated' 'selftalk' 'delighted'\n",
      " 'selftalk' 'frustrated' 'selftalk' 'selftalk' 'selftalk' 'selftalk'\n",
      " 'frustrated' 'social' 'frustrated' 'delighted' 'selftalk' 'frustrated'\n",
      " 'selftalk' 'frustrated' 'selftalk' 'frustrated' 'social' 'frustrated'\n",
      " 'social' 'selftalk' 'selftalk' 'selftalk' 'frustrated' 'delighted'\n",
      " 'delighted' 'selftalk' 'selftalk' 'selftalk' 'selftalk' 'delighted'\n",
      " 'delighted' 'selftalk' 'selftalk' 'delighted' 'selftalk' 'delighted'\n",
      " 'frustrated' 'frustrated' 'delighted' 'delighted' 'frustrated'\n",
      " 'delighted' 'selftalk' 'frustrated' 'selftalk' 'selftalk' 'delighted'\n",
      " 'selftalk' 'selftalk' 'frustrated' 'selftalk' 'delighted' 'frustrated'\n",
      " 'selftalk' 'selftalk' 'selftalk' 'selftalk' 'selftalk' 'frustrated'\n",
      " 'social' 'social' 'selftalk' 'social' 'frustrated' 'selftalk' 'selftalk'\n",
      " 'selftalk' 'frustrated' 'frustrated' 'selftalk']\n"
     ]
    }
   ],
   "source": [
    "print(y)"
   ]
  },
  {
   "cell_type": "code",
   "execution_count": null,
   "id": "53e130be",
   "metadata": {},
   "outputs": [],
   "source": []
  },
  {
   "cell_type": "code",
   "execution_count": null,
   "id": "9dc80bca",
   "metadata": {},
   "outputs": [],
   "source": []
  },
  {
   "cell_type": "code",
   "execution_count": 338,
   "id": "05e05e9f",
   "metadata": {},
   "outputs": [],
   "source": [
    "\n",
    "#define cnn model\n",
    "import tensorflow as tf\n",
    "from tensorflow.keras import layers, models\n",
    "\n",
    "\n",
    "# # Define the CNN model\n",
    "# model = models.Sequential([\n",
    "#     layers.Reshape((X_train.shape[1], 1), input_shape=(X_train.shape[1],)),\n",
    "#     layers.Conv1D(64, 3, activation='relu'),\n",
    "#     layers.MaxPooling1D(2),\n",
    "#     layers.Flatten(),\n",
    "#     layers.Dense(64, activation='relu'),\n",
    "#     layers.Dense(10, activation='softmax')  # Two output classes\n",
    "# ])\n",
    "\n",
    "model = models.Sequential([\n",
    "    layers.Reshape((X_train.shape[1], 1), input_shape=(X_train.shape[1],)),\n",
    "    \n",
    "    # Add more convolutional layers\n",
    "    layers.Conv1D(64, 3, activation='relu', padding='same'),\n",
    "    layers.MaxPooling1D(2),\n",
    "    \n",
    "    layers.Conv1D(128, 3, activation='relu', padding='same'),\n",
    "    layers.MaxPooling1D(2),\n",
    "    \n",
    "    layers.Conv1D(256, 3, activation='relu', padding='same'),\n",
    "    layers.MaxPooling1D(2),\n",
    "    \n",
    "    layers.Flatten(),\n",
    "    \n",
    "    # Add more dense layers\n",
    "    layers.Dense(256, activation='relu'),\n",
    "    layers.Dropout(0.5),  # Dropout layer to reduce overfitting\n",
    "    \n",
    "    layers.Dense(128, activation='relu'),\n",
    "    layers.Dropout(0.5),\n",
    "    \n",
    "    layers.Dense(6, activation='softmax') \n",
    "])"
   ]
  },
  {
   "cell_type": "code",
   "execution_count": 339,
   "id": "abbda88b",
   "metadata": {},
   "outputs": [],
   "source": [
    "# Compile the model\n",
    "model.compile(optimizer='adam',\n",
    "              loss='sparse_categorical_crossentropy',\n",
    "              metrics=['accuracy'])"
   ]
  },
  {
   "cell_type": "code",
   "execution_count": 340,
   "id": "a1003727",
   "metadata": {},
   "outputs": [
    {
     "name": "stdout",
     "output_type": "stream",
     "text": [
      "Epoch 1/100\n",
      "10/10 [==============================] - 1s 54ms/step - loss: 3.6122 - accuracy: 0.3505 - val_loss: 1.2274 - val_accuracy: 0.5514\n",
      "Epoch 2/100\n",
      "10/10 [==============================] - 0s 15ms/step - loss: 1.5032 - accuracy: 0.4089 - val_loss: 1.2080 - val_accuracy: 0.5140\n",
      "Epoch 3/100\n",
      "10/10 [==============================] - 0s 15ms/step - loss: 1.4131 - accuracy: 0.4393 - val_loss: 1.1804 - val_accuracy: 0.5794\n",
      "Epoch 4/100\n",
      "10/10 [==============================] - 0s 15ms/step - loss: 1.2608 - accuracy: 0.5140 - val_loss: 1.0466 - val_accuracy: 0.6168\n",
      "Epoch 5/100\n",
      "10/10 [==============================] - 0s 16ms/step - loss: 1.1735 - accuracy: 0.5491 - val_loss: 1.0099 - val_accuracy: 0.6916\n",
      "Epoch 6/100\n",
      "10/10 [==============================] - 0s 16ms/step - loss: 1.0820 - accuracy: 0.5841 - val_loss: 0.9368 - val_accuracy: 0.6355\n",
      "Epoch 7/100\n",
      "10/10 [==============================] - 0s 15ms/step - loss: 1.0540 - accuracy: 0.5981 - val_loss: 0.8837 - val_accuracy: 0.6636\n",
      "Epoch 8/100\n",
      "10/10 [==============================] - 0s 15ms/step - loss: 1.0426 - accuracy: 0.6121 - val_loss: 0.8821 - val_accuracy: 0.6729\n",
      "Epoch 9/100\n",
      "10/10 [==============================] - 0s 15ms/step - loss: 0.9527 - accuracy: 0.6472 - val_loss: 0.8561 - val_accuracy: 0.6916\n",
      "Epoch 10/100\n",
      "10/10 [==============================] - 0s 14ms/step - loss: 0.9361 - accuracy: 0.6472 - val_loss: 0.8319 - val_accuracy: 0.6636\n",
      "Epoch 11/100\n",
      "10/10 [==============================] - 0s 14ms/step - loss: 0.9127 - accuracy: 0.6495 - val_loss: 0.8771 - val_accuracy: 0.6729\n",
      "Epoch 12/100\n",
      "10/10 [==============================] - 0s 15ms/step - loss: 0.8954 - accuracy: 0.6682 - val_loss: 0.8181 - val_accuracy: 0.6916\n",
      "Epoch 13/100\n",
      "10/10 [==============================] - 0s 15ms/step - loss: 0.8498 - accuracy: 0.6425 - val_loss: 0.8132 - val_accuracy: 0.7196\n",
      "Epoch 14/100\n",
      "10/10 [==============================] - 0s 14ms/step - loss: 0.8336 - accuracy: 0.6846 - val_loss: 0.7812 - val_accuracy: 0.7009\n",
      "Epoch 15/100\n",
      "10/10 [==============================] - 0s 15ms/step - loss: 0.7869 - accuracy: 0.6939 - val_loss: 0.7835 - val_accuracy: 0.7196\n",
      "Epoch 16/100\n",
      "10/10 [==============================] - 0s 15ms/step - loss: 0.7505 - accuracy: 0.7243 - val_loss: 0.8280 - val_accuracy: 0.6916\n",
      "Epoch 17/100\n",
      "10/10 [==============================] - 0s 14ms/step - loss: 0.7281 - accuracy: 0.7360 - val_loss: 0.7965 - val_accuracy: 0.6916\n",
      "Epoch 18/100\n",
      "10/10 [==============================] - 0s 14ms/step - loss: 0.7465 - accuracy: 0.7243 - val_loss: 0.8304 - val_accuracy: 0.7290\n",
      "Epoch 19/100\n",
      "10/10 [==============================] - 0s 15ms/step - loss: 0.7205 - accuracy: 0.7173 - val_loss: 0.8559 - val_accuracy: 0.7383\n",
      "Epoch 20/100\n",
      "10/10 [==============================] - 0s 15ms/step - loss: 0.6927 - accuracy: 0.7617 - val_loss: 0.8064 - val_accuracy: 0.7290\n",
      "Epoch 21/100\n",
      "10/10 [==============================] - 0s 14ms/step - loss: 0.5582 - accuracy: 0.7710 - val_loss: 0.8027 - val_accuracy: 0.7290\n",
      "Epoch 22/100\n",
      "10/10 [==============================] - 0s 15ms/step - loss: 0.5643 - accuracy: 0.7991 - val_loss: 0.8145 - val_accuracy: 0.7664\n",
      "Epoch 23/100\n",
      "10/10 [==============================] - 0s 15ms/step - loss: 0.5417 - accuracy: 0.7874 - val_loss: 0.8562 - val_accuracy: 0.7477\n",
      "Epoch 24/100\n",
      "10/10 [==============================] - 0s 15ms/step - loss: 0.5508 - accuracy: 0.7850 - val_loss: 0.8332 - val_accuracy: 0.6916\n",
      "Epoch 25/100\n",
      "10/10 [==============================] - 0s 15ms/step - loss: 0.5256 - accuracy: 0.8107 - val_loss: 0.8063 - val_accuracy: 0.7196\n",
      "Epoch 26/100\n",
      "10/10 [==============================] - 0s 17ms/step - loss: 0.5320 - accuracy: 0.8201 - val_loss: 0.9058 - val_accuracy: 0.7570\n",
      "Epoch 27/100\n",
      "10/10 [==============================] - 0s 15ms/step - loss: 0.5012 - accuracy: 0.7991 - val_loss: 0.8914 - val_accuracy: 0.7664\n",
      "Epoch 28/100\n",
      "10/10 [==============================] - 0s 16ms/step - loss: 0.4078 - accuracy: 0.8621 - val_loss: 0.8597 - val_accuracy: 0.7383\n",
      "Epoch 29/100\n",
      "10/10 [==============================] - 0s 15ms/step - loss: 0.4389 - accuracy: 0.8435 - val_loss: 0.8366 - val_accuracy: 0.7664\n",
      "Epoch 30/100\n",
      "10/10 [==============================] - 0s 15ms/step - loss: 0.3775 - accuracy: 0.8645 - val_loss: 0.9530 - val_accuracy: 0.7477\n",
      "Epoch 31/100\n",
      "10/10 [==============================] - 0s 15ms/step - loss: 0.3802 - accuracy: 0.8364 - val_loss: 0.9891 - val_accuracy: 0.7009\n",
      "Epoch 32/100\n",
      "10/10 [==============================] - 0s 16ms/step - loss: 0.3451 - accuracy: 0.8692 - val_loss: 1.0078 - val_accuracy: 0.7196\n",
      "Epoch 33/100\n",
      "10/10 [==============================] - 0s 16ms/step - loss: 0.3164 - accuracy: 0.8902 - val_loss: 0.9170 - val_accuracy: 0.7009\n",
      "Epoch 34/100\n",
      "10/10 [==============================] - 0s 16ms/step - loss: 0.3017 - accuracy: 0.8808 - val_loss: 0.9945 - val_accuracy: 0.6916\n",
      "Epoch 35/100\n",
      "10/10 [==============================] - 0s 15ms/step - loss: 0.3048 - accuracy: 0.8808 - val_loss: 0.9200 - val_accuracy: 0.7009\n",
      "Epoch 36/100\n",
      "10/10 [==============================] - 0s 15ms/step - loss: 0.2418 - accuracy: 0.9182 - val_loss: 0.9765 - val_accuracy: 0.7664\n",
      "Epoch 37/100\n",
      "10/10 [==============================] - 0s 16ms/step - loss: 0.2390 - accuracy: 0.9159 - val_loss: 0.9592 - val_accuracy: 0.7383\n",
      "Epoch 38/100\n",
      "10/10 [==============================] - 0s 16ms/step - loss: 0.2373 - accuracy: 0.9322 - val_loss: 1.2154 - val_accuracy: 0.7290\n",
      "Epoch 39/100\n",
      "10/10 [==============================] - 0s 18ms/step - loss: 0.2347 - accuracy: 0.8925 - val_loss: 1.0587 - val_accuracy: 0.6916\n",
      "Epoch 40/100\n",
      "10/10 [==============================] - 0s 16ms/step - loss: 0.1876 - accuracy: 0.9416 - val_loss: 1.1363 - val_accuracy: 0.7570\n",
      "Epoch 41/100\n",
      "10/10 [==============================] - 0s 16ms/step - loss: 0.1730 - accuracy: 0.9346 - val_loss: 1.3416 - val_accuracy: 0.7664\n",
      "Epoch 42/100\n",
      "10/10 [==============================] - 0s 15ms/step - loss: 0.1677 - accuracy: 0.9416 - val_loss: 1.2429 - val_accuracy: 0.7383\n",
      "Epoch 43/100\n",
      "10/10 [==============================] - 0s 15ms/step - loss: 0.1284 - accuracy: 0.9650 - val_loss: 1.3711 - val_accuracy: 0.6916\n",
      "Epoch 44/100\n",
      "10/10 [==============================] - 0s 15ms/step - loss: 0.1448 - accuracy: 0.9439 - val_loss: 1.3452 - val_accuracy: 0.7570\n",
      "Epoch 45/100\n",
      "10/10 [==============================] - 0s 14ms/step - loss: 0.1202 - accuracy: 0.9650 - val_loss: 1.4166 - val_accuracy: 0.7290\n",
      "Epoch 46/100\n",
      "10/10 [==============================] - 0s 16ms/step - loss: 0.1167 - accuracy: 0.9533 - val_loss: 1.4857 - val_accuracy: 0.7570\n",
      "Epoch 47/100\n",
      "10/10 [==============================] - 0s 15ms/step - loss: 0.0954 - accuracy: 0.9650 - val_loss: 1.5697 - val_accuracy: 0.7009\n",
      "Epoch 48/100\n",
      "10/10 [==============================] - 0s 17ms/step - loss: 0.1083 - accuracy: 0.9650 - val_loss: 1.5594 - val_accuracy: 0.7009\n",
      "Epoch 49/100\n",
      "10/10 [==============================] - 0s 15ms/step - loss: 0.0925 - accuracy: 0.9603 - val_loss: 1.4439 - val_accuracy: 0.7757\n",
      "Epoch 50/100\n",
      "10/10 [==============================] - 0s 15ms/step - loss: 0.1240 - accuracy: 0.9579 - val_loss: 1.5635 - val_accuracy: 0.7664\n",
      "Epoch 51/100\n",
      "10/10 [==============================] - 0s 16ms/step - loss: 0.1215 - accuracy: 0.9486 - val_loss: 1.3248 - val_accuracy: 0.7850\n",
      "Epoch 52/100\n",
      "10/10 [==============================] - 0s 16ms/step - loss: 0.1183 - accuracy: 0.9650 - val_loss: 1.7394 - val_accuracy: 0.6916\n",
      "Epoch 53/100\n",
      "10/10 [==============================] - 0s 15ms/step - loss: 0.1251 - accuracy: 0.9650 - val_loss: 1.5065 - val_accuracy: 0.7757\n",
      "Epoch 54/100\n",
      "10/10 [==============================] - 0s 15ms/step - loss: 0.1188 - accuracy: 0.9579 - val_loss: 1.4524 - val_accuracy: 0.7477\n",
      "Epoch 55/100\n",
      "10/10 [==============================] - 0s 14ms/step - loss: 0.0653 - accuracy: 0.9790 - val_loss: 1.4311 - val_accuracy: 0.7664\n",
      "Epoch 56/100\n",
      "10/10 [==============================] - 0s 15ms/step - loss: 0.0461 - accuracy: 0.9883 - val_loss: 1.6529 - val_accuracy: 0.7664\n",
      "Epoch 57/100\n",
      "10/10 [==============================] - 0s 15ms/step - loss: 0.0545 - accuracy: 0.9766 - val_loss: 1.5459 - val_accuracy: 0.7757\n",
      "Epoch 58/100\n",
      "10/10 [==============================] - 0s 17ms/step - loss: 0.0861 - accuracy: 0.9673 - val_loss: 1.7317 - val_accuracy: 0.7570\n",
      "Epoch 59/100\n",
      "10/10 [==============================] - 0s 16ms/step - loss: 0.0788 - accuracy: 0.9836 - val_loss: 1.4175 - val_accuracy: 0.7664\n",
      "Epoch 60/100\n",
      "10/10 [==============================] - 0s 15ms/step - loss: 0.0581 - accuracy: 0.9813 - val_loss: 1.3370 - val_accuracy: 0.7477\n",
      "Epoch 61/100\n",
      "10/10 [==============================] - 0s 15ms/step - loss: 0.0479 - accuracy: 0.9860 - val_loss: 1.9338 - val_accuracy: 0.7477\n",
      "Epoch 62/100\n",
      "10/10 [==============================] - 0s 14ms/step - loss: 0.0634 - accuracy: 0.9790 - val_loss: 1.7082 - val_accuracy: 0.7383\n",
      "Epoch 63/100\n",
      "10/10 [==============================] - 0s 15ms/step - loss: 0.0317 - accuracy: 0.9907 - val_loss: 1.7244 - val_accuracy: 0.7757\n",
      "Epoch 64/100\n",
      "10/10 [==============================] - 0s 16ms/step - loss: 0.0302 - accuracy: 0.9907 - val_loss: 1.7671 - val_accuracy: 0.7757\n",
      "Epoch 65/100\n",
      "10/10 [==============================] - 0s 19ms/step - loss: 0.0268 - accuracy: 0.9907 - val_loss: 2.0606 - val_accuracy: 0.7477\n",
      "Epoch 66/100\n",
      "10/10 [==============================] - 0s 14ms/step - loss: 0.0422 - accuracy: 0.9860 - val_loss: 1.7515 - val_accuracy: 0.7664\n",
      "Epoch 67/100\n",
      "10/10 [==============================] - 0s 15ms/step - loss: 0.0845 - accuracy: 0.9836 - val_loss: 1.6284 - val_accuracy: 0.7290\n",
      "Epoch 68/100\n",
      "10/10 [==============================] - 0s 14ms/step - loss: 0.0343 - accuracy: 0.9883 - val_loss: 1.8745 - val_accuracy: 0.7757\n",
      "Epoch 69/100\n",
      "10/10 [==============================] - 0s 15ms/step - loss: 0.0255 - accuracy: 0.9953 - val_loss: 1.5797 - val_accuracy: 0.7570\n",
      "Epoch 70/100\n",
      "10/10 [==============================] - 0s 16ms/step - loss: 0.0247 - accuracy: 0.9953 - val_loss: 1.9444 - val_accuracy: 0.7664\n",
      "Epoch 71/100\n",
      "10/10 [==============================] - 0s 15ms/step - loss: 0.0151 - accuracy: 0.9953 - val_loss: 1.8996 - val_accuracy: 0.7850\n",
      "Epoch 72/100\n",
      "10/10 [==============================] - 0s 16ms/step - loss: 0.0166 - accuracy: 0.9977 - val_loss: 1.9807 - val_accuracy: 0.7383\n",
      "Epoch 73/100\n",
      "10/10 [==============================] - 0s 15ms/step - loss: 0.0286 - accuracy: 0.9953 - val_loss: 1.8477 - val_accuracy: 0.7196\n",
      "Epoch 74/100\n",
      "10/10 [==============================] - 0s 16ms/step - loss: 0.0304 - accuracy: 0.9860 - val_loss: 1.9307 - val_accuracy: 0.7570\n",
      "Epoch 75/100\n",
      "10/10 [==============================] - 0s 15ms/step - loss: 0.0183 - accuracy: 0.9953 - val_loss: 1.9376 - val_accuracy: 0.7664\n",
      "Epoch 76/100\n",
      "10/10 [==============================] - 0s 15ms/step - loss: 0.0164 - accuracy: 0.9953 - val_loss: 1.9276 - val_accuracy: 0.7757\n",
      "Epoch 77/100\n",
      "10/10 [==============================] - 0s 15ms/step - loss: 0.0230 - accuracy: 0.9930 - val_loss: 1.9552 - val_accuracy: 0.7664\n",
      "Epoch 78/100\n",
      "10/10 [==============================] - 0s 15ms/step - loss: 0.0405 - accuracy: 0.9883 - val_loss: 1.7192 - val_accuracy: 0.7757\n",
      "Epoch 79/100\n",
      "10/10 [==============================] - 0s 15ms/step - loss: 0.0927 - accuracy: 0.9696 - val_loss: 2.0714 - val_accuracy: 0.7477\n",
      "Epoch 80/100\n",
      "10/10 [==============================] - 0s 15ms/step - loss: 0.1097 - accuracy: 0.9720 - val_loss: 1.8531 - val_accuracy: 0.6822\n",
      "Epoch 81/100\n",
      "10/10 [==============================] - 0s 15ms/step - loss: 0.0934 - accuracy: 0.9766 - val_loss: 1.4569 - val_accuracy: 0.7196\n",
      "Epoch 82/100\n",
      "10/10 [==============================] - 0s 16ms/step - loss: 0.1526 - accuracy: 0.9509 - val_loss: 2.1458 - val_accuracy: 0.7290\n",
      "Epoch 83/100\n",
      "10/10 [==============================] - 0s 15ms/step - loss: 0.2009 - accuracy: 0.9299 - val_loss: 1.9530 - val_accuracy: 0.7477\n",
      "Epoch 84/100\n",
      "10/10 [==============================] - 0s 15ms/step - loss: 0.0952 - accuracy: 0.9673 - val_loss: 1.5373 - val_accuracy: 0.7290\n",
      "Epoch 85/100\n",
      "10/10 [==============================] - 0s 17ms/step - loss: 0.0532 - accuracy: 0.9836 - val_loss: 1.5624 - val_accuracy: 0.7383\n",
      "Epoch 86/100\n",
      "10/10 [==============================] - 0s 14ms/step - loss: 0.0574 - accuracy: 0.9813 - val_loss: 1.8089 - val_accuracy: 0.7196\n",
      "Epoch 87/100\n",
      "10/10 [==============================] - 0s 14ms/step - loss: 0.0469 - accuracy: 0.9883 - val_loss: 1.5983 - val_accuracy: 0.7477\n",
      "Epoch 88/100\n",
      "10/10 [==============================] - 0s 15ms/step - loss: 0.0303 - accuracy: 0.9953 - val_loss: 1.6928 - val_accuracy: 0.7570\n",
      "Epoch 89/100\n",
      "10/10 [==============================] - 0s 15ms/step - loss: 0.0246 - accuracy: 0.9977 - val_loss: 1.7446 - val_accuracy: 0.7570\n",
      "Epoch 90/100\n",
      "10/10 [==============================] - 0s 15ms/step - loss: 0.0118 - accuracy: 0.9977 - val_loss: 1.8013 - val_accuracy: 0.7757\n",
      "Epoch 91/100\n",
      "10/10 [==============================] - 0s 14ms/step - loss: 0.0086 - accuracy: 1.0000 - val_loss: 1.9092 - val_accuracy: 0.7850\n",
      "Epoch 92/100\n",
      "10/10 [==============================] - 0s 16ms/step - loss: 0.0206 - accuracy: 0.9930 - val_loss: 1.9593 - val_accuracy: 0.7757\n",
      "Epoch 93/100\n",
      "10/10 [==============================] - 0s 14ms/step - loss: 0.0108 - accuracy: 0.9977 - val_loss: 2.0671 - val_accuracy: 0.7757\n",
      "Epoch 94/100\n",
      "10/10 [==============================] - 0s 14ms/step - loss: 0.0142 - accuracy: 0.9953 - val_loss: 1.9535 - val_accuracy: 0.7944\n",
      "Epoch 95/100\n",
      "10/10 [==============================] - 0s 15ms/step - loss: 0.0066 - accuracy: 1.0000 - val_loss: 1.9974 - val_accuracy: 0.7757\n",
      "Epoch 96/100\n",
      "10/10 [==============================] - 0s 14ms/step - loss: 0.0122 - accuracy: 0.9977 - val_loss: 2.0863 - val_accuracy: 0.7944\n",
      "Epoch 97/100\n",
      "10/10 [==============================] - 0s 15ms/step - loss: 0.0056 - accuracy: 0.9977 - val_loss: 2.3852 - val_accuracy: 0.7570\n",
      "Epoch 98/100\n",
      "10/10 [==============================] - 0s 32ms/step - loss: 0.0096 - accuracy: 0.9977 - val_loss: 2.1695 - val_accuracy: 0.7196\n",
      "Epoch 99/100\n",
      "10/10 [==============================] - 0s 19ms/step - loss: 0.0062 - accuracy: 0.9977 - val_loss: 2.1777 - val_accuracy: 0.7664\n",
      "Epoch 100/100\n",
      "10/10 [==============================] - 0s 20ms/step - loss: 0.0048 - accuracy: 1.0000 - val_loss: 2.2204 - val_accuracy: 0.7664\n"
     ]
    }
   ],
   "source": [
    "# Train the model\n",
    "history = model.fit(X_train, y_train, epochs=100, \n",
    "                   validation_split=0.2, \n",
    "                    batch_size=45)"
   ]
  },
  {
   "cell_type": "code",
   "execution_count": 341,
   "id": "1452ed9c",
   "metadata": {},
   "outputs": [
    {
     "name": "stdout",
     "output_type": "stream",
     "text": [
      "6/6 [==============================] - 0s 5ms/step - loss: 2.1996 - accuracy: 0.7374\n",
      "Test accuracy: 0.7374301552772522\n"
     ]
    }
   ],
   "source": [
    "test_loss, test_accuracy = model.evaluate(X_test, y_test)\n",
    "print(f\"Test accuracy: {test_accuracy}\")"
   ]
  },
  {
   "cell_type": "code",
   "execution_count": 342,
   "id": "59ec4326",
   "metadata": {},
   "outputs": [
    {
     "name": "stdout",
     "output_type": "stream",
     "text": [
      "6/6 [==============================] - 0s 4ms/step\n"
     ]
    }
   ],
   "source": [
    "y_pred=model.predict(X_test)"
   ]
  },
  {
   "cell_type": "code",
   "execution_count": 343,
   "id": "2671355f",
   "metadata": {},
   "outputs": [
    {
     "data": {
      "text/plain": [
       "array([[5.0577205e-01, 4.8981503e-01, 3.8475473e-03, 5.0206226e-04,\n",
       "        2.9120007e-05, 3.4227272e-05],\n",
       "       [9.9659586e-01, 1.7244553e-05, 3.3867182e-03, 6.0745499e-08,\n",
       "        9.0761093e-10, 1.1194622e-08],\n",
       "       [5.7057782e-08, 2.8602474e-09, 9.9999982e-01, 7.1619682e-10,\n",
       "        6.0547408e-16, 6.7270184e-14],\n",
       "       ...,\n",
       "       [6.2154017e-05, 9.1487736e-06, 9.9842370e-01, 1.5050550e-03,\n",
       "        4.1113157e-09, 3.8663824e-08],\n",
       "       [4.0783198e-05, 1.0525250e-02, 9.8355073e-01, 5.8815996e-03,\n",
       "        8.8023000e-07, 6.0602713e-07],\n",
       "       [5.1266844e-03, 9.9474406e-01, 1.2512966e-04, 3.7358702e-06,\n",
       "        1.8654374e-07, 9.0366989e-08]], dtype=float32)"
      ]
     },
     "execution_count": 343,
     "metadata": {},
     "output_type": "execute_result"
    }
   ],
   "source": [
    "y_pred"
   ]
  },
  {
   "cell_type": "code",
   "execution_count": 344,
   "id": "857b6046",
   "metadata": {},
   "outputs": [],
   "source": [
    "class_labels = p8_dataset['Label'].unique()"
   ]
  },
  {
   "cell_type": "code",
   "execution_count": 345,
   "id": "0feba33d",
   "metadata": {},
   "outputs": [],
   "source": [
    "y_pred_labels = np.argmax(y_pred, axis=1)\n"
   ]
  },
  {
   "cell_type": "code",
   "execution_count": null,
   "id": "6254f75a",
   "metadata": {},
   "outputs": [],
   "source": []
  },
  {
   "cell_type": "code",
   "execution_count": 346,
   "id": "d2c83fad",
   "metadata": {},
   "outputs": [
    {
     "name": "stdout",
     "output_type": "stream",
     "text": [
      "All classes are present.\n",
      "Number of class labels does not match the number of classes.\n",
      "Label encoding is consistent.\n"
     ]
    }
   ],
   "source": [
    "# Check if all 10 classes are present in the true labels and predicted labels\n",
    "true_classes = np.unique(y_test)\n",
    "predicted_classes = np.unique(y_pred_labels)\n",
    "\n",
    "missing_classes = set(true_classes) ^ set(predicted_classes)\n",
    "\n",
    "if missing_classes:\n",
    "    print(f\"Missing classes: {missing_classes}\")\n",
    "else:\n",
    "    print(\"All classes are present.\")\n",
    "\n",
    "# Check if the class labels are correctly mapped\n",
    "if len(class_labels) != num_classes:\n",
    "    print(\"Number of class labels does not match the number of classes.\")\n",
    "else:\n",
    "    print(\"Class labels are correctly mapped.\")\n",
    "\n",
    "# Check label encoding consistency\n",
    "if len(true_classes) != len(predicted_classes):\n",
    "    print(\"Label encoding is inconsistent between true and predicted labels.\")\n",
    "else:\n",
    "    print(\"Label encoding is consistent.\")\n",
    "\n",
    "# If any issues are found, investigate and correct the data accordingly.\n"
   ]
  },
  {
   "cell_type": "code",
   "execution_count": 347,
   "id": "7ac01c2e",
   "metadata": {},
   "outputs": [
    {
     "data": {
      "image/png": "[encoded data removed]",
      "text/plain": [
       "<Figure size 800x600 with 2 Axes>"
      ]
     },
     "metadata": {},
     "output_type": "display_data"
    }
   ],
   "source": [
    "import pandas as pd\n",
    "import numpy as np\n",
    "from sklearn.metrics import confusion_matrix\n",
    "import matplotlib.pyplot as plt\n",
    "import seaborn as sns\n",
    "\n",
    "\n",
    "# Extract unique class labels from the 'Label' column\n",
    "class_labels = p16_datasets['Label'].unique()\n",
    "\n",
    "# Convert class labels to a list\n",
    "class_labels = list(class_labels)\n",
    "\n",
    "\n",
    "# Calculate the confusion matrix\n",
    "confusion = confusion_matrix(y_test, y_pred_labels)\n",
    "\n",
    "# Create a heatmap to visualize the confusion matrix\n",
    "plt.figure(figsize=(8, 6))\n",
    "sns.heatmap(confusion, annot=True, fmt='d', cmap='Blues', xticklabels=class_labels, yticklabels=class_labels)\n",
    "plt.xlabel('Predicted')\n",
    "plt.ylabel('True')\n",
    "plt.title('Confusion Matrix')\n",
    "plt.show()\n"
   ]
  },
  {
   "cell_type": "code",
   "execution_count": 348,
   "id": "60ac04ab",
   "metadata": {},
   "outputs": [
    {
     "data": {
      "image/png": "[encoded data removed]",
      "text/plain": [
       "<Figure size 800x600 with 2 Axes>"
      ]
     },
     "metadata": {},
     "output_type": "display_data"
    }
   ],
   "source": [
    "import pandas as pd\n",
    "import numpy as np\n",
    "from sklearn.metrics import confusion_matrix\n",
    "import matplotlib.pyplot as plt\n",
    "import seaborn as sns\n",
    "\n",
    "# Assuming you have already calculated the confusion matrix as 'confusion'\n",
    "# The matrix is expected to be in the format returned by the confusion_matrix function\n",
    "\n",
    "# Calculate the sum of true positives, true negatives, false positives, and false negatives for each class\n",
    "class_sums = np.sum(confusion, axis=1)\n",
    "\n",
    "# Normalize the confusion matrix by dividing each entry by the respective class sum\n",
    "normalized_confusion = confusion / class_sums[:, np.newaxis]\n",
    "\n",
    "# Extract unique class labels from the 'Label' column\n",
    "class_labels = p11_datasets['Label'].unique()\n",
    "\n",
    "# Convert class labels to a list\n",
    "class_labels = list(class_labels)\n",
    "\n",
    "# Create a heatmap to visualize the normalized confusion matrix (in percentage form)\n",
    "plt.figure(figsize=(8, 6))\n",
    "sns.heatmap(normalized_confusion, annot=True, fmt='.2%', cmap='Blues', xticklabels=class_labels, yticklabels=class_labels)\n",
    "plt.xlabel('Predicted')\n",
    "plt.ylabel('True')\n",
    "plt.title('Normalized Confusion Matrix (in percentage form)')\n",
    "plt.show()\n"
   ]
  },
  {
   "cell_type": "code",
   "execution_count": 349,
   "id": "a7aae647",
   "metadata": {},
   "outputs": [
    {
     "data": {
      "image/png": "[encoded data removed]",
      "text/plain": [
       "<Figure size 800x600 with 2 Axes>"
      ]
     },
     "metadata": {},
     "output_type": "display_data"
    }
   ],
   "source": [
    "import pandas as pd\n",
    "import numpy as np\n",
    "from sklearn.metrics import confusion_matrix\n",
    "import matplotlib.pyplot as plt\n",
    "import seaborn as sns\n",
    "\n",
    "# Assuming you have already calculated the confusion matrix as 'confusion'\n",
    "# The matrix is expected to be in the format returned by the confusion_matrix function\n",
    "\n",
    "# Calculate the sum of true positives, true negatives, false positives, and false negatives for each class\n",
    "class_sums = np.sum(confusion, axis=1)\n",
    "\n",
    "# Normalize the confusion matrix by dividing each entry by the respective class sum\n",
    "normalized_confusion = confusion / class_sums[:, np.newaxis]\n",
    "\n",
    "# Extract unique class labels from the 'Label' column\n",
    "class_labels = p16_dataset['Label'].unique()\n",
    "\n",
    "# Convert class labels to a list\n",
    "class_labels = list(class_labels)\n",
    "\n",
    "# Create a heatmap to visualize the normalized confusion matrix (without percentages)\n",
    "plt.figure(figsize=(8, 6))\n",
    "sns.heatmap(normalized_confusion, annot=True, fmt='.2f', cmap='Blues', xticklabels=class_labels, yticklabels=class_labels)\n",
    "plt.xlabel('Predicted')\n",
    "plt.ylabel('True')\n",
    "plt.title('Normalized Confusion Matrix person-8')\n",
    "plt.show()\n"
   ]
  },
  {
   "cell_type": "code",
   "execution_count": null,
   "id": "3e34b1d1",
   "metadata": {},
   "outputs": [],
   "source": []
  },
  {
   "cell_type": "code",
   "execution_count": 268,
   "id": "c27113e9",
   "metadata": {},
   "outputs": [],
   "source": [
    "\n",
    "#hyperparameter tuning\n",
    "import tensorflow as tf\n",
    "from tensorflow import keras\n",
    "from tensorflow.keras import layers\n",
    "from keras_tuner.tuners import RandomSearch\n"
   ]
  },
  {
   "cell_type": "code",
   "execution_count": 351,
   "id": "aa0cdf87",
   "metadata": {},
   "outputs": [
    {
     "name": "stdout",
     "output_type": "stream",
     "text": [
      "Trial 10 Complete [00h 00m 07s]\n",
      "val_accuracy: 0.7943925261497498\n",
      "\n",
      "Best val_accuracy So Far: 0.8130841255187988\n",
      "Total elapsed time: 00h 01m 03s\n"
     ]
    }
   ],
   "source": [
    "#hyper parameter tuning\n",
    "def build_model(hp):\n",
    "    model = keras.Sequential()\n",
    "    model.add(layers.Reshape((X_train.shape[1], 1), input_shape=(X_train.shape[1],)))\n",
    "    \n",
    "    # Tune the number of filters for Conv1D\n",
    "    hp_filters = hp.Int('filters', min_value=32, max_value=128, step=32)\n",
    "    model.add(layers.Conv1D(hp_filters, 3, activation='relu'))\n",
    "    \n",
    "    model.add(layers.MaxPooling1D(2))\n",
    "    model.add(layers.Flatten())\n",
    "    \n",
    "    # Tune the number of units in the Dense layer\n",
    "    hp_units = hp.Int('units', min_value=32, max_value=128, step=32)\n",
    "    model.add(layers.Dense(hp_units, activation='relu'))\n",
    "    \n",
    "    model.add(layers.Dense(10, activation='softmax'))\n",
    "    \n",
    "    # Tune the learning rate for the optimizer\n",
    "    hp_learning_rate = hp.Choice('learning_rate', values=[1e-2, 1e-3, 1e-4])\n",
    "\n",
    "    model.compile(optimizer=keras.optimizers.Adam(learning_rate=hp_learning_rate),\n",
    "                  loss='sparse_categorical_crossentropy',\n",
    "                  metrics=['accuracy'])\n",
    "    \n",
    "    return model\n",
    "tuner = RandomSearch(\n",
    "    build_model,\n",
    "    objective='val_accuracy',  # Choose the metric to optimize\n",
    "    max_trials=10,  # Number of hyperparameter combinations to try\n",
    "    directory='my_tuning_dir',  # Directory to store results\n",
    "    project_name='audio_classification'\n",
    ")\n",
    "tuner.search(X_train, y_train,\n",
    "             epochs=50,\n",
    "             validation_split=0.2,\n",
    "             batch_size=64)\n",
    "best_hp = tuner.get_best_hyperparameters(num_trials=1)[0]\n",
    "best_model = build_model(best_hp)\n"
   ]
  },
  {
   "cell_type": "code",
   "execution_count": 355,
   "id": "d998a2e3",
   "metadata": {
    "scrolled": true
   },
   "outputs": [
    {
     "name": "stdout",
     "output_type": "stream",
     "text": [
      "Epoch 1/20\n",
      "11/11 [==============================] - 0s 20ms/step - loss: 0.5857 - accuracy: 0.7710 - val_loss: 1.0705 - val_accuracy: 0.7103\n",
      "Epoch 2/20\n",
      "11/11 [==============================] - 0s 9ms/step - loss: 0.5674 - accuracy: 0.7687 - val_loss: 0.9738 - val_accuracy: 0.7290\n",
      "Epoch 3/20\n",
      "11/11 [==============================] - 0s 9ms/step - loss: 0.5224 - accuracy: 0.8061 - val_loss: 0.9776 - val_accuracy: 0.7383\n",
      "Epoch 4/20\n",
      "11/11 [==============================] - 0s 9ms/step - loss: 0.4526 - accuracy: 0.8224 - val_loss: 0.8814 - val_accuracy: 0.7570\n",
      "Epoch 5/20\n",
      "11/11 [==============================] - 0s 9ms/step - loss: 0.4379 - accuracy: 0.8388 - val_loss: 0.8872 - val_accuracy: 0.7477\n",
      "Epoch 6/20\n",
      "11/11 [==============================] - 0s 9ms/step - loss: 0.3938 - accuracy: 0.8388 - val_loss: 0.9422 - val_accuracy: 0.7477\n",
      "Epoch 7/20\n",
      "11/11 [==============================] - 0s 9ms/step - loss: 0.4057 - accuracy: 0.8528 - val_loss: 0.9642 - val_accuracy: 0.7103\n",
      "Epoch 8/20\n",
      "11/11 [==============================] - 0s 9ms/step - loss: 0.4143 - accuracy: 0.8481 - val_loss: 1.0429 - val_accuracy: 0.7477\n",
      "Epoch 9/20\n",
      "11/11 [==============================] - 0s 9ms/step - loss: 0.4696 - accuracy: 0.8224 - val_loss: 0.9616 - val_accuracy: 0.7383\n",
      "Epoch 10/20\n",
      "11/11 [==============================] - 0s 9ms/step - loss: 0.4620 - accuracy: 0.8318 - val_loss: 0.8834 - val_accuracy: 0.7757\n",
      "Epoch 11/20\n",
      "11/11 [==============================] - 0s 23ms/step - loss: 0.3531 - accuracy: 0.8668 - val_loss: 0.9481 - val_accuracy: 0.7477\n",
      "Epoch 12/20\n",
      "11/11 [==============================] - 0s 14ms/step - loss: 0.4109 - accuracy: 0.8435 - val_loss: 1.1733 - val_accuracy: 0.6822\n",
      "Epoch 13/20\n",
      "11/11 [==============================] - 0s 9ms/step - loss: 0.4043 - accuracy: 0.8528 - val_loss: 0.9467 - val_accuracy: 0.7757\n",
      "Epoch 14/20\n",
      "11/11 [==============================] - 0s 10ms/step - loss: 0.3321 - accuracy: 0.8808 - val_loss: 1.0359 - val_accuracy: 0.7383\n",
      "Epoch 15/20\n",
      "11/11 [==============================] - 0s 10ms/step - loss: 0.3372 - accuracy: 0.8949 - val_loss: 0.9871 - val_accuracy: 0.7196\n",
      "Epoch 16/20\n",
      "11/11 [==============================] - 0s 9ms/step - loss: 0.3623 - accuracy: 0.8621 - val_loss: 1.0047 - val_accuracy: 0.7383\n",
      "Epoch 17/20\n",
      "11/11 [==============================] - 0s 9ms/step - loss: 0.2983 - accuracy: 0.9065 - val_loss: 0.9737 - val_accuracy: 0.7757\n",
      "Epoch 18/20\n",
      "11/11 [==============================] - 0s 9ms/step - loss: 0.2688 - accuracy: 0.9065 - val_loss: 1.0976 - val_accuracy: 0.7477\n",
      "Epoch 19/20\n",
      "11/11 [==============================] - 0s 15ms/step - loss: 0.3768 - accuracy: 0.8481 - val_loss: 1.1373 - val_accuracy: 0.6636\n",
      "Epoch 20/20\n",
      "11/11 [==============================] - 0s 9ms/step - loss: 0.3023 - accuracy: 0.8808 - val_loss: 1.0325 - val_accuracy: 0.7757\n"
     ]
    },
    {
     "data": {
      "text/plain": [
       "<keras.callbacks.History at 0x2ce15729a80>"
      ]
     },
     "execution_count": 355,
     "metadata": {},
     "output_type": "execute_result"
    }
   ],
   "source": [
    "best_model.fit(X_train, y_train, epochs=20, validation_split=0.2, batch_size=42)\n"
   ]
  },
  {
   "cell_type": "code",
   "execution_count": 356,
   "id": "2ec07017",
   "metadata": {
    "scrolled": true
   },
   "outputs": [
    {
     "name": "stdout",
     "output_type": "stream",
     "text": [
      "6/6 [==============================] - 0s 6ms/step - loss: 1.0127 - accuracy: 0.7263\n",
      "Test accuracy: 0.7262569665908813\n"
     ]
    }
   ],
   "source": [
    "test_loss, test_accuracy = best_model.evaluate(X_test, y_test)\n",
    "print(f\"Test accuracy: {test_accuracy}\")\n"
   ]
  },
  {
   "cell_type": "code",
   "execution_count": null,
   "id": "510e1cba",
   "metadata": {},
   "outputs": [],
   "source": []
  },
  {
   "cell_type": "code",
   "execution_count": 357,
   "id": "9f1ae7e7",
   "metadata": {},
   "outputs": [
    {
     "name": "stdout",
     "output_type": "stream",
     "text": [
      "1/1 [==============================] - 0s 71ms/step\n",
      "Predicted label for C:\\Users\\pawan\\Desktop\\mv\\downloaddataset\\downloaded_wav_files\\200527_2220_00-05-00.07--00-05-00.28c.wav: frustrated\n"
     ]
    }
   ],
   "source": [
    "# Import necessary libraries\n",
    "import librosa\n",
    "import numpy as np\n",
    "\n",
    "# Define a function to preprocess and predict a single audio file\n",
    "def predict_audio_file(audio_file_path, model, label_encoder):\n",
    "    try:\n",
    "        # Load the audio file using librosa\n",
    "        audio_data, sample_rate = librosa.load(audio_file_path, sr=None)\n",
    "        \n",
    "        # Perform feature extraction (e.g., MFCCs)\n",
    "        mfccs = librosa.feature.mfcc(y=audio_data, sr=sample_rate, n_mfcc=20)\n",
    "        chroma = librosa.feature.chroma_stft(y=audio_data, sr=sample_rate)\n",
    "        spectral_contrast = librosa.feature.spectral_contrast(y=audio_data, sr=sample_rate)\n",
    "        \n",
    "        # Calculate the mean of MFCCs along each feature dimension\n",
    "        mfccs_mean = np.mean(mfccs, axis=1)\n",
    "        chroma_mean = np.mean(chroma, axis=1)\n",
    "        spectral_contrast_mean = np.mean(spectral_contrast, axis=1)\n",
    "        \n",
    "        # Concatenate the features into a feature vector\n",
    "        combined_feature_vector = np.hstack((mfccs_mean, chroma_mean, spectral_contrast_mean))\n",
    "        \n",
    "        # Make a prediction using the trained model\n",
    "        predicted_label = model.predict(np.expand_dims(combined_feature_vector, axis=0))\n",
    "        \n",
    "        # Decode the predicted label using the label encoder\n",
    "        predicted_label = label_encoder.inverse_transform([np.argmax(predicted_label)])\n",
    "        \n",
    "        return predicted_label[0]\n",
    "    \n",
    "    except Exception as e:\n",
    "        print(f\"Error processing {audio_file_path}: {str(e)}\")\n",
    "        return None\n",
    "\n",
    "# Example usage:\n",
    "real_audio_file_path = r\"C:\\Users\\pawan\\Desktop\\mv\\downloaddataset\\downloaded_wav_files\\200527_2220_00-05-00.07--00-05-00.28c.wav\"  # Replace with the path to your real audio file\n",
    "predicted_label = predict_audio_file(real_audio_file_path, model, label_encoder)\n",
    "\n",
    "if predicted_label:\n",
    "    print(f\"Predicted label for {real_audio_file_path}: {predicted_label}\")\n",
    "else:\n",
    "    print(\"Prediction failed.\")\n"
   ]
  },
  {
   "cell_type": "code",
   "execution_count": 31,
   "id": "be9c237c",
   "metadata": {},
   "outputs": [
    {
     "name": "stdout",
     "output_type": "stream",
     "text": [
      "[[-255.47180176  155.03268433  -56.9940834  ...   20.10864969\n",
      "    24.13335547   38.31744787]\n",
      " [-256.90475464  235.0158844   -35.71337891 ...   15.9880769\n",
      "    18.39287312   35.39542161]\n",
      " [-270.55050659  151.08876038  -58.21879578 ...   15.18162665\n",
      "    19.80441792   39.24672991]\n",
      " ...\n",
      " [-238.45690918  182.57872009  -60.37998199 ...   16.18859452\n",
      "    18.80407378   37.00130115]\n",
      " [-229.24040222  217.42886353  -50.63272095 ...   18.68636619\n",
      "    24.21351502   40.07831987]\n",
      " [-282.07345581  144.93917847  -21.43672943 ...   16.04088439\n",
      "    17.96710173   36.59973347]]\n"
     ]
    }
   ],
   "source": [
    "print(X_test)"
   ]
  },
  {
   "cell_type": "code",
   "execution_count": 367,
   "id": "e55192ec",
   "metadata": {},
   "outputs": [],
   "source": [
    "def extract_audiofeatures(dataset, features_list, labels_list):\n",
    "    null_file = 0\n",
    "    \n",
    "    for index, row in dataset.iterrows():\n",
    "        filename = row['Filename']\n",
    "        participant = row['Participant']\n",
    "        label = row['Label']\n",
    "        wav_file_path = os.path.join(wav_dir, filename)\n",
    "\n",
    "        # Check if the audio file exists before attempting to load it\n",
    "        if os.path.exists(wav_file_path):\n",
    "            try:\n",
    "                # Load the WAV file using librosa\n",
    "                audio_data, sample_rate = librosa.load(wav_file_path, sr=None)  # sr=None to preserve the original sample rate\n",
    "\n",
    "                # Perform feature extraction (e.g., MFCCs)\n",
    "                mfccs = librosa.feature.mfcc(y=audio_data, sr=sample_rate, n_mfcc=20)\n",
    "                chroma = librosa.feature.chroma_stft(y=audio_data, sr=sample_rate)\n",
    "                spectral_contrast = librosa.feature.spectral_contrast(y=audio_data, sr=sample_rate)\n",
    "\n",
    "                mfccs_mean = np.mean(mfccs, axis=1)\n",
    "                chroma_mean = np.mean(chroma, axis=1)\n",
    "                spectral_contrast_mean = np.mean(spectral_contrast, axis=1)\n",
    "\n",
    "                # Combine the extracted features into a single vector\n",
    "                combined_feature_vector = np.hstack((mfccs_mean, chroma_mean, spectral_contrast_mean))\n",
    "\n",
    "                # Append the extracted features and label to the lists\n",
    "                features_list.append(combined_feature_vector)\n",
    "                labels_list.append(label)\n",
    "\n",
    "            except Exception as e:\n",
    "                print(f\"Error processing {wav_file_path}: {str(e)}\")\n",
    "        else:\n",
    "            null_file += 1\n",
    "            print(f\"Audio file not found: {wav_file_path}\")\n",
    "\n",
    "    print(\"Related audio files not found count:\", null_file)\n",
    "\n",
    "    return null_file\n",
    "\n",
    "# Initialize lists to store features and labels\n",
    "\n",
    "\n",
    "# Now, features1 and labels1 should contain the extracted features and labels\n"
   ]
  },
  {
   "cell_type": "code",
   "execution_count": 369,
   "id": "91bc2fe9",
   "metadata": {},
   "outputs": [
    {
     "ename": "NameError",
     "evalue": "name 'p1_datasets' is not defined",
     "output_type": "error",
     "traceback": [
      "\u001b[1;31m---------------------------------------------------------------------------\u001b[0m",
      "\u001b[1;31mNameError\u001b[0m                                 Traceback (most recent call last)",
      "Cell \u001b[1;32mIn[369], line 4\u001b[0m\n\u001b[0;32m      1\u001b[0m features1 \u001b[38;5;241m=\u001b[39m []\n\u001b[0;32m      2\u001b[0m labels1 \u001b[38;5;241m=\u001b[39m []\n\u001b[1;32m----> 4\u001b[0m extract_audiofeatures(\u001b[43mp1_datasets\u001b[49m,features1,labels1)\n",
      "\u001b[1;31mNameError\u001b[0m: name 'p1_datasets' is not defined"
     ]
    }
   ],
   "source": [
    "features1 = []\n",
    "labels1 = []\n",
    "\n",
    "extract_audiofeatures(p1_datasets,features1,labels1)\n"
   ]
  },
  {
   "cell_type": "code",
   "execution_count": null,
   "id": "d9bcbf5c",
   "metadata": {},
   "outputs": [],
   "source": []
  }
 ],
 "metadata": {
  "kernelspec": {
   "display_name": "Python 3 (ipykernel)",
   "language": "python",
   "name": "python3"
  },
  "language_info": {
   "codemirror_mode": {
    "name": "ipython",
    "version": 3
   },
   "file_extension": ".py",
   "mimetype": "text/x-python",
   "name": "python",
   "nbconvert_exporter": "python",
   "pygments_lexer": "ipython3",
   "version": "3.10.9"
  }
 },
 "nbformat": 4,
 "nbformat_minor": 5
}
