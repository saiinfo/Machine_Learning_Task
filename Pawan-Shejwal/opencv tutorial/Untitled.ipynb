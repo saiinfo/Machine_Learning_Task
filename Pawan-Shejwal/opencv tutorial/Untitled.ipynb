{
 "cells": [
  {
   "cell_type": "code",
   "execution_count": 1,
   "id": "e17db2c4",
   "metadata": {},
   "outputs": [
    {
     "name": "stdout",
     "output_type": "stream",
     "text": [
      "frame is not valid\n",
      "4.8.0\n"
     ]
    }
   ],
   "source": [
    "import cv2 as cv\n",
    "\n",
    "#reading imgs\n",
    "# img=cv.imread(\"photos/beautiful.jpg\")\n",
    "# cv.imshow('tiger',img)\n",
    "# cv.waitKey(0) #wait for specific delay\n",
    "#destroy all windows \n",
    "\n",
    "#reading images\n",
    "\n",
    "\n",
    "\n",
    "capture = cv.VideoCapture(\"video.mp4\")\n",
    "\n",
    "while True:\n",
    "    ret, frame = capture.read()\n",
    "    \n",
    "    # Check if the frame is valid\n",
    "    if ret == False:\n",
    "        print(\"frame is not valid\")\n",
    "        break\n",
    "    cv.imshow('Video', frame)\n",
    "    # Exit the loop if 'd' key is pressed or if the video ends\n",
    "    if cv.waitKey(0)== 27& 0xFF == ord('d') or not ret:\n",
    "        break\n",
    "\n",
    "capture.release()\n",
    "cv.destroyAllWindows()\n",
    "\n",
    "print(cv.__version__)"
   ]
  },
  {
   "cell_type": "code",
   "execution_count": null,
   "id": "62b4eb94",
   "metadata": {},
   "outputs": [],
   "source": []
  }
 ],
 "metadata": {
  "kernelspec": {
   "display_name": "Python 3 (ipykernel)",
   "language": "python",
   "name": "python3"
  },
  "language_info": {
   "codemirror_mode": {
    "name": "ipython",
    "version": 3
   },
   "file_extension": ".py",
   "mimetype": "text/x-python",
   "name": "python",
   "nbconvert_exporter": "python",
   "pygments_lexer": "ipython3",
   "version": "3.10.9"
  }
 },
 "nbformat": 4,
 "nbformat_minor": 5
}
